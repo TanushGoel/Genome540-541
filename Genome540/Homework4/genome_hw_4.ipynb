{
 "cells": [
  {
   "cell_type": "code",
   "execution_count": 1,
   "metadata": {},
   "outputs": [],
   "source": [
    "root_dir = \"../../Downloads/GENOME540/\"\n",
    "test_wdag_path = root_dir + \"test_wdag.txt\"\n",
    "wdag_path = root_dir + \"wdag.txt\"\n",
    "wdag_unconstrained_path = root_dir + \"wdag_unconstrained.txt\"\n",
    "score_scheme_path = root_dir + \"scoring_scheme.txt\"\n",
    "test_fasta_path = root_dir + \"CP003508.txt\"\n",
    "fasta_path = root_dir + \"s_pyogenes.txt\"\n",
    "output_path = root_dir + \"sequence_wdag.txt\""
   ]
  },
  {
   "cell_type": "code",
   "execution_count": 2,
   "metadata": {},
   "outputs": [],
   "source": [
    "class Vertex:\n",
    "    def __init__(self, label):\n",
    "        self.label = label\n",
    "        self.edges = []\n",
    "\n",
    "    def add_edge(self, edge):\n",
    "        self.edges.append(edge)\n",
    "\n",
    "class Edge:\n",
    "    def __init__(self, label, start, end, weight):\n",
    "        self.label = label\n",
    "        self.start = start\n",
    "        self.end = end\n",
    "        self.weight = weight\n",
    "\n",
    "def read_input(filename):\n",
    "\n",
    "    vertices = []\n",
    "    start = None\n",
    "    end = None\n",
    "    with open(filename, 'r') as f:\n",
    "        for line in f:\n",
    "            line = line.split()\n",
    "\n",
    "            if line[0] == 'V':\n",
    "                label = line[1]\n",
    "                vertex = Vertex(label)\n",
    "                vertices.append(vertex)\n",
    "                if 'START' in line:\n",
    "                    start = label\n",
    "                if 'END' in line:\n",
    "                    end = label\n",
    "\n",
    "            elif line[0] == 'E':\n",
    "                label = line[1]\n",
    "                start_label = line[2]\n",
    "                end_label = line[3]\n",
    "                weight = int(line[4])\n",
    "                start_vertex = [v for v in vertices if v.label == start_label][0]\n",
    "                end_vertex = [v for v in vertices if v.label == end_label][0]\n",
    "                edge = Edge(label, start_vertex, end_vertex, weight)\n",
    "                start_vertex.add_edge(edge)\n",
    "\n",
    "    return vertices, start, end\n",
    "\n",
    "v, s, e = read_input(wdag_path)"
   ]
  },
  {
   "cell_type": "code",
   "execution_count": 3,
   "metadata": {},
   "outputs": [
    {
     "name": "stdout",
     "output_type": "stream",
     "text": [
      "Score: 7\n",
      "Begin: i\n",
      "End: xiii\n",
      "Path: CKP\n"
     ]
    }
   ],
   "source": [
    "def highest_weight_path_constrained(vertices, start, end):\n",
    "\n",
    "    def find_max_weight_path(v, scores, path_lists, visited=[]):\n",
    "\n",
    "        if v.label == end:\n",
    "            scores[v.label] = 0\n",
    "            path_lists[v.label] = []\n",
    "            return\n",
    "\n",
    "        max_score = float('-inf')\n",
    "        best_path_list = None\n",
    "        for e in v.edges:\n",
    "            if e.end.label in visited:\n",
    "                continue\n",
    "            if e.end.label not in scores:\n",
    "                find_max_weight_path(e.end, scores, path_lists, visited + [v.label])\n",
    "            if scores[e.end.label] + e.weight > max_score:\n",
    "                max_score = scores[e.end.label] + e.weight\n",
    "                best_path_list = path_lists[e.end.label] + [e.label]\n",
    "\n",
    "        scores[v.label] = max_score\n",
    "        path_lists[v.label] = best_path_list\n",
    "\n",
    "    scores = {}\n",
    "    path_lists = {}\n",
    "\n",
    "    start_vertex = [v for v in vertices if v.label == start][0]\n",
    "    find_max_weight_path(start_vertex, scores, path_lists)\n",
    "\n",
    "    max_score = float('-inf')\n",
    "    if scores[start] > max_score:\n",
    "        max_score = scores[start]\n",
    "    \n",
    "    return max_score, s, e, path_lists[s][::-1]\n",
    "\n",
    "score, start_node, end_node, path = highest_weight_path_constrained(v, s, e)\n",
    "\n",
    "print(\"Score:\", score)\n",
    "print(\"Begin:\", start_node)\n",
    "print(\"End:\", end_node)\n",
    "print(\"Path:\", \"\".join(path))"
   ]
  },
  {
   "cell_type": "code",
   "execution_count": 4,
   "metadata": {},
   "outputs": [
    {
     "name": "stdout",
     "output_type": "stream",
     "text": [
      "Score: 13\n",
      "Begin: ii\n",
      "End: ix\n",
      "Path: DFK\n"
     ]
    }
   ],
   "source": [
    "from collections import deque\n",
    "\n",
    "def highest_weight_path_unconstrained(vertices):\n",
    "    highest_weight = 0\n",
    "    highest_path = []\n",
    "    memo = {}\n",
    "    for vertex in vertices:\n",
    "        queue = deque([(vertex, [], 0, vertex)])\n",
    "        while queue:\n",
    "            curr_vertex, path, weight, traceback = queue.popleft()\n",
    "            if curr_vertex in memo and memo[curr_vertex][0] >= weight:\n",
    "                continue\n",
    "            memo[curr_vertex] = (weight, path, traceback)\n",
    "            for edge in curr_vertex.edges:\n",
    "                next_vertex = edge.end if edge.start == curr_vertex else edge.start\n",
    "                new_path = path + [edge]\n",
    "                new_weight = weight + edge.weight\n",
    "                if new_weight < 0:\n",
    "                    new_weight = 0\n",
    "                    new_path = []\n",
    "                    traceback = curr_vertex\n",
    "                if new_weight > highest_weight:\n",
    "                    highest_weight = new_weight\n",
    "                    highest_path = new_path\n",
    "                    start_node = traceback\n",
    "                    end_node = next_vertex\n",
    "                queue.append((next_vertex, new_path, new_weight, traceback))\n",
    "\n",
    "    return highest_weight, start_node.label, end_node.label, [x.label for x in highest_path]\n",
    "\n",
    "score, start_node, end_node, path = highest_weight_path_unconstrained(v)\n",
    "\n",
    "print(\"Score:\", score)\n",
    "print(\"Begin:\", start_node)\n",
    "print(\"End:\", end_node)\n",
    "print(\"Path:\", \"\".join(path))"
   ]
  },
  {
   "cell_type": "code",
   "execution_count": 5,
   "metadata": {},
   "outputs": [
    {
     "data": {
      "text/plain": [
       "{'A': -1.49, 'C': 0.74, 'G': 0.74, 'T': -1.49, 'N': 0.0}"
      ]
     },
     "execution_count": 5,
     "metadata": {},
     "output_type": "execute_result"
    }
   ],
   "source": [
    "def read_scoring_scheme(filename):\n",
    "    scoring_scheme = {}\n",
    "    with open(filename, 'r') as f:\n",
    "        for line in f:\n",
    "            line = line.strip().split()\n",
    "            scoring_scheme[line[0]] = float(line[1])\n",
    "    return scoring_scheme\n",
    "\n",
    "score_scheme = read_scoring_scheme(score_scheme_path)\n",
    "score_scheme"
   ]
  },
  {
   "cell_type": "code",
   "execution_count": 6,
   "metadata": {},
   "outputs": [
    {
     "name": "stdout",
     "output_type": "stream",
     "text": [
      "Fasta: s_pyogenes\n",
      "Non-alphabetic characters: 0\n",
      ">NZ_LS483338.1 Streptococcus pyogenes strain NCTC12064 chromosome 1, complete sequence\n",
      "*=1746380\n",
      "A=537381\n",
      "C=334523\n",
      "G=338691\n",
      "T=535785\n",
      "N=0\n"
     ]
    }
   ],
   "source": [
    "def read_sequence(filename):\n",
    "    \n",
    "    sequence = \"\"\n",
    "    base_counts = {\"A\": 0, \"C\": 0, \"T\": 0, \"G\": 0}\n",
    "    invalid_chars = 0\n",
    "\n",
    "    with open(filename, \"r\") as f:\n",
    "        for line in f:\n",
    "            if line[0] == \">\":\n",
    "                title = line\n",
    "                continue\n",
    "            for c in line:\n",
    "                if c == \" \" or c == \"\\n\":\n",
    "                    continue\n",
    "                try:\n",
    "                    base_counts[c.upper()] += 1\n",
    "                    sequence += c.upper()\n",
    "\n",
    "                except:\n",
    "                    invalid_chars += 1\n",
    "\n",
    "        print(\"Fasta:\", filename.split(\"/\")[-1][:-4])\n",
    "        print(\"Non-alphabetic characters:\", invalid_chars)\n",
    "        print(title.strip())\n",
    "        print(\"*=\" + str(len(sequence)))\n",
    "        print(\"A=\" + str(base_counts[\"A\"]))\n",
    "        print(\"C=\" + str(base_counts[\"C\"]))\n",
    "        print(\"G=\" + str(base_counts[\"G\"]))\n",
    "        print(\"T=\" + str(base_counts[\"T\"]))\n",
    "        print(\"N=0\")\n",
    "\n",
    "    return sequence\n",
    "\n",
    "seq = read_sequence(fasta_path)"
   ]
  },
  {
   "cell_type": "code",
   "execution_count": 7,
   "metadata": {},
   "outputs": [],
   "source": [
    "def create_sequence_graph(sequence, scoring_scheme):\n",
    "    vertices = []\n",
    "    for i, residue in enumerate(sequence):\n",
    "        label = str(i)\n",
    "        vertex = Vertex(label)\n",
    "        vertices.append(vertex)\n",
    "        if i > 0:\n",
    "            prev_vertex = vertices[i-1]\n",
    "            edge = Edge(residue, prev_vertex, vertex, scoring_scheme[residue])\n",
    "            prev_vertex.add_edge(edge)\n",
    "    return vertices\n",
    "\n",
    "verts = create_sequence_graph(seq, score_scheme)"
   ]
  },
  {
   "cell_type": "code",
   "execution_count": 8,
   "metadata": {},
   "outputs": [],
   "source": [
    "def write_sequence_graph(vertices, filename):\n",
    "    with open(filename, 'w') as f:\n",
    "        for vertex in vertices:\n",
    "            f.write('V {}\\n'.format(vertex.label))\n",
    "            for edge in vertex.edges:\n",
    "                f.write('E {} {} {} {}\\n'.format(edge.label, edge.start.label, edge.end.label, edge.weight))\n",
    "\n",
    "write_sequence_graph(verts, output_path)"
   ]
  },
  {
   "cell_type": "code",
   "execution_count": 8,
   "metadata": {},
   "outputs": [
    {
     "name": "stdout",
     "output_type": "stream",
     "text": [
      "Score: 13.28\n",
      "Begin: 235971\n",
      "End: 236001\n",
      "Path: GGCGGTGGCGGAGGAGGCGGCGGCGGTGCC\n"
     ]
    }
   ],
   "source": [
    "score, start_node, end_node, path = highest_weight_path_unconstrained(verts)\n",
    "\n",
    "print(\"Score:\", f'{score:.2f}')\n",
    "print(\"Begin:\", int(start_node)+2)\n",
    "print(\"End:\", int(end_node)+1)\n",
    "print(\"Path:\", \"\".join(path))"
   ]
  },
  {
   "cell_type": "code",
   "execution_count": 10,
   "metadata": {},
   "outputs": [
    {
     "data": {
      "text/plain": [
       "'Description: This sequence lies within the DQM35_RS01315 gene and encodes for DUF2207 domain-containing protein'"
      ]
     },
     "execution_count": 10,
     "metadata": {},
     "output_type": "execute_result"
    }
   ],
   "source": [
    "\"Description: This sequence lies within the DQM35_RS01315 gene and encodes for DUF2207 domain-containing protein\""
   ]
  },
  {
   "cell_type": "code",
   "execution_count": null,
   "metadata": {},
   "outputs": [],
   "source": []
  }
 ],
 "metadata": {
  "kernelspec": {
   "display_name": "deep-learning-env",
   "language": "python",
   "name": "python3"
  },
  "language_info": {
   "codemirror_mode": {
    "name": "ipython",
    "version": 3
   },
   "file_extension": ".py",
   "mimetype": "text/x-python",
   "name": "python",
   "nbconvert_exporter": "python",
   "pygments_lexer": "ipython3",
   "version": "3.8.15"
  },
  "orig_nbformat": 4,
  "vscode": {
   "interpreter": {
    "hash": "31c816c56b3f001d803f5818cb31842c102a89c21941618a472b08849d47f2d3"
   }
  }
 },
 "nbformat": 4,
 "nbformat_minor": 2
}
