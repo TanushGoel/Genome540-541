{
 "cells": [
  {
   "cell_type": "code",
   "execution_count": 66,
   "metadata": {},
   "outputs": [],
   "source": [
    "root_dir = \"../../Downloads/GENOME540/\"\n",
    "\n",
    "pyogenes_path = root_dir + \"s_pyogenes.gbff\"\n",
    "test1_path = root_dir + \"test1.gbff\"\n",
    "test2_path = root_dir + \"test2.gbff\"\n",
    "\n",
    "path = pyogenes_path"
   ]
  },
  {
   "cell_type": "code",
   "execution_count": 67,
   "metadata": {},
   "outputs": [
    {
     "name": "stdout",
     "output_type": "stream",
     "text": [
      "1746380\n"
     ]
    }
   ],
   "source": [
    "def get_sequence(file_path):\n",
    "\n",
    "  gb = open(file_path, \"r\").read()\n",
    "  \n",
    "  seq = \"\"\n",
    "  for char in gb[gb.find(\"ORIGIN\")+6:]:\n",
    "    if char in [\"a\", \"c\", \"g\", \"t\", \"n\"]:\n",
    "      seq += char.upper()\n",
    "\n",
    "  return seq\n",
    "\n",
    "seq = get_sequence(path)\n",
    "print(len(seq))"
   ]
  },
  {
   "cell_type": "code",
   "execution_count": 68,
   "metadata": {},
   "outputs": [
    {
     "name": "stdout",
     "output_type": "stream",
     "text": [
      "Nucleotide Histogram:\n",
      "A=537381\n",
      "C=334523\n",
      "G=338691\n",
      "T=535785\n",
      "N=0\n"
     ]
    }
   ],
   "source": [
    "from collections import Counter\n",
    "\n",
    "def nucleotide_histogram(sequence):\n",
    "\n",
    "    print(\"Nucleotide Histogram:\")\n",
    "\n",
    "    nucleotides = Counter(sequence)\n",
    "\n",
    "    for nucleo in [\"A\", \"C\", \"G\", \"T\", \"N\"]:\n",
    "        print(nucleo + \"=\" + str(nucleotides[nucleo]))\n",
    "\n",
    "nucleotide_histogram(seq)"
   ]
  },
  {
   "cell_type": "code",
   "execution_count": 69,
   "metadata": {},
   "outputs": [
    {
     "name": "stdout",
     "output_type": "stream",
     "text": [
      "Background Frequency:\n",
      "A=0.3073\n",
      "C=0.1927\n",
      "G=0.1927\n",
      "T=0.3073\n"
     ]
    }
   ],
   "source": [
    "def get_background_frequency(sequence):\n",
    "\n",
    "    print(\"Background Frequency:\")\n",
    "\n",
    "    nucleotides = {\"A\": 0, \"C\": 0, \"G\": 0, \"T\": 0}\n",
    "    complement = {\"A\": \"T\", \"C\": \"G\", \"G\": \"C\", \"T\": \"A\"}\n",
    "\n",
    "    total = 0\n",
    "    for i in range(len(sequence)-21):\n",
    "\n",
    "        s = sequence[i:i+21]\n",
    "\n",
    "        for char in s:\n",
    "            if char in nucleotides:\n",
    "                nucleotides[char] += 1\n",
    "                nucleotides[complement[char]] += 1\n",
    "                total += 2\n",
    "\n",
    "    for nucleo in nucleotides:\n",
    "        freq = nucleotides[nucleo] / total\n",
    "        print(nucleo + \"=\" + f'{freq:.4f}')\n",
    "\n",
    "get_background_frequency(seq)"
   ]
  },
  {
   "cell_type": "code",
   "execution_count": 70,
   "metadata": {},
   "outputs": [
    {
     "data": {
      "text/html": [
       "<div>\n",
       "<style scoped>\n",
       "    .dataframe tbody tr th:only-of-type {\n",
       "        vertical-align: middle;\n",
       "    }\n",
       "\n",
       "    .dataframe tbody tr th {\n",
       "        vertical-align: top;\n",
       "    }\n",
       "\n",
       "    .dataframe thead th {\n",
       "        text-align: right;\n",
       "    }\n",
       "</style>\n",
       "<table border=\"1\" class=\"dataframe\">\n",
       "  <thead>\n",
       "    <tr style=\"text-align: right;\">\n",
       "      <th></th>\n",
       "      <th>coord</th>\n",
       "      <th>compl</th>\n",
       "      <th>join</th>\n",
       "    </tr>\n",
       "  </thead>\n",
       "  <tbody>\n",
       "    <tr>\n",
       "      <th>0</th>\n",
       "      <td>[(1511, 2647)]</td>\n",
       "      <td>False</td>\n",
       "      <td>False</td>\n",
       "    </tr>\n",
       "    <tr>\n",
       "      <th>1</th>\n",
       "      <td>[(2722, 2919)]</td>\n",
       "      <td>False</td>\n",
       "      <td>False</td>\n",
       "    </tr>\n",
       "    <tr>\n",
       "      <th>2</th>\n",
       "      <td>[(3249, 4364)]</td>\n",
       "      <td>False</td>\n",
       "      <td>False</td>\n",
       "    </tr>\n",
       "    <tr>\n",
       "      <th>3</th>\n",
       "      <td>[(4434, 5003)]</td>\n",
       "      <td>False</td>\n",
       "      <td>False</td>\n",
       "    </tr>\n",
       "    <tr>\n",
       "      <th>4</th>\n",
       "      <td>[(5006, 8509)]</td>\n",
       "      <td>False</td>\n",
       "      <td>False</td>\n",
       "    </tr>\n",
       "  </tbody>\n",
       "</table>\n",
       "</div>"
      ],
      "text/plain": [
       "            coord  compl   join\n",
       "0  [(1511, 2647)]  False  False\n",
       "1  [(2722, 2919)]  False  False\n",
       "2  [(3249, 4364)]  False  False\n",
       "3  [(4434, 5003)]  False  False\n",
       "4  [(5006, 8509)]  False  False"
      ]
     },
     "execution_count": 70,
     "metadata": {},
     "output_type": "execute_result"
    }
   ],
   "source": [
    "import pandas as pd\n",
    "\n",
    "def get_sites(file_path):\n",
    "\n",
    "    df = pd.DataFrame(columns=[\"coord\", \"compl\", \"join\"])\n",
    "    df[[\"compl\", \"join\"]] = df[[\"compl\", \"join\"]].astype(bool)\n",
    "    complement = {\"A\": \"T\", \"C\": \"G\", \"G\": \"C\", \"T\": \"A\", \"N\": \"N\"}\n",
    "\n",
    "    with open(file_path, 'r') as f:\n",
    "        lines = [line.rstrip('\\n') for line in f]\n",
    "\n",
    "    for line_num in range(len(lines)):\n",
    "\n",
    "        if 'CDS ' in lines[line_num] and \"<\" not in lines[line_num] and \">\" not in lines[line_num]:\n",
    "\n",
    "            coord_line = lines[line_num].strip().split()[1]\n",
    "            compl = \"complement\" in coord_line\n",
    "            join = \"join\" in coord_line\n",
    "            dead_line = False\n",
    "\n",
    "            if join:\n",
    "                i = 0\n",
    "                while(lines[line_num + i][-1] == \",\"):\n",
    "                    i += 1\n",
    "                    next_line = lines[line_num + i].strip()\n",
    "                    if  \"<\"  in next_line or \">\" in next_line:\n",
    "                        dead_line = True\n",
    "                    coord_line += next_line\n",
    "\n",
    "            if coord_line[:3] == \"1..\":\n",
    "                dead_line = True\n",
    "\n",
    "            if dead_line:\n",
    "                continue\n",
    "\n",
    "            coords = coord_line.replace(\"complement\", \"\").replace(\"join\", \"\").replace(\"(\", \"\").replace(\")\", \"\").split(\",\")\n",
    "\n",
    "            coordz = []\n",
    "            for coord_pair in coords:\n",
    "                coordz.append(tuple([(int(x)-1) for x in coord_pair.split(\"..\")]))\n",
    "            \n",
    "            df = pd.concat([df, pd.DataFrame({\"coord\": [coordz], \"compl\": compl, \"join\": join})], ignore_index=True)\n",
    "\n",
    "    return df\n",
    "\n",
    "cds_sites = get_sites(path)\n",
    "cds_sites.head()"
   ]
  },
  {
   "cell_type": "code",
   "execution_count": 71,
   "metadata": {},
   "outputs": [
    {
     "data": {
      "text/html": [
       "<div>\n",
       "<style scoped>\n",
       "    .dataframe tbody tr th:only-of-type {\n",
       "        vertical-align: middle;\n",
       "    }\n",
       "\n",
       "    .dataframe tbody tr th {\n",
       "        vertical-align: top;\n",
       "    }\n",
       "\n",
       "    .dataframe thead th {\n",
       "        text-align: right;\n",
       "    }\n",
       "</style>\n",
       "<table border=\"1\" class=\"dataframe\">\n",
       "  <thead>\n",
       "    <tr style=\"text-align: right;\">\n",
       "      <th></th>\n",
       "      <th>coord</th>\n",
       "      <th>compl</th>\n",
       "      <th>join</th>\n",
       "      <th>cds_seq</th>\n",
       "      <th>cds_start0</th>\n",
       "      <th>cds_start1</th>\n",
       "    </tr>\n",
       "  </thead>\n",
       "  <tbody>\n",
       "    <tr>\n",
       "      <th>0</th>\n",
       "      <td>[(1511, 2647)]</td>\n",
       "      <td>False</td>\n",
       "      <td>False</td>\n",
       "      <td>AGGAGTTCTCATGATTCAATT</td>\n",
       "      <td>[1511]</td>\n",
       "      <td>[1743733]</td>\n",
       "    </tr>\n",
       "    <tr>\n",
       "      <th>1</th>\n",
       "      <td>[(2722, 2919)]</td>\n",
       "      <td>False</td>\n",
       "      <td>False</td>\n",
       "      <td>AGAAAAGGGAATGTATCAAAT</td>\n",
       "      <td>[2722]</td>\n",
       "      <td>[1743461]</td>\n",
       "    </tr>\n",
       "    <tr>\n",
       "      <th>2</th>\n",
       "      <td>[(3249, 4364)]</td>\n",
       "      <td>False</td>\n",
       "      <td>False</td>\n",
       "      <td>GATTCGCTAAATGGCTTTAAC</td>\n",
       "      <td>[3249]</td>\n",
       "      <td>[1742016]</td>\n",
       "    </tr>\n",
       "    <tr>\n",
       "      <th>3</th>\n",
       "      <td>[(4434, 5003)]</td>\n",
       "      <td>False</td>\n",
       "      <td>False</td>\n",
       "      <td>AAGAGAAAATATGGTAAAAAT</td>\n",
       "      <td>[4434]</td>\n",
       "      <td>[1741377]</td>\n",
       "    </tr>\n",
       "    <tr>\n",
       "      <th>4</th>\n",
       "      <td>[(5006, 8509)]</td>\n",
       "      <td>False</td>\n",
       "      <td>False</td>\n",
       "      <td>ATGGATAATCATGGATATTTT</td>\n",
       "      <td>[5006]</td>\n",
       "      <td>[1737871]</td>\n",
       "    </tr>\n",
       "  </tbody>\n",
       "</table>\n",
       "</div>"
      ],
      "text/plain": [
       "            coord  compl   join                cds_seq cds_start0 cds_start1\n",
       "0  [(1511, 2647)]  False  False  AGGAGTTCTCATGATTCAATT     [1511]  [1743733]\n",
       "1  [(2722, 2919)]  False  False  AGAAAAGGGAATGTATCAAAT     [2722]  [1743461]\n",
       "2  [(3249, 4364)]  False  False  GATTCGCTAAATGGCTTTAAC     [3249]  [1742016]\n",
       "3  [(4434, 5003)]  False  False  AAGAGAAAATATGGTAAAAAT     [4434]  [1741377]\n",
       "4  [(5006, 8509)]  False  False  ATGGATAATCATGGATATTTT     [5006]  [1737871]"
      ]
     },
     "execution_count": 71,
     "metadata": {},
     "output_type": "execute_result"
    }
   ],
   "source": [
    "def get_cds_sequence(sequence, df):\n",
    "\n",
    "    complement = {\"A\": \"T\", \"C\": \"G\", \"G\": \"C\", \"T\": \"A\", \"N\": \"N\"}\n",
    "\n",
    "    cds_starts0 = []\n",
    "    cds_starts1 = []\n",
    "    for row in df.itertuples():\n",
    "\n",
    "        compl = row.compl\n",
    "        join = row.join\n",
    "        coords = row.coord\n",
    "\n",
    "        cds_start0 = []\n",
    "        cds_start1 = []\n",
    "        for coord_pair in coords:\n",
    "            cds_start0.append(coord_pair[0])\n",
    "            cds_start1.append(len(sequence) - coord_pair[1])\n",
    "\n",
    "        cds_seq = \"\"\n",
    "        if not compl and not join:\n",
    "            cds_seq = sequence[coords[0][0]-10: coords[0][1]+11]\n",
    "\n",
    "        elif not compl and join:\n",
    "\n",
    "            cds_seq += sequence[coords[0][0]-10: coords[0][0]]\n",
    "\n",
    "            for coord_pair in coords:\n",
    "                cds_seq += sequence[coord_pair[0]: coord_pair[1]+1]\n",
    "\n",
    "            if len(cds_seq) < 21:\n",
    "                cds_seq += sequence[coords[-1][1]: coords[-1][1]+21-len(cds_seq)]\n",
    "\n",
    "        elif compl and not join:\n",
    "\n",
    "            for coord in range(coords[0][1]+10, coords[0][1], -1):\n",
    "                cds_seq += complement[sequence[coord]]\n",
    "            for coord in range(coords[0][1], coords[0][1]-11, -1):\n",
    "                cds_seq += complement[sequence[coord]]\n",
    "\n",
    "        elif compl and join:\n",
    "\n",
    "            for coord in range(coords[-1][1]+10, coords[-1][1], -1):\n",
    "                cds_seq += complement[sequence[coord]]\n",
    "\n",
    "            for coord_pair in coords[::-1]:\n",
    "                for coord in range(coord_pair[1], coord_pair[0]-1, -1):\n",
    "                    cds_seq += complement[sequence[coord]]\n",
    "\n",
    "            if len(cds_seq) < 21:\n",
    "                for coord in range(coords[0][0], coords[0][0]-(22-len(cds_seq)), -1):\n",
    "                    cds_seq += complement[sequence[coord]]\n",
    "            \n",
    "        cds_seq = cds_seq[:21]\n",
    "        assert len(cds_seq) == 21\n",
    "        df.at[row.Index, \"cds_seq\"] = cds_seq\n",
    "\n",
    "        cds_starts0.append(cds_start0)\n",
    "        cds_starts1.append(cds_start1)\n",
    "\n",
    "    df[\"cds_start0\"] = cds_starts0\n",
    "    df[\"cds_start1\"] = cds_starts1\n",
    "\n",
    "    return df\n",
    "\n",
    "cds_sites = get_cds_sequence(seq, cds_sites)\n",
    "sites = cds_sites.cds_seq.tolist()\n",
    "cds_sites.head()"
   ]
  },
  {
   "cell_type": "code",
   "execution_count": 72,
   "metadata": {},
   "outputs": [
    {
     "name": "stdout",
     "output_type": "stream",
     "text": [
      "Count Matrix:\n",
      "-10 602 53 777 188\n",
      "-9 546 73 793 208\n",
      "-8 606 71 688 255\n",
      "-7 633 134 487 366\n",
      "-6 637 129 397 457\n",
      "-5 747 167 267 439\n",
      "-4 702 189 209 520\n",
      "-3 708 286 305 321\n",
      "-2 638 255 209 518\n",
      "-1 542 320 215 543\n",
      "0 1478 1 73 68\n",
      "1 0 0 0 1620\n",
      "2 5 2 1612 1\n",
      "3 861 133 377 249\n",
      "4 560 572 141 347\n",
      "5 828 125 130 537\n",
      "6 813 216 306 285\n",
      "7 805 240 149 426\n",
      "8 744 148 179 549\n",
      "9 705 253 303 359\n",
      "10 619 268 177 556\n"
     ]
    }
   ],
   "source": [
    "import numpy as np\n",
    "\n",
    "def get_site_count_matrix(sitez):\n",
    "\n",
    "    print(\"Count Matrix:\")\n",
    "\n",
    "    nucleotides = {\"A\": 0, \"C\": 1, \"G\": 2, \"T\": 3}\n",
    "    count_matrix = np.zeros((21, 4))\n",
    "    \n",
    "    for site in sitez:\n",
    "        for i in range(len(site)):\n",
    "            base = site[i]\n",
    "            if base != \"N\":\n",
    "                count_matrix[i][nucleotides[base]] += 1\n",
    "\n",
    "    for i in range(len(count_matrix)):\n",
    "        print(i-10, ' '.join(str(int(x)) for x in count_matrix[i]))\n",
    "\n",
    "    return count_matrix\n",
    "\n",
    "count_mat = get_site_count_matrix(sites)"
   ]
  },
  {
   "cell_type": "code",
   "execution_count": 73,
   "metadata": {},
   "outputs": [
    {
     "name": "stdout",
     "output_type": "stream",
     "text": [
      "Frequency Matrix:\n",
      "-10 0.3716 0.0327 0.4796 0.1160\n",
      "-9 0.3370 0.0451 0.4895 0.1284\n",
      "-8 0.3741 0.0438 0.4247 0.1574\n",
      "-7 0.3907 0.0827 0.3006 0.2259\n",
      "-6 0.3932 0.0796 0.2451 0.2821\n",
      "-5 0.4611 0.1031 0.1648 0.2710\n",
      "-4 0.4333 0.1167 0.1290 0.3210\n",
      "-3 0.4370 0.1765 0.1883 0.1981\n",
      "-2 0.3938 0.1574 0.1290 0.3198\n",
      "-1 0.3346 0.1975 0.1327 0.3352\n",
      "0 0.9123 0.0006 0.0451 0.0420\n",
      "1 0.0000 0.0000 0.0000 1.0000\n",
      "2 0.0031 0.0012 0.9951 0.0006\n",
      "3 0.5315 0.0821 0.2327 0.1537\n",
      "4 0.3457 0.3531 0.0870 0.2142\n",
      "5 0.5111 0.0772 0.0802 0.3315\n",
      "6 0.5019 0.1333 0.1889 0.1759\n",
      "7 0.4969 0.1481 0.0920 0.2630\n",
      "8 0.4593 0.0914 0.1105 0.3389\n",
      "9 0.4352 0.1562 0.1870 0.2216\n",
      "10 0.3821 0.1654 0.1093 0.3432\n"
     ]
    }
   ],
   "source": [
    "def get_site_frequency_matrix(count_matrix):\n",
    "\n",
    "    print(\"Frequency Matrix:\")\n",
    "\n",
    "    frequency_matrix = []\n",
    "    for i in range(len(count_matrix)):\n",
    "        frequency_matrix.append(count_matrix[i] / sum(count_matrix[i]))\n",
    "    frequency_matrix = np.array(frequency_matrix)\n",
    "\n",
    "    for i in range(len(count_matrix)):\n",
    "        print(i-10, ' '.join(f'{x:.4f}' for x in frequency_matrix[i]))\n",
    "\n",
    "    return frequency_matrix\n",
    "\n",
    "freq_mat = get_site_frequency_matrix(count_mat)"
   ]
  },
  {
   "cell_type": "code",
   "execution_count": 74,
   "metadata": {},
   "outputs": [],
   "source": [
    "def get_reverse_complement(sequence):\n",
    "\n",
    "    complement = {\"A\": \"T\", \"C\": \"G\", \"G\": \"C\", \"T\": \"A\", \"N\": \"N\"}\n",
    "    return \"\".join([complement[base] for base in sequence[::-1]])"
   ]
  },
  {
   "cell_type": "code",
   "execution_count": 75,
   "metadata": {},
   "outputs": [],
   "source": [
    "def get_background_count_matrix(sequence):\n",
    "\n",
    "    nucleotides = {\"A\": 0, \"C\": 1, \"G\": 2, \"T\": 3}\n",
    "    complements = {\"A\": \"T\", \"C\": \"G\", \"G\": \"C\", \"T\": \"A\"}\n",
    "    count_matrix = np.zeros((21, 4))\n",
    "\n",
    "    sequence_reverse_compl = get_reverse_complement(sequence)\n",
    "    for i in range(len(sequence)-21):\n",
    "\n",
    "        s = sequence[i:i+21]\n",
    "        rev_compl = sequence_reverse_compl[i:i+21]\n",
    "    \n",
    "        for j in range(len(s)):\n",
    "            base = s[j]\n",
    "            if base != \"N\":\n",
    "                count_matrix[j][nucleotides[base]] += 1\n",
    "\n",
    "            base = rev_compl[j]\n",
    "            if base != \"N\":\n",
    "                count_matrix[j][nucleotides[base]] += 1\n",
    "\n",
    "    return count_matrix\n",
    "\n",
    "def get_background_frequency_matrix(sequence):\n",
    "\n",
    "    count_matrix = get_background_count_matrix(sequence)\n",
    "\n",
    "    frequency_matrix = []\n",
    "    for i in range(len(count_matrix)):\n",
    "        frequency_matrix.append(count_matrix[i] / sum(count_matrix[i]))\n",
    "    frequency_matrix = np.array(frequency_matrix)\n",
    "\n",
    "    return frequency_matrix\n",
    "\n",
    "background_freq_mat = get_background_frequency_matrix(seq)"
   ]
  },
  {
   "cell_type": "code",
   "execution_count": 76,
   "metadata": {},
   "outputs": [
    {
     "name": "stdout",
     "output_type": "stream",
     "text": [
      "Weight Matrix:\n",
      "-10 0.2743 -2.5586 1.3152 -1.4047\n",
      "-9 0.1335 -2.0967 1.3446 -1.2588\n",
      "-8 0.2839 -2.1368 1.1397 -0.9649\n",
      "-7 0.3468 -1.2205 0.6412 -0.4436\n",
      "-6 0.3559 -1.2753 0.3464 -0.1232\n",
      "-5 0.5857 -0.9028 -0.2259 -0.1812\n",
      "-4 0.4960 -0.7243 -0.5792 0.0631\n",
      "-3 0.5083 -0.1267 -0.0339 -0.6329\n",
      "-2 0.3581 -0.2922 -0.5792 0.0575\n",
      "-1 0.1229 0.0354 -0.5384 0.1255\n",
      "0 1.5701 -8.2865 -2.0967 -2.8718\n",
      "1 -99.0000 -99.0000 -99.0000 1.7025\n",
      "2 -6.6374 -7.2865 2.3681 -8.9593\n",
      "3 0.7906 -1.2313 0.2719 -0.9993\n",
      "4 0.1700 0.8733 -1.1470 -0.5205\n",
      "5 0.7342 -1.3208 -1.2642 0.1095\n",
      "6 0.7078 -0.5317 -0.0292 -0.8045\n",
      "7 0.6936 -0.3797 -1.0674 -0.2246\n",
      "8 0.5799 -1.0771 -0.8027 0.1414\n",
      "9 0.5022 -0.3036 -0.0434 -0.4714\n",
      "10 0.3145 -0.2205 -0.8189 0.1597\n"
     ]
    }
   ],
   "source": [
    "def get_weight_matrix(frequency_matrix, background_frequency_matrix):\n",
    "\n",
    "    print(\"Weight Matrix:\")\n",
    "\n",
    "    weight_matrix = frequency_matrix / background_frequency_matrix\n",
    "\n",
    "    weight_matrix = np.log2(weight_matrix, out=np.zeros_like(weight_matrix), where=(weight_matrix!=0))\n",
    "    weight_matrix[weight_matrix == 0] = -99\n",
    "\n",
    "    for i in range(len(weight_matrix)):\n",
    "        print(i-10, ' '.join(f'{x:.4f}' for x in weight_matrix[i]))\n",
    "\n",
    "    return weight_matrix\n",
    "\n",
    "weight_mat = get_weight_matrix(freq_mat, background_freq_mat)"
   ]
  },
  {
   "cell_type": "code",
   "execution_count": 77,
   "metadata": {},
   "outputs": [
    {
     "name": "stdout",
     "output_type": "stream",
     "text": [
      "Maximum Score: 17.707171292967562\n"
     ]
    }
   ],
   "source": [
    "def get_max_score():\n",
    "\n",
    "    maxx = 0\n",
    "    idxs = []\n",
    "    for scores in weight_mat:\n",
    "        idx = np.argmax(scores)\n",
    "        idxs.append(idx)\n",
    "        maxx += scores[idx]\n",
    "\n",
    "    print(\"Maximum Score:\", maxx)\n",
    "\n",
    "    return idxs\n",
    "\n",
    "max_idxs = get_max_score()"
   ]
  },
  {
   "cell_type": "code",
   "execution_count": 78,
   "metadata": {},
   "outputs": [],
   "source": [
    "def score(twenty_one, weight_matrix):\n",
    "\n",
    "    assert len(twenty_one) == 21\n",
    "\n",
    "    nucleotides = {\"A\": 0, \"C\": 1, \"G\": 2, \"T\": 3}\n",
    "\n",
    "    score = 0\n",
    "    for i in range(len(twenty_one)):\n",
    "        base = twenty_one[i]\n",
    "        if base == \"N\":\n",
    "            continue\n",
    "        score += weight_matrix[i][nucleotides[base]]\n",
    "\n",
    "    return score"
   ]
  },
  {
   "cell_type": "code",
   "execution_count": 79,
   "metadata": {},
   "outputs": [
    {
     "name": "stdout",
     "output_type": "stream",
     "text": [
      "Score Histogram CDS:\n",
      "-9 2\n",
      "-8 1\n",
      "-7 1\n",
      "-4 4\n",
      "-3 3\n",
      "-2 8\n",
      "-1 13\n",
      "0 34\n",
      "1 24\n",
      "2 37\n",
      "3 67\n",
      "4 86\n",
      "5 112\n",
      "6 139\n",
      "7 167\n",
      "8 193\n",
      "9 196\n",
      "10 198\n",
      "11 167\n",
      "12 86\n",
      "13 56\n",
      "14 20\n",
      "15 6\n"
     ]
    }
   ],
   "source": [
    "def histogram(data):\n",
    "    histogram = {}\n",
    "    for value in data:\n",
    "        if value < -50:\n",
    "            bin = \"lt-50\"\n",
    "        else:\n",
    "            bin = int(value)\n",
    "        if bin not in histogram:\n",
    "            histogram[bin] = 0\n",
    "        histogram[bin] += 1\n",
    "    return dict(sorted(histogram.items(), key=lambda x: (x[0] == \"lt-50\", x[0])))\n",
    "\n",
    "def get_site_scores(sitez, weight_matrix):\n",
    "\n",
    "    scores = []\n",
    "    for site in sitez:\n",
    "        scores.append(score(site, weight_matrix))\n",
    "\n",
    "    print(\"Score Histogram CDS:\")\n",
    "    hist = histogram(scores)\n",
    "    for i in hist:\n",
    "        print(i, hist[i])\n",
    "    \n",
    "    return scores\n",
    "\n",
    "site_scores = get_site_scores(sites, weight_mat)"
   ]
  },
  {
   "cell_type": "code",
   "execution_count": 58,
   "metadata": {},
   "outputs": [
    {
     "name": "stdout",
     "output_type": "stream",
     "text": [
      "Score Histogram All:\n",
      "-6 1\n",
      "-5 3\n",
      "-4 41\n",
      "-3 325\n",
      "-2 870\n",
      "-1 2309\n",
      "0 12183\n",
      "1 11173\n",
      "2 13572\n",
      "3 15282\n",
      "4 15946\n",
      "5 14365\n",
      "6 12238\n",
      "7 9108\n",
      "8 6079\n",
      "9 3254\n",
      "10 1559\n",
      "11 671\n",
      "12 198\n",
      "13 32\n",
      "14 8\n",
      "lt-50 5671951\n"
     ]
    }
   ],
   "source": [
    "def get_background_scores(sequence, weight_matrix):\n",
    "\n",
    "    scores = []\n",
    "    for i in range(len(sequence)-21):\n",
    "        scores.append(score(sequence[i:i+21], weight_matrix))\n",
    "        scores.append(score(get_reverse_complement(sequence[i:i+21]), weight_matrix))\n",
    "\n",
    "    print(\"Score Histogram All:\")\n",
    "    hist = histogram(scores)\n",
    "    for i in hist:\n",
    "        print(i, hist[i])\n",
    "\n",
    "    return scores\n",
    "\n",
    "background_scores = get_background_scores(seq, weight_mat)"
   ]
  },
  {
   "cell_type": "code",
   "execution_count": 80,
   "metadata": {},
   "outputs": [
    {
     "data": {
      "image/png": "[encoded data removed]",
      "text/plain": [
       "<Figure size 2000x500 with 1 Axes>"
      ]
     },
     "metadata": {},
     "output_type": "display_data"
    }
   ],
   "source": [
    "import matplotlib.pyplot as plt\n",
    "\n",
    "plt.figure(figsize=(20, 5))\n",
    "plt.style.use('seaborn-v0_8-whitegrid')\n",
    "plt.hist(site_scores, bins=50, facecolor='#2ab0ff', edgecolor='#169acf', linewidth=0.5)\n",
    "plt.show()"
   ]
  },
  {
   "cell_type": "code",
   "execution_count": 81,
   "metadata": {},
   "outputs": [
    {
     "data": {
      "image/png": "[encoded data removed]",
      "text/plain": [
       "<Figure size 2000x500 with 1 Axes>"
      ]
     },
     "metadata": {},
     "output_type": "display_data"
    }
   ],
   "source": [
    "plt.figure(figsize=(20, 5))\n",
    "plt.style.use('seaborn-v0_8-whitegrid')\n",
    "plt.hist(background_scores, bins=250, facecolor='#2ab0ff', edgecolor='#169acf', linewidth=0.5)\n",
    "plt.show()"
   ]
  },
  {
   "cell_type": "code",
   "execution_count": 82,
   "metadata": {},
   "outputs": [
    {
     "data": {
      "image/png": "[encoded data removed]",
      "text/plain": [
       "<Figure size 2000x500 with 1 Axes>"
      ]
     },
     "metadata": {},
     "output_type": "display_data"
    }
   ],
   "source": [
    "plt.figure(figsize=(20, 5))\n",
    "plt.style.use('seaborn-v0_8-whitegrid')\n",
    "plt.hist([x for x in background_scores if x > 10], bins=250, facecolor='#2ab0ff', edgecolor='#169acf', linewidth=0.5)\n",
    "plt.show()"
   ]
  },
  {
   "cell_type": "code",
   "execution_count": null,
   "metadata": {},
   "outputs": [],
   "source": [
    "import itertools\n",
    "\n",
    "def get_position_list(sequence, cds_starts0, cds_starts1, weight_matrix):\n",
    "\n",
    "    position_list = []\n",
    "    for i in range(len(sequence)-21):\n",
    "\n",
    "        if i+11 not in cds_starts0:\n",
    "            s = sequence[i:i+21]\n",
    "            scoree = score(s, weight_matrix)\n",
    "            if scoree >= 10:\n",
    "                position_list.append((i, 0, scoree))\n",
    "\n",
    "    rev_compl = get_reverse_complement(sequence)\n",
    "    for i in range(len(rev_compl)-21):\n",
    "\n",
    "        if i+11 not in cds_starts1:\n",
    "            s = rev_compl[i:i+21]\n",
    "            scoree = score(s, weight_matrix)\n",
    "            if scoree >= 10:\n",
    "                position_list.append((i, 1, scoree))\n",
    "\n",
    "    position_list = sorted(position_list, key=lambda x: x[0])\n",
    "\n",
    "    print(\"Position List:\")\n",
    "    for pos in position_list:\n",
    "        print(pos[0]+11, pos[1], pos[2])\n",
    "\n",
    "    return position_list\n",
    "\n",
    "pos_arr = get_position_list(seq, list(itertools.chain.from_iterable(cds_sites[\"cds_start0\"])), list(itertools.chain.from_iterable(cds_sites[\"cds_start1\"])), weight_mat)"
   ]
  },
  {
   "cell_type": "code",
   "execution_count": null,
   "metadata": {},
   "outputs": [],
   "source": []
  }
 ],
 "metadata": {
  "kernelspec": {
   "display_name": "deep-learning-env",
   "language": "python",
   "name": "python3"
  },
  "language_info": {
   "codemirror_mode": {
    "name": "ipython",
    "version": 3
   },
   "file_extension": ".py",
   "mimetype": "text/x-python",
   "name": "python",
   "nbconvert_exporter": "python",
   "pygments_lexer": "ipython3",
   "version": "3.8.15"
  },
  "orig_nbformat": 4,
  "vscode": {
   "interpreter": {
    "hash": "31c816c56b3f001d803f5818cb31842c102a89c21941618a472b08849d47f2d3"
   }
  }
 },
 "nbformat": 4,
 "nbformat_minor": 2
}
