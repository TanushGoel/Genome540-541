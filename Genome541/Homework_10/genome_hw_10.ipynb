{
 "cells": [
  {
   "cell_type": "markdown",
   "id": "693afe92",
   "metadata": {},
   "source": [
    "# GS541 phylogenetics homework 2\n"
   ]
  },
  {
   "cell_type": "markdown",
   "id": "7abe3314",
   "metadata": {},
   "source": [
    "_Exercise: Perform sequence alignment and build a tree on [measles data](https://raw.githubusercontent.com/matsen/teaching/main/data/measles.fasta). The easiest way to do this is via seaview (see course notes)._\n",
    "\n",
    "1. How confident do you feel in this sequence alignment?\n",
    "2. How confident do you feel in this tree?"
   ]
  },
  {
   "attachments": {},
   "cell_type": "markdown",
   "id": "a4ed15c2",
   "metadata": {},
   "source": [
    "1. I am quite confident in the sequence alignment. The sequences are very similar and the alignment is very clear.\n",
    "\n",
    "2. I am pretty confident in the tree. There are many branches with high support."
   ]
  },
  {
   "cell_type": "markdown",
   "id": "cf802647",
   "metadata": {},
   "source": [
    "_Exercise: Perform sequence alignment and tree inference on [HIV data](https://raw.githubusercontent.com/matsen/teaching/main/data/hiv-gag.fasta)._\n",
    "\n",
    "1. How confident do you feel in this sequence alignment?\n",
    "2. How confident do you feel in this tree?\n",
    "3. What standard phylogenetic model assumptions may be violated in this tree inference?"
   ]
  },
  {
   "attachments": {},
   "cell_type": "markdown",
   "id": "366211b2",
   "metadata": {},
   "source": [
    "1. I am not very confident with the sequence alignment because there are many gaps - the sequences are not very similar to each other.\n",
    "\n",
    "2. I am not very confident in the tree due to 1 and also low support in some branches.\n",
    "\n",
    "3. The standard phylogenetic model assumes that the sequences are independent and identically distributed. This is violated in this tree inference because the sequences are from the same virus and therefore are not independent."
   ]
  },
  {
   "cell_type": "markdown",
   "id": "c4d7069b",
   "metadata": {},
   "source": [
    "### Analyze sequence data from the early days of the SARS-CoV-2 pandemic"
   ]
  },
  {
   "cell_type": "markdown",
   "id": "8413412a",
   "metadata": {},
   "source": [
    "You will now take the role of epidemiologist and analyze an outbreak of SARS-CoV-2, namely [the outbreak that spread at a biotech conference](https://www.forbes.com/sites/brucelee/2020/12/12/boston-biogen-conference-led-to-over-300000-covid-19-coronavirus-cases/). To give credit where it is due, the sequence data is from [this paper](https://www.science.org/doi/10.1126/science.abe3261) though please don't read the paper: you'll be missing out on all of the fun! Sequences curated by Sarah Nadeau.\n",
    "\n",
    "We will use a best-of-class command-line tool for maximum-likelihood phylogenetic analysis, which is called [IQtree](http://www.iqtree.org/). \n",
    "IQtree is easy to use, and amazingly fast. You should have installed it in your conda environment if [you followed the setup instructions](https://matsen.github.io/teaching/courses/GS541/). \n",
    "\n",
    "_Exercise: Perform phylogenetic analysis applying IQTree to pre-aligned [SARS-CoV-2 data](https://raw.githubusercontent.com/matsen/teaching/main/data/sars2.fasta)._ \n",
    "\n",
    "* You can run it like `iqtree -B 1000 -o NC_045512v2 -s sars2.fasta`, where the `-B` flag runs 1000 iterations of the [ultrafast bootstrap](https://academic.oup.com/mbe/article/30/5/1188/997508), the `-o` flag sets the [outgroup](https://en.wikipedia.org/wiki/Outgroup_%28cladistics%29) and the `-s` flag is how you give IQtree a sequence alignment.\n",
    "* This produces a lot of output. Read it!\n",
    "    * IQtree helpfully selects a sequence evolution model for you. What one did it select? Look up what model it selected in the documentation. Describe the model in a few sentences, rather than just naming its name. If you had given IQtree a lot more sequence data, do you think the model selection would be the same or different?\n",
    "    * Check your understanding of the model by looking at the \"Rate parameters\" line of the output. Does the output there correspond to what you learned about the model?\n",
    "    * Poke around the output and the various files, and describe something you found interesting or informative."
   ]
  },
  {
   "attachments": {},
   "cell_type": "markdown",
   "id": "5e58d473",
   "metadata": {},
   "source": [
    "It chose the TIM+F+I model\n",
    "\n",
    "http://www.iqtree.org/doc/Substitution-Models#dna-models \n",
    "\n",
    "TIM = Transition model, AC=GT, AT=CG and unequal base freq\n",
    "\n",
    "+F = Empirical base frequencies. This is the default if the model has unequal base freq. In AliSim, if users neither specify base frequencies nor supply an input alignment, AliSim will generate base frequencies from empirical distributions.\n",
    "\n",
    "+I = Allowing for a proportion of invariable sites\n",
    "\n",
    "TIM+F+I = transition model (AC=GT, AT=CG, and unequal base freq), empirical base frequencies, and allowing for a proportion of invariable sites\n",
    "\n",
    "More data would probably change the model selection\n",
    "\n",
    "Rate parameters:  A-C: 1.00000  A-G: 1.09408  A-T: 0.10392  C-G: 0.10392  C-T: 4.28391  G-T: 1.00000\n",
    "\n",
    "Yes, the output corresponds to the model - AC=GT=1 and there is unequal base frequency\n",
    "\n",
    "I found it crazy how the logs say the data has 29903 nucleotide sites, but only 109 were not constant or invariant, and only 52 actually give informative variations to infer phylogenetic relationships."
   ]
  },
  {
   "cell_type": "markdown",
   "id": "c8f7869a",
   "metadata": {},
   "source": [
    "_Exercise: make a tree visualization that uses the [metadata SARS-CoV-2 data](https://raw.githubusercontent.com/matsen/teaching/main/data/sars2-metadata.csv) to annotate the tree with where each tip of the tree was sampled. You can do this, e.g., with colors._\n",
    "\n",
    "Here are three means of doing this:\n",
    "\n",
    "1. Use the [ete tree drawing functionality in Python](http://etetoolkit.org/docs/latest/tutorial/tutorial_drawing.html). This is a nice framework and you can just have your code here in the notebook. Hint: `tree.render(\"%%inline\")` is how you make ete render trees in the notebook.\n",
    "2. If you love R, [try out ggtree](https://guangchuangyu.github.io/ggtree-book/chapter-ggtree.html). Hint: use the `geom_tippoint(aes(...` means of annotating trees.\n",
    "3. You can hack together something with sequence names that will allow you to see the annotation and visualize using seaview, though make sure that you have the right rooting (when I tried this seaview rerooted the tree). <http://icytree.org> is an alternative.\n",
    "\n",
    "If you use options 2 or 3, you can attach a separate file with your tree visualizations.\n",
    "\n",
    "In any case, make sure your visualization shows the node support values."
   ]
  },
  {
   "attachments": {},
   "cell_type": "markdown",
   "id": "2dfc8c08",
   "metadata": {},
   "source": [
    "see tree"
   ]
  },
  {
   "cell_type": "markdown",
   "id": "4e7f5c17",
   "metadata": {},
   "source": [
    "_Exercise: what does the tree tell you about the outbreak?_\n",
    "\n",
    "The \"Surveillance\" sequences came from the community, whereas the others were sampled from outbreak investigations. Here are some things you might want to consider:\n",
    "\n",
    "* Given the sequence data that you had, how many introductions were there into the skilled nursing facility? How many of these \"took off\"? How might your answer to the \"number of introductions\" change if you sampled more in the skilled nursing facility?\n",
    "* Do you see evidence of transmission from the nursing facility to the community? From the conference?\n",
    "* Evaluate the bootstrap confidence values for the branches supporting these introductions. Do they give you confidence in your conclusions? \n",
    "* (Challenge question): if you consider what the bootstrap is doing, and the fact that these are low-diversity alignments, can you think of a reason that these bootstrap values would be artifactually low?"
   ]
  },
  {
   "attachments": {},
   "cell_type": "markdown",
   "id": "3a10c0de",
   "metadata": {},
   "source": [
    "There were 2 introductions into the skilled nursing facility. One \"took off.\" If we sampled more in the skilled nursing facility, we would probably find more introductions. \n",
    "\n",
    "I do not see any evidence of transmission from the nursing facility to the community, but I do see a bit of evidence from the conference to the community. There is 1 surveillance sequence that branches off a conference sequence.\n",
    "\n",
    "No - not confident\n",
    "\n",
    "I think the bootstrap values are low because there is very little variation in the data - the sequences are so similar to each other, so there is not much variation to infer phylogenetic relationships"
   ]
  },
  {
   "cell_type": "markdown",
   "id": "00c1a27c",
   "metadata": {},
   "source": [
    "_Exercise: Reflect on what you learned in this course module. Did anything surprise you? Is there something you wanted to learn but didn't? Did we spend too much time on one part or another of the material?_"
   ]
  },
  {
   "attachments": {},
   "cell_type": "markdown",
   "id": "72c357a6",
   "metadata": {},
   "source": [
    "I think what amazed me the most was how you can make accurate trees with many trees that have low support, and also are able to track the spread accurately through these low-confidence trees. I thought the time spent on different topics was perfect, especially for Bayesian inference - it was a great introduction. I think I would have liked to apply phylogenetics to more real-world data, but I'm glad you gave us the building blocks to do so on our own."
   ]
  }
 ],
 "metadata": {
  "kernelspec": {
   "display_name": "Python 3 (ipykernel)",
   "language": "python",
   "name": "python3"
  },
  "language_info": {
   "codemirror_mode": {
    "name": "ipython",
    "version": 3
   },
   "file_extension": ".py",
   "mimetype": "text/x-python",
   "name": "python",
   "nbconvert_exporter": "python",
   "pygments_lexer": "ipython3",
   "version": "3.8.16"
  }
 },
 "nbformat": 4,
 "nbformat_minor": 5
}
