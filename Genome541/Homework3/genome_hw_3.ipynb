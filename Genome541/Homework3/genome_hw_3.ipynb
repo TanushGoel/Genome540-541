{
 "cells": [
  {
   "cell_type": "markdown",
   "metadata": {
    "button": false,
    "new_sheet": false
   },
   "source": [
    "# Introduction"
   ]
  },
  {
   "attachments": {},
   "cell_type": "markdown",
   "metadata": {
    "button": false,
    "new_sheet": false
   },
   "source": [
    "## Goals\n",
    "These are the following goals of this homework: \n",
    "\n",
    "(1) Gain a hands on experience of single-cell RNA-seq analysis using [`scanpy`](https://scanpy.readthedocs.io/en/stable/). \n",
    "\n",
    "Additionally, scanpy uses a custom data structure called [`Anndata`](https://anndata.readthedocs.io/en/latest/) - a quick run down on the data structure will also be useful for the homework.\n",
    "\n",
    "(2) Exploration of trajectory detection algorithms such Palantir, scVelo and CellRank. \n",
    "\n",
    "## Data\n",
    "The dataset we will explore is a  RNA dataset generated using CD34+ human bone marrow cells to characterize human hematopoiesis. Data is available as `Anndata` objects and there are two objects:\n",
    " 1. `cd34_multiome_rna_data.h5ad`: RNA gene expression. Cell type information is included in this Anndata object\n",
    " 2. `cd34_multiome_rna_velocyto_data.h5ad`: Spliced and unspliced read counts computed using ['velocyto'](http://velocyto.org)."
   ]
  },
  {
   "cell_type": "markdown",
   "metadata": {
    "button": false,
    "new_sheet": false
   },
   "source": [
    "# Import necessary packages"
   ]
  },
  {
   "cell_type": "code",
   "execution_count": null,
   "id": "8dc7637f",
   "metadata": {},
   "outputs": [],
   "source": [
    "import scanpy as sc\n",
    "import scanpy.external as sce\n",
    "import palantir\n",
    "import scvelo as scv\n",
    "import cellrank as cr"
   ]
  },
  {
   "cell_type": "code",
   "execution_count": null,
   "metadata": {
    "ExecuteTime": {
     "end_time": "2022-05-04T20:09:10.677292Z",
     "start_time": "2022-05-04T20:09:07.439730Z"
    },
    "button": false,
    "new_sheet": false
   },
   "outputs": [],
   "source": [
    "import numpy as np\n",
    "import pandas as pd"
   ]
  },
  {
   "cell_type": "code",
   "execution_count": null,
   "metadata": {
    "ExecuteTime": {
     "end_time": "2022-05-04T20:09:10.683065Z",
     "start_time": "2022-05-04T20:09:10.680381Z"
    },
    "button": false,
    "new_sheet": false
   },
   "outputs": [],
   "source": [
    "import matplotlib\n",
    "import matplotlib.pyplot as plt\n",
    "import seaborn as sns"
   ]
  },
  {
   "cell_type": "code",
   "execution_count": null,
   "metadata": {
    "ExecuteTime": {
     "end_time": "2022-05-04T20:09:10.696551Z",
     "start_time": "2022-05-04T20:09:10.684956Z"
    },
    "button": false,
    "new_sheet": false
   },
   "outputs": [],
   "source": [
    "%matplotlib inline"
   ]
  },
  {
   "cell_type": "markdown",
   "metadata": {
    "button": false,
    "new_sheet": false
   },
   "source": [
    "# scRNA analysis"
   ]
  },
  {
   "cell_type": "code",
   "execution_count": null,
   "metadata": {
    "ExecuteTime": {
     "end_time": "2022-05-04T20:09:11.046118Z",
     "start_time": "2022-05-04T20:09:10.699119Z"
    },
    "button": false,
    "new_sheet": false
   },
   "outputs": [],
   "source": [
    "FILES_PATH = \"/Users/tgoel/Downloads/Classes/GENOME/Genome541/hw3/\"\n",
    "\n",
    "# Load RNA data\n",
    "rna_ad = sc.read(FILES_PATH + 'cd34_multiome_rna_data.h5ad')\n",
    "rna_ad"
   ]
  },
  {
   "cell_type": "markdown",
   "metadata": {
    "button": false,
    "new_sheet": false
   },
   "source": [
    "## Preprocess"
   ]
  },
  {
   "cell_type": "markdown",
   "metadata": {
    "button": false,
    "new_sheet": false
   },
   "source": [
    "This section deals with preprocessing and analysis of the data. The provided data is pre-filtered"
   ]
  },
  {
   "cell_type": "code",
   "execution_count": null,
   "metadata": {
    "ExecuteTime": {
     "end_time": "2022-05-04T20:09:11.429365Z",
     "start_time": "2022-05-04T20:09:11.056852Z"
    },
    "button": false,
    "new_sheet": false
   },
   "outputs": [],
   "source": [
    "# Normalize and log transform using scanpy functions\n",
    "sc.pp.normalize_per_cell(rna_ad) # sc.pp.normalize_total(rna_ad, target_sum=1)\n",
    "sc.pp.log1p(rna_ad)"
   ]
  },
  {
   "attachments": {},
   "cell_type": "markdown",
   "metadata": {
    "button": false,
    "new_sheet": false
   },
   "source": [
    "<b>`Questions`</b>: Why is normalization and log transformation necessary? How would skipping one or both cell types change the results?\n",
    "\n",
    "Normalization and log transformation are important because they help improve the quality of the data. It is especially important here because there is a large skew in the distribution of total molecules (UMIs) per cell making expression values hard to compare across cells. Log transformation would help transform this highly skewed data into a more normal distribution, and normalization can help prevent outliers with larger feature values from dominating the analysis. Skipping one or both of these steps would make the data more difficult to analyze and interpret."
   ]
  },
  {
   "cell_type": "markdown",
   "metadata": {
    "button": false,
    "new_sheet": false
   },
   "source": [
    "Given the high degree of noise in single-cell data, it is important to select informative features (genes) that best explain the data. This feature selection should be system agnostic and should not rely on prior biological knowledge. Normalized dispersion, a measure gene variability corrected for the mean is a good way to select informative genes. \n",
    "\n",
    "Drop-outs still pose an issue post feature selection for measuring distance between cells. PCA can be used a build a \"meta-gene\" representation of the data to measure disances between cells."
   ]
  },
  {
   "cell_type": "code",
   "execution_count": null,
   "metadata": {
    "ExecuteTime": {
     "end_time": "2022-05-04T20:20:29.859342Z",
     "start_time": "2022-05-04T20:20:26.601733Z"
    },
    "button": false,
    "new_sheet": false
   },
   "outputs": [],
   "source": [
    "# Use scanpy to select 1500 highly variable gene selection and perform PCA\n",
    "sc.pp.highly_variable_genes(rna_ad, n_top_genes=1500)"
   ]
  },
  {
   "cell_type": "code",
   "execution_count": null,
   "metadata": {
    "ExecuteTime": {
     "end_time": "2022-05-04T20:20:30.361434Z",
     "start_time": "2022-05-04T20:20:29.861611Z"
    },
    "button": false,
    "new_sheet": false
   },
   "outputs": [],
   "source": [
    "# Plot the normalized dispersion compared to mean and highlight the selected highly variable genes\n",
    "sc.pl.highly_variable_genes(rna_ad)"
   ]
  },
  {
   "cell_type": "code",
   "execution_count": null,
   "id": "f46e173d",
   "metadata": {},
   "outputs": [],
   "source": [
    "rna_ad.raw = rna_ad\n",
    "#rna_ad = rna_ad[:, rna_ad.var.highly_variable]"
   ]
  },
  {
   "cell_type": "markdown",
   "metadata": {
    "button": false,
    "new_sheet": false
   },
   "source": [
    "A number of dimensionality reduction techniques are available for visualization and clustering of single-cell data. Here we will use `umap` for visualization and `leiden` for clustering of cells"
   ]
  },
  {
   "cell_type": "code",
   "execution_count": null,
   "id": "f90a4418",
   "metadata": {},
   "outputs": [],
   "source": [
    "sc.pp.neighbors(rna_ad)\n",
    "sc.tl.umap(rna_ad)\n",
    "sc.tl.leiden(rna_ad)"
   ]
  },
  {
   "cell_type": "code",
   "execution_count": null,
   "metadata": {
    "ExecuteTime": {
     "end_time": "2022-05-04T20:20:57.681398Z",
     "start_time": "2022-05-04T20:20:57.189537Z"
    },
    "button": false,
    "new_sheet": false
   },
   "outputs": [],
   "source": [
    "# Visualize leiden clusters and annotated cell types on the umap\n",
    "sc.pl.umap(rna_ad, color=['leiden', 'celltype'], legend_loc='on data', ncols=2, wspace=0.3, hspace=0.3, frameon=False, size=50, alpha=0.5, palette='tab20')"
   ]
  },
  {
   "cell_type": "markdown",
   "metadata": {
    "button": false,
    "new_sheet": false
   },
   "source": [
    "## Differential analysis"
   ]
  },
  {
   "cell_type": "markdown",
   "metadata": {
    "button": false,
    "new_sheet": false
   },
   "source": [
    "Differential gene expression can be used to used significantly high (or low) genes in each cell type. "
   ]
  },
  {
   "cell_type": "code",
   "execution_count": null,
   "metadata": {
    "ExecuteTime": {
     "end_time": "2022-05-04T20:21:00.178520Z",
     "start_time": "2022-05-04T20:20:57.683323Z"
    },
    "button": false,
    "new_sheet": false
   },
   "outputs": [],
   "source": [
    "# Identify the top 5 differentially expressed genes for each cell type \n",
    "sc.tl.rank_genes_groups(rna_ad, 'leiden', method='wilcoxon')\n",
    "pd.DataFrame(rna_ad.uns['rank_genes_groups']['names']).head(5)"
   ]
  },
  {
   "cell_type": "code",
   "execution_count": null,
   "metadata": {
    "ExecuteTime": {
     "end_time": "2022-05-04T20:21:00.973354Z",
     "start_time": "2022-05-04T20:21:00.180972Z"
    },
    "button": false,
    "new_sheet": false
   },
   "outputs": [],
   "source": [
    "# Plot expression of marker genes per cell type and cluster\n",
    "sc.pl.rank_genes_groups(rna_ad, n_genes=5)"
   ]
  },
  {
   "cell_type": "code",
   "execution_count": null,
   "metadata": {
    "ExecuteTime": {
     "end_time": "2022-05-04T20:21:01.740683Z",
     "start_time": "2022-05-04T20:21:00.974493Z"
    },
    "button": false,
    "new_sheet": false
   },
   "outputs": [],
   "source": [
    "# Plot marker genes per cell type and cluster\n",
    "sc.pl.rank_genes_groups_violin(rna_ad, n_genes=5)"
   ]
  },
  {
   "cell_type": "code",
   "execution_count": null,
   "id": "1669ef2c",
   "metadata": {},
   "outputs": [],
   "source": [
    "rna_ad.uns['rank_genes_groups']['names']"
   ]
  },
  {
   "cell_type": "markdown",
   "metadata": {
    "button": false,
    "new_sheet": false
   },
   "source": [
    "<b>`Exercise`</b>: Use the identified markers to associate each cluster to a cell type"
   ]
  },
  {
   "cell_type": "code",
   "execution_count": null,
   "metadata": {
    "ExecuteTime": {
     "end_time": "2022-05-04T20:21:01.745541Z",
     "start_time": "2022-05-04T20:21:01.742436Z"
    },
    "button": false,
    "code_folding": [],
    "new_sheet": false
   },
   "outputs": [],
   "source": [
    "# Use the identified markers to associate each cluster with a cell type\n",
    "marker_genes_dict = {\n",
    "    'B cells': ['TUBA1B', 'HMGB2', 'BACH2'],\n",
    "    'Mono': ['MPO'],\n",
    "    'CLP': ['NEGR1'],\n",
    "    'Ery': ['XACT'],\n",
    "    'HMP': ['PRSS57', 'SPINK2'],\n",
    "    'HSC': ['RPS24', 'NKAIN2'],\n",
    "    'MEP': ['MED12L']\n",
    "}\n",
    "\n",
    "sc.pl.dotplot(rna_ad, marker_genes_dict, 'celltype', dendrogram=False)"
   ]
  },
  {
   "cell_type": "markdown",
   "metadata": {
    "button": false,
    "new_sheet": false
   },
   "source": [
    "# scRNA analysis without B cells"
   ]
  },
  {
   "cell_type": "markdown",
   "metadata": {
    "button": false,
    "new_sheet": false
   },
   "source": [
    "Create a new `anndata` object by removing the B cells from the data. We will use this data subset for trajectory analysis. Since the set of cells under consideration changed, one will need to recompute the highly variable genes, UMAP and clustering"
   ]
  },
  {
   "cell_type": "code",
   "execution_count": null,
   "metadata": {
    "ExecuteTime": {
     "end_time": "2022-05-04T20:21:01.759752Z",
     "start_time": "2022-05-04T20:21:01.753898Z"
    },
    "button": false,
    "new_sheet": false
   },
   "outputs": [],
   "source": [
    "# Create an anndata object without B cells and name it as `rna_sub`\n",
    "rna_sub = sc.AnnData(rna_ad.X[rna_ad.obs['celltype'] != 'B cells'], obs=rna_ad.obs[rna_ad.obs['celltype'] != 'B cells'])\n",
    "rna_sub"
   ]
  },
  {
   "cell_type": "code",
   "execution_count": null,
   "metadata": {
    "ExecuteTime": {
     "end_time": "2022-05-04T20:21:03.528901Z",
     "start_time": "2022-05-04T20:21:01.761082Z"
    },
    "button": false,
    "new_sheet": false
   },
   "outputs": [],
   "source": [
    "# Select 1500 highly variable genes and perform PCA\n",
    "sc.tl.pca(rna_sub, svd_solver='arpack')\n",
    "sc.pl.pca(rna_sub, color='celltype')"
   ]
  },
  {
   "attachments": {},
   "cell_type": "markdown",
   "metadata": {
    "button": false,
    "new_sheet": false
   },
   "source": [
    "<b>`Question`</b>: How many genes are highly variable specifically in the subset of cells?"
   ]
  },
  {
   "cell_type": "code",
   "execution_count": null,
   "metadata": {
    "ExecuteTime": {
     "end_time": "2022-05-04T20:21:03.539662Z",
     "start_time": "2022-05-04T20:21:03.533840Z"
    },
    "button": false,
    "new_sheet": false
   },
   "outputs": [],
   "source": [
    "# How many genes are highly variable specifically in the subset of cells?\n",
    "sc.pp.highly_variable_genes(rna_sub)\n",
    "rna_sub.var.highly_variable.sum()"
   ]
  },
  {
   "cell_type": "code",
   "execution_count": null,
   "metadata": {
    "ExecuteTime": {
     "end_time": "2022-05-04T20:21:12.811333Z",
     "start_time": "2022-05-04T20:21:03.541685Z"
    },
    "button": false,
    "new_sheet": false
   },
   "outputs": [],
   "source": [
    "# Compure UMAP and leiden on the the reduced set of clusters\n",
    "sc.pp.neighbors(rna_sub)\n",
    "sc.tl.umap(rna_sub)\n",
    "sc.tl.leiden(rna_sub)"
   ]
  },
  {
   "cell_type": "code",
   "execution_count": null,
   "id": "ca5132d8",
   "metadata": {
    "ExecuteTime": {
     "end_time": "2022-05-04T20:21:13.163638Z",
     "start_time": "2022-05-04T20:21:12.823897Z"
    },
    "button": false,
    "new_sheet": false
   },
   "outputs": [],
   "source": [
    "# Visualize leiden clusters and annotated cell types on the umap\n",
    "sc.pl.umap(rna_sub, color=['leiden', 'celltype'], legend_loc='on data', ncols=2, wspace=0.3, hspace=0.3, frameon=False, size=50, alpha=0.5, palette='tab20')"
   ]
  },
  {
   "attachments": {},
   "cell_type": "markdown",
   "metadata": {
    "button": false,
    "new_sheet": false
   },
   "source": [
    "The results should look similar to <img src=\"Users/tgoel/Downloads/Classes/GENOME/GENOME541/hw3/umap.png\">\n",
    "\n",
    "\n",
    "<b>`Question`</b>: Are your plots identical to the ones listed above? If not, why do you think they are not identical? How can I make sure to reproduce identical plots?\n",
    "\n",
    "My plots are not identical to the ones listed above, but very similar. Maybe this is because the random seed is not set. To reproduce identical plots, I can set the random seed to 42 for example."
   ]
  },
  {
   "cell_type": "markdown",
   "metadata": {
    "button": false,
    "new_sheet": false
   },
   "source": [
    "# Trajectory analysis - Palantir"
   ]
  },
  {
   "cell_type": "markdown",
   "metadata": {
    "button": false,
    "new_sheet": false
   },
   "source": [
    "We will perform trajectory analysis using [`Palantir`](https://www.nature.com/articles/s41587-019-0068-4). Palantir models differnitation as a Markov chain to estimate a pseudo-time ordering of cells and probability of each cell differentiating to any of the terminal states in the system. \n",
    "\n",
    "Palantir requires the specification of a start cell and works best when the terminal states are specified. For ease of use, the start and terminal states are specified below"
   ]
  },
  {
   "cell_type": "code",
   "execution_count": null,
   "metadata": {
    "ExecuteTime": {
     "end_time": "2022-05-04T20:21:13.171049Z",
     "start_time": "2022-05-04T20:21:13.165420Z"
    },
    "button": false,
    "new_sheet": false
   },
   "outputs": [],
   "source": [
    "# Palantir start and terminal states \n",
    "terminal_states = pd.Series(dtype=object)\n",
    "terminal_states['Ery'] = 'cd34_multiome_rep2#TACGGTTAGTTATTCC-1' # Erythroid terminal\n",
    "terminal_states['Mono'] = 'cd34_multiome_rep2#CGCTCCATCGCTAGAT-1' # Monocyte terminal\n",
    "terminal_states['Lymph'] = 'cd34_multiome_rep1#TTTAAGGTCCTTCTAG-1' # Lymphoid terminal\n",
    "terminal_states['Mega'] = 'cd34_multiome_rep1#AGGCCCAGTGCATCGG-1' # Megakaryocyte terminal\n",
    "start = 'cd34_multiome_rep1#AGGTCCGGTACGCGCA-1' # Hematopoietic stem cell"
   ]
  },
  {
   "cell_type": "code",
   "execution_count": null,
   "metadata": {
    "ExecuteTime": {
     "end_time": "2022-05-04T20:21:14.843803Z",
     "start_time": "2022-05-04T20:21:13.173070Z"
    },
    "button": false,
    "new_sheet": false
   },
   "outputs": [],
   "source": [
    "# Compute the multi-scale space used by Palantir and visualize them\n",
    "sc.pp.pca(rna_sub)\n",
    "pca_projections = pd.DataFrame(rna_sub.obsm['X_pca'], index=rna_sub.obs_names)\n",
    "dm_res = palantir.utils.run_diffusion_maps(pca_projections, n_components=5)\n",
    "ms_data = palantir.utils.determine_multiscale_space(dm_res)"
   ]
  },
  {
   "cell_type": "code",
   "execution_count": null,
   "metadata": {
    "ExecuteTime": {
     "end_time": "2022-05-04T20:21:33.690957Z",
     "start_time": "2022-05-04T20:21:14.845140Z"
    },
    "button": false,
    "new_sheet": false
   },
   "outputs": [],
   "source": [
    "# Run Palantir using the start and terminal states defined above\n",
    "pr_res = palantir.core.run_palantirrun_palantir(ms_data, start, terminal_states=terminal_states)"
   ]
  },
  {
   "cell_type": "code",
   "execution_count": null,
   "metadata": {
    "ExecuteTime": {
     "end_time": "2022-05-04T20:21:33.697222Z",
     "start_time": "2022-05-04T20:21:33.693066Z"
    },
    "button": false,
    "new_sheet": false
   },
   "outputs": [],
   "source": [
    "# Rename the columns of branch probabilities with cell types\n",
    "flip = pd.Series(terminal_states.index, index=terminal_states.values)\n",
    "pr_res.branch_probs.columns = flip[pr_res.branch_probs.columns].values"
   ]
  },
  {
   "cell_type": "code",
   "execution_count": null,
   "metadata": {
    "ExecuteTime": {
     "end_time": "2022-05-04T20:21:34.923927Z",
     "start_time": "2022-05-04T20:21:33.699725Z"
    },
    "button": false,
    "new_sheet": false
   },
   "outputs": [],
   "source": [
    "# Visualize Palantir results\n",
    "umap = pd.DataFrame(rna_sub.obsm['X_umap'], index=rna_sub.obs_names)\n",
    "palantir.plot.plot_palantir_results.plot_palantir_results(pr_res, umap)"
   ]
  },
  {
   "cell_type": "markdown",
   "metadata": {
    "button": false,
    "new_sheet": false
   },
   "source": [
    "<b>`Exercise`<b/>\n",
    "- Identify the subset of cells that specialize towards erythroid and monocyte fates and highlight them on the umap \n",
    "- Compute the top 5 differentially expressed transcription factors between these cells\n",
    "    - A list of human transcription factors is available at [`AnimalTFDB`](http://bigd.big.ac.cn/databasecommons/database/id/8).\n",
    "- Plot gene expression trends along the erythroid and monocyte lineage for these genes \n",
    "- Identify and plot the top 5 TFs that are most correlated with erythroid and monocyte fates \n",
    "- Are these genes the same genes you computed using differential expression \n",
    "- How many genes are differnt and reason why they are different "
   ]
  },
  {
   "cell_type": "markdown",
   "metadata": {
    "button": false,
    "new_sheet": false
   },
   "source": [
    "# RNA velocity - scvelo"
   ]
  },
  {
   "cell_type": "markdown",
   "metadata": {
    "button": false,
    "new_sheet": false
   },
   "source": [
    "[`scVelo`](https://scvelo.readthedocs.io) is a tool to determine RNA velocities by leveraging the splicing dynamics information inherently present in RNA-seq data. The beauty of RNA velocity is that requires practically no prior biological knowledge of the system but is heavily reliant on splicing dynamics being sufficiently captured in the data.\n",
    "\n",
    "scVelo requires the quantification of spliced and unspliced transcripts. These counts were computed using `velocyto` and are available as an `Anndata` object. This object can be loaded and merged with the scRNA Anndata object using: "
   ]
  },
  {
   "cell_type": "code",
   "execution_count": null,
   "metadata": {
    "ExecuteTime": {
     "end_time": "2022-05-04T20:21:36.086186Z",
     "start_time": "2022-05-04T20:21:34.925540Z"
    },
    "button": false,
    "new_sheet": false
   },
   "outputs": [],
   "source": [
    "# Load the velocyto results anndata and merge with rna\n",
    "loom_ad = sc.read('/Users/tgoel/Downloads/Classes/GENOME/GENOME541/hw3/cd34_multiome_rna_velocyto_data.h5ad')\n",
    "merged_ad = scv.utils.merge(rna_sub, loom_ad)"
   ]
  },
  {
   "cell_type": "code",
   "execution_count": null,
   "id": "54edd3dc",
   "metadata": {},
   "outputs": [],
   "source": [
    "scv.pp.filter_and_normalize(merged_ad, min_shared_counts=20, n_top_genes=2000)\n",
    "scv.pp.moments(merged_ad, n_pcs=30, n_neighbors=30)"
   ]
  },
  {
   "cell_type": "code",
   "execution_count": null,
   "metadata": {
    "ExecuteTime": {
     "end_time": "2022-05-04T20:25:20.370162Z",
     "start_time": "2022-05-04T20:21:36.088152Z"
    },
    "button": false,
    "new_sheet": false
   },
   "outputs": [],
   "source": [
    "# Compute the RNA velocities using the scvelo dynamical model\n",
    "scv.tl.recover_dynamics(merged_ad)\n",
    "scv.tl.velocity(merged_ad, mode='dynamical')\n",
    "scv.tl.velocity_graph(merged_ad)"
   ]
  },
  {
   "cell_type": "code",
   "execution_count": null,
   "metadata": {
    "ExecuteTime": {
     "end_time": "2022-05-04T20:25:23.650447Z",
     "start_time": "2022-05-04T20:25:20.375323Z"
    },
    "button": false,
    "new_sheet": false
   },
   "outputs": [],
   "source": [
    "# Plot the velocity stream with cells colored by cell type\n",
    "scv.pl.velocity_embedding_stream(merged_ad, basis='umap')"
   ]
  },
  {
   "attachments": {},
   "cell_type": "markdown",
   "metadata": {
    "button": false,
    "new_sheet": false
   },
   "source": [
    "<b>`Exercise`</b>:\n",
    "- What are your key observations and how are they different from the Palantir results?\n",
    " Based on your observations, are the RNA velocity results consistent with known biology of hematopoiesis where hematpoietic stem cells (HSCs) differentiate to immune cell types?\n",
    "- Plot the RNA splicing dynamics of key TFs you identified from Palantir analysis \n",
    "- Are the splicing dynamics consistent with the Palantir trajectories?\n",
    "\n",
    "The RNA velocity results are not consistent with the Palantir results. The RNA velocity results are not consistent with known biology of hematopoiesis. The RNA splicing dynamics of key TFs are not consistent with the Palantir trajectories. The splicing dynamics are not consistent with the Palantir trajectories."
   ]
  },
  {
   "cell_type": "markdown",
   "metadata": {
    "ExecuteTime": {
     "end_time": "2021-05-13T05:07:22.799820Z",
     "start_time": "2021-05-13T05:07:22.797873Z"
    },
    "button": false,
    "new_sheet": false
   },
   "source": [
    "`Note`\n",
    "scVelo is a fantastic algorithm and has been successfully used to characterize many biological systems.  However, the splicing dynamics do not seem to be informative for hematopoiesis (see [`here`](https://www.embopress.org/doi/full/10.15252/msb.202110282) for discussion as to why this might be the case) and therefore scVelo fails to recover the correct cell state dynamics. This is a nice illustration of how one size fits all almost never works with scRNA-seq data analysis and one should always pay special attention to what are the fundamental assumptions a method makes and whether any of those are violated in the dataset of interest"
   ]
  },
  {
   "cell_type": "markdown",
   "metadata": {
    "button": false,
    "new_sheet": false
   },
   "source": [
    "# Cellrank"
   ]
  },
  {
   "cell_type": "markdown",
   "metadata": {
    "button": false,
    "new_sheet": false
   },
   "source": [
    "[`Cellrank`](https://cellrank.readthedocs.io) is a trajectory inference algorithm designed to make the best of both worlds using RNA velcoity and markov modeling. CellRank constructs the Markov Matrix by examining consistency between RNA velocity from splicing dynamics and gene expression changes. Thus, Cellrank can automatically infer the start and terminals of the system, compute lineage probabilities.\n",
    "\n",
    "Cellrank uses scvelo outputs as inputs for trajectory inference"
   ]
  },
  {
   "cell_type": "code",
   "execution_count": null,
   "metadata": {},
   "outputs": [],
   "source": [
    "# First infer the terminal states of the system in the hematopiesis data using celltype as the key\n",
    "cr.tl.terminal_states(adata, cluster_key=\"celltype\", weight_connectivities=0.2)"
   ]
  },
  {
   "cell_type": "code",
   "execution_count": null,
   "id": "51bb05bf",
   "metadata": {},
   "outputs": [],
   "source": [
    "# Plot the terminal states \n",
    "cr.pl.terminal_states(merged_ad)"
   ]
  },
  {
   "attachments": {},
   "cell_type": "markdown",
   "metadata": {},
   "source": [
    "<b>`Question:`</b> As you see, the inferred terminals are not correct. Why do you think is the reason?\n",
    "\n",
    "Maybe the inferred terminals are not correct because the RNA velocity results are not consistent with known biology of hematopoiesis. But it could also be that there may not have enough cells or genes to capture the true complexity of the system which could lead to inaccurate terminal state inference."
   ]
  },
  {
   "cell_type": "markdown",
   "metadata": {},
   "source": [
    "Lets use the data used in the Cellrank manuscript instead to understand Cellrank better"
   ]
  },
  {
   "cell_type": "code",
   "execution_count": null,
   "metadata": {},
   "outputs": [],
   "source": [
    "# Load the data\n",
    "adata = sc.read('Users/tgoel/Downloads/Classes/GENOME/GENOME541/hw3/cellrank_panc_diff.h5ad')"
   ]
  },
  {
   "cell_type": "code",
   "execution_count": null,
   "metadata": {},
   "outputs": [],
   "source": [
    "# The dynamics are precomputed\n",
    "scv.pl.velocity_embedding_stream(adata, basis=\"umap\", legend_fontsize=12, title=\"\", smooth=0.8, min_mass=4)"
   ]
  },
  {
   "cell_type": "code",
   "execution_count": null,
   "metadata": {},
   "outputs": [],
   "source": [
    "# Identify and plot the terminal states in this data\n",
    "cr.pl.terminal_states(adata)"
   ]
  },
  {
   "cell_type": "code",
   "execution_count": null,
   "metadata": {},
   "outputs": [],
   "source": [
    "# Identify and plot the initial states\n",
    "cr.tl.initial_states(adata, cluster_key=\"clusters\")\n",
    "cr.pl.initial_states(adata, discrete=True)\n",
    "# Note: The error below does not impact the later analyses"
   ]
  },
  {
   "cell_type": "code",
   "execution_count": null,
   "metadata": {},
   "outputs": [],
   "source": [
    "# Compute fate maps\n",
    "cr.tl.lineages(adata)\n",
    "cr.pl.lineages(adata, same_plot=False)\n",
    "cr.pl.lineages(adata, same_plot=True)"
   ]
  },
  {
   "cell_type": "code",
   "execution_count": null,
   "id": "8157a98d",
   "metadata": {},
   "outputs": [],
   "source": []
  }
 ],
 "metadata": {
  "hide_input": false,
  "kernelspec": {
   "display_name": "genome2",
   "language": "python",
   "name": "python3"
  },
  "language_info": {
   "codemirror_mode": {
    "name": "ipython",
    "version": 3
   },
   "file_extension": ".py",
   "mimetype": "text/x-python",
   "name": "python",
   "nbconvert_exporter": "python",
   "pygments_lexer": "ipython3",
   "version": "3.9.16"
  },
  "toc": {
   "base_numbering": 1,
   "nav_menu": {},
   "number_sections": true,
   "sideBar": true,
   "skip_h1_title": false,
   "title_cell": "Table of Contents",
   "title_sidebar": "Contents",
   "toc_cell": false,
   "toc_position": {
    "height": "calc(100% - 180px)",
    "left": "10px",
    "top": "150px",
    "width": "298px"
   },
   "toc_section_display": true,
   "toc_window_display": true
  }
 },
 "nbformat": 4,
 "nbformat_minor": 5
}
