{
 "cells": [
  {
   "cell_type": "markdown",
   "id": "3ae2ad40",
   "metadata": {},
   "source": [
    "# GS541 phylogenetics homework 1\n",
    "\n",
    "## Poisson distribution and estimation via maximum likelihood\n",
    "\n",
    "At the end of this segment, I hope you understand:\n",
    "\n",
    "* why we use the Poisson distribution to model mutation processes\n",
    "* how we perform model parameter estimation via maximum likelihood\n",
    "\n",
    "We will use the [pandas](https://pandas.pydata.org/docs/user_guide/index.html) package for data analysis.\n",
    "If you aren't familiar with it, it's a great thing to know and I hope these homeworks serve as a useful introduction."
   ]
  },
  {
   "cell_type": "code",
   "execution_count": 1,
   "id": "29bd2dcb",
   "metadata": {},
   "outputs": [],
   "source": [
    "from scipy.stats import bernoulli, poisson\n",
    "\n",
    "import numpy as np\n",
    "import pandas as pd\n",
    "import random"
   ]
  },
  {
   "cell_type": "markdown",
   "id": "5b1ab01c",
   "metadata": {},
   "source": [
    "_Exercise: using either the built-in [random](https://docs.python.org/3/library/random.html) module, or the [SciPy bernoulli class](https://docs.scipy.org/doc/scipy/reference/generated/scipy.stats.bernoulli.html), write code for the following function according to the docstring._"
   ]
  },
  {
   "cell_type": "code",
   "execution_count": 2,
   "id": "8a0a4fd9",
   "metadata": {},
   "outputs": [],
   "source": [
    "def sample_event(probability):\n",
    "    \"\"\"Return 1 with probability `probability`, otherwise return 0.\"\"\"\n",
    "    return bernoulli.rvs(probability)"
   ]
  },
  {
   "cell_type": "markdown",
   "id": "a995a658",
   "metadata": {},
   "source": [
    "Demonstrate that your code is working properly by summing together a large number of outputs from this function and seeing that it's giving (approximately) the expected number of 1s."
   ]
  },
  {
   "cell_type": "code",
   "execution_count": 3,
   "id": "56c68440",
   "metadata": {},
   "outputs": [
    {
     "data": {
      "text/plain": [
       "0.2832"
      ]
     },
     "execution_count": 3,
     "metadata": {},
     "output_type": "execute_result"
    }
   ],
   "source": [
    "sum([sample_event(0.275) for i in range(10000)])/10000"
   ]
  },
  {
   "cell_type": "markdown",
   "id": "066da796",
   "metadata": {},
   "source": [
    "Let's write a function to count mutations:"
   ]
  },
  {
   "cell_type": "code",
   "execution_count": 4,
   "id": "454363ba",
   "metadata": {},
   "outputs": [],
   "source": [
    "def count_mutations(generation_count, mutation_probability):\n",
    "    \"\"\"Simulate the total number of mutations after `generation_count` generations, \n",
    "    each of which may lead to a muatation with probability `mutation_probability`.\"\"\"\n",
    "    return np.sum(np.random.rand(generation_count) < mutation_probability)"
   ]
  },
  {
   "cell_type": "markdown",
   "id": "4a292f9b",
   "metadata": {},
   "source": [
    "_Try this function a few times._"
   ]
  },
  {
   "cell_type": "code",
   "execution_count": 5,
   "id": "88a2babb",
   "metadata": {},
   "outputs": [
    {
     "data": {
      "text/plain": [
       "35"
      ]
     },
     "execution_count": 5,
     "metadata": {},
     "output_type": "execute_result"
    }
   ],
   "source": [
    "count_mutations(100, 0.275)"
   ]
  },
  {
   "cell_type": "markdown",
   "id": "74c38e05",
   "metadata": {},
   "source": [
    "Now imagine we have a highly mutable stretch of DNA 10,000 bases long. \n",
    "Say this evolves for 700 generations, and each generation each site has a probability of 0.005 of being mutated.\n",
    "Let's simulate the number of mutations for each site of the stretch of DNA:"
   ]
  },
  {
   "cell_type": "code",
   "execution_count": 6,
   "id": "d2fbcc4c",
   "metadata": {},
   "outputs": [],
   "source": [
    "mutation_counts = pd.Series([count_mutations(700, 0.005) for i in range(10000)])"
   ]
  },
  {
   "cell_type": "code",
   "execution_count": 7,
   "id": "e8273dbd",
   "metadata": {},
   "outputs": [
    {
     "data": {
      "text/plain": [
       "<Axes: ylabel='Frequency'>"
      ]
     },
     "execution_count": 7,
     "metadata": {},
     "output_type": "execute_result"
    },
    {
     "data": {
      "image/png": "[encoded data removed]",
      "text/plain": [
       "<Figure size 640x480 with 1 Axes>"
      ]
     },
     "metadata": {},
     "output_type": "display_data"
    }
   ],
   "source": [
    "mutation_counts.plot.hist(bins=max(mutation_counts))"
   ]
  },
  {
   "cell_type": "markdown",
   "id": "d7715e31",
   "metadata": {},
   "source": [
    "This distribution looks [Poisson-distributed](https://en.wikipedia.org/wiki/Poisson_distribution) (in fact, [we know that it should be almost exactly Poisson](https://en.wikipedia.org/wiki/Poisson_distribution#Law_of_rare_events)).\n",
    "So let's model it accordingly. \n",
    "Try out various parameters for sampling from the [Poisson distribution as implemented in SciPy](https://docs.scipy.org/doc/scipy/reference/generated/scipy.stats.poisson.html)."
   ]
  },
  {
   "cell_type": "code",
   "execution_count": 8,
   "id": "ca5c0ea1",
   "metadata": {},
   "outputs": [
    {
     "data": {
      "text/plain": [
       "array([5, 7, 2, 4, 4, 3, 4, 5, 4, 7, 0, 3, 3, 5, 5, 0, 3, 4, 2, 5])"
      ]
     },
     "execution_count": 8,
     "metadata": {},
     "output_type": "execute_result"
    }
   ],
   "source": [
    "poisson.rvs(4., size=20)"
   ]
  },
  {
   "cell_type": "markdown",
   "id": "6487fc2f",
   "metadata": {},
   "source": [
    "Note that we've now moved from a parameterization in terms of a discrete number of generations to a continuous one in terms of the mean of a Poisson distribution.\n",
    "\n",
    "_Exercise: try out a couple of values for the Poisson mean `pois_parameter` below and see if you can find a value such that the Poisson distribution matches the simulated data._"
   ]
  },
  {
   "cell_type": "code",
   "execution_count": 9,
   "id": "4d309f05",
   "metadata": {},
   "outputs": [
    {
     "data": {
      "text/plain": [
       "<Axes: ylabel='Frequency'>"
      ]
     },
     "execution_count": 9,
     "metadata": {},
     "output_type": "execute_result"
    },
    {
     "data": {
      "image/png": "[encoded data removed]",
      "text/plain": [
       "<Figure size 640x480 with 1 Axes>"
      ]
     },
     "metadata": {},
     "output_type": "display_data"
    }
   ],
   "source": [
    "ax = mutation_counts.plot.hist(bins=max(mutation_counts))\n",
    "\n",
    "pois_parameter = 3.55\n",
    "pois_samples = poisson.rvs(pois_parameter, size=10000)\n",
    "pd.Series(pois_samples).plot.hist(bins=max(pois_samples), ax=ax, alpha=0.5)"
   ]
  },
  {
   "cell_type": "markdown",
   "id": "00791f67",
   "metadata": {},
   "source": [
    "Before we continue, take a moment and reflect what we are doing: we are choosing a parameter value for our _model_ such that when we simulate values from that model, they match (as best as possible) the observed data.\n",
    "\n",
    "This is the essence of [maximum likelihood inference](https://en.wikipedia.org/wiki/Maximum_likelihood_estimation): choosing parameter values for a model such that the model is as likely as possible to generate the observed data.\n",
    "\n",
    "Now we're going to do such estimation more formally.\n",
    "\n",
    "The basic insight is that if our model is simple enough we don't have to _simulate_ in order to match the simulated and observed data, but we can just _calculate_ likelihoods directly. \n",
    "\n",
    "Let's look at the Probability Mass Function for the Poisson distribution."
   ]
  },
  {
   "cell_type": "code",
   "execution_count": 10,
   "id": "29e20b9b",
   "metadata": {},
   "outputs": [
    {
     "data": {
      "text/plain": [
       "0.13360188578108528"
      ]
     },
     "execution_count": 10,
     "metadata": {},
     "output_type": "execute_result"
    }
   ],
   "source": [
    "poisson.pmf(4, 2.5)"
   ]
  },
  {
   "cell_type": "markdown",
   "id": "781d274d",
   "metadata": {},
   "source": [
    "This says that the probability of getting 4 from a Poission distribution with mean 2.5 is about 0.13.\n",
    "\n",
    "_Exercise: read up about the [Poisson distribution](https://en.wikipedia.org/wiki/Poisson_distribution#Probability_mass_function) and code up your own version of the probability mass function for 4 mutations and varying Poisson mean parameter. Check that it matches the SciPy version `poisson` that we've been using._"
   ]
  },
  {
   "cell_type": "code",
   "execution_count": 11,
   "id": "796a6aea",
   "metadata": {},
   "outputs": [
    {
     "data": {
      "text/plain": [
       "0.13360188578108528"
      ]
     },
     "execution_count": 11,
     "metadata": {},
     "output_type": "execute_result"
    }
   ],
   "source": [
    "def poisson_pmf(k, mu):\n",
    "    return mu**k * np.exp(-mu) / np.math.factorial(k)\n",
    "\n",
    "poisson_pmf(4, 2.5)"
   ]
  },
  {
   "cell_type": "markdown",
   "id": "b94259b5",
   "metadata": {},
   "source": [
    "We can plot the corresponding distribution, which gives the probability of generating 4 mutations from a Poisson process with various means:"
   ]
  },
  {
   "cell_type": "code",
   "execution_count": 12,
   "id": "e451a59c",
   "metadata": {},
   "outputs": [
    {
     "data": {
      "text/plain": [
       "<Axes: xlabel='x'>"
      ]
     },
     "execution_count": 12,
     "metadata": {},
     "output_type": "execute_result"
    },
    {
     "data": {
      "image/png": "[encoded data removed]",
      "text/plain": [
       "<Figure size 640x480 with 1 Axes>"
      ]
     },
     "metadata": {},
     "output_type": "display_data"
    }
   ],
   "source": [
    "x_values = np.linspace(0., 10.)\n",
    "probabilities = poisson.pmf(4, x_values)\n",
    "pd.DataFrame({\"x\": x_values, \"probability\": probabilities}).plot(x=\"x\", y=\"probability\")"
   ]
  },
  {
   "cell_type": "markdown",
   "id": "bafbe98f",
   "metadata": {},
   "source": [
    "_Exercise: what value maximizes the likelihood in this plot? Why is that value not surprising?_"
   ]
  },
  {
   "attachments": {},
   "cell_type": "markdown",
   "id": "aec02326",
   "metadata": {},
   "source": [
    "4 - it is the mean of the Poisson distribution"
   ]
  },
  {
   "cell_type": "markdown",
   "id": "cb1b603c",
   "metadata": {},
   "source": [
    "Now let's say that we have two sites, and mutations arise in these two sites independently. \n",
    "By this independence assumption, [the probability of a particular observation at these two sites is the product of the probabilities at each site](https://en.wikipedia.org/wiki/Independence_%28probability_theory%29#Two_events).\n",
    "\n",
    "So, if we have a Poisson distribution with mean 2.5 as before, the probability of getting 4 mutations in one site and then 7 mutations in another is:"
   ]
  },
  {
   "cell_type": "code",
   "execution_count": 13,
   "id": "9e66b202",
   "metadata": {},
   "outputs": [
    {
     "data": {
      "text/plain": [
       "0.0013280851104361725"
      ]
     },
     "execution_count": 13,
     "metadata": {},
     "output_type": "execute_result"
    }
   ],
   "source": [
    "poisson.pmf(4, 2.5) * poisson.pmf(7, 2.5)"
   ]
  },
  {
   "cell_type": "markdown",
   "id": "d241b8fc",
   "metadata": {},
   "source": [
    "_Exercise: make the same plot as just above, but rather than just for one site with 4 mutations, we now have one site with 4 mutations and one site with 7 mutations. What value maximizes the likelihood now (approximately)?_"
   ]
  },
  {
   "cell_type": "code",
   "execution_count": 14,
   "id": "a466963e",
   "metadata": {},
   "outputs": [
    {
     "data": {
      "text/plain": [
       "<Axes: xlabel='x'>"
      ]
     },
     "execution_count": 14,
     "metadata": {},
     "output_type": "execute_result"
    },
    {
     "data": {
      "image/png": "[encoded data removed]",
      "text/plain": [
       "<Figure size 640x480 with 1 Axes>"
      ]
     },
     "metadata": {},
     "output_type": "display_data"
    }
   ],
   "source": [
    "x_values = np.linspace(0., 10.)\n",
    "probabilities = poisson.pmf(4, x_values) * poisson.pmf(7, x_values)\n",
    "pd.DataFrame({\"x\": x_values, \"probability\": probabilities}).plot(x=\"x\", y=\"probability\")"
   ]
  },
  {
   "attachments": {},
   "cell_type": "markdown",
   "id": "399bdfef",
   "metadata": {},
   "source": [
    "About 5.5"
   ]
  },
  {
   "cell_type": "markdown",
   "id": "2be81438",
   "metadata": {},
   "source": [
    "Now we'd like to extend this to many sites, say the 10,000 sites we simulated above. But we encounter a problem!"
   ]
  },
  {
   "cell_type": "code",
   "execution_count": 15,
   "id": "dd3723cc",
   "metadata": {},
   "outputs": [
    {
     "data": {
      "text/plain": [
       "0.0"
      ]
     },
     "execution_count": 15,
     "metadata": {},
     "output_type": "execute_result"
    }
   ],
   "source": [
    "np.prod(poisson.pmf(mutation_counts, 3.))"
   ]
  },
  {
   "cell_type": "markdown",
   "id": "d89b7184",
   "metadata": {},
   "source": [
    "_Exercise: what problem did we encounter?_"
   ]
  },
  {
   "attachments": {},
   "cell_type": "markdown",
   "id": "54321840",
   "metadata": {},
   "source": [
    "underflow"
   ]
  },
  {
   "cell_type": "markdown",
   "id": "65d67f66",
   "metadata": {},
   "source": [
    "We can avoid this problem by taking the log probability of each observation and then summing to get the log likelihood of the whole data set:"
   ]
  },
  {
   "cell_type": "code",
   "execution_count": 16,
   "id": "9cd3b856",
   "metadata": {},
   "outputs": [
    {
     "data": {
      "text/plain": [
       "-20607.97663074657"
      ]
     },
     "execution_count": 16,
     "metadata": {},
     "output_type": "execute_result"
    }
   ],
   "source": [
    "np.sum(poisson.logpmf(mutation_counts, 3.))"
   ]
  },
  {
   "cell_type": "markdown",
   "id": "b99045f0",
   "metadata": {},
   "source": [
    "Because log is monotonically increasing, finding the maximum of the log of a function gives the same value as maximizing the function itself.\n",
    "\n",
    "_Exercise: fill in the missing line of code below so that the code block plots the log likelihood for observing `mutation_counts` under a Poisson model._"
   ]
  },
  {
   "cell_type": "code",
   "execution_count": 17,
   "id": "00ae0566",
   "metadata": {},
   "outputs": [
    {
     "data": {
      "text/plain": [
       "<Axes: xlabel='x'>"
      ]
     },
     "execution_count": 17,
     "metadata": {},
     "output_type": "execute_result"
    },
    {
     "data": {
      "image/png": "[encoded data removed]",
      "text/plain": [
       "<Figure size 640x480 with 1 Axes>"
      ]
     },
     "metadata": {},
     "output_type": "display_data"
    }
   ],
   "source": [
    "x_values = np.linspace(0., 10.)\n",
    "log_probabilities = np.array([np.sum(poisson.logpmf(mutation_counts, x)) for x in x_values])\n",
    "pd.DataFrame({\"x\": x_values, \"log probability\": log_probabilities}).plot(x=\"x\", y=\"log probability\")"
   ]
  },
  {
   "cell_type": "markdown",
   "id": "489ec695",
   "metadata": {},
   "source": [
    "_Exercise: what is the maximum likelihood value of the parameter of the Poisson distribution we are using? Why is this not surprising?_"
   ]
  },
  {
   "attachments": {},
   "cell_type": "markdown",
   "id": "f46d7627",
   "metadata": {},
   "source": [
    "3 - it is the mean"
   ]
  },
  {
   "cell_type": "markdown",
   "id": "635dbf24",
   "metadata": {},
   "source": [
    "_Exercise: describe the connection between simulation and likelihoods that we explored in this segment._"
   ]
  },
  {
   "attachments": {},
   "cell_type": "markdown",
   "id": "35ad8ea8",
   "metadata": {},
   "source": [
    "simulations reflect and can be used to estimate likelihood  "
   ]
  },
  {
   "cell_type": "markdown",
   "id": "5d92b528",
   "metadata": {},
   "source": [
    "## Simulating sequence models\n",
    "\n",
    "At the end of this segment, I hope you understand:\n",
    "\n",
    "* Why we can't just \"count mutations\" in a straightforward way\n",
    "* The difference between \"mutations\" and \"substitutions\""
   ]
  },
  {
   "cell_type": "markdown",
   "id": "c31052a0",
   "metadata": {},
   "source": [
    "We'll start by thinking in terms of discrete events.\n",
    "\n",
    "Let's imagine that instead of a 4-state alphabet `A, G, C, T` we have just two states, 0 and 1. Here's an example [probability transition matrix](https://en.wikipedia.org/wiki/Stochastic_matrix) that we might use to model probability of substitution after some large number $N$ of generations:"
   ]
  },
  {
   "cell_type": "code",
   "execution_count": 18,
   "id": "e10626f3",
   "metadata": {},
   "outputs": [
    {
     "data": {
      "text/plain": [
       "matrix([[0.9, 0.1],\n",
       "        [0.1, 0.9]])"
      ]
     },
     "execution_count": 18,
     "metadata": {},
     "output_type": "execute_result"
    }
   ],
   "source": [
    "a = np.matrix([[0.9, 0.1],[0.1, 0.9]])\n",
    "a"
   ]
  },
  {
   "cell_type": "markdown",
   "id": "5d015ea9",
   "metadata": {},
   "source": [
    "The states here are lined up on the rows and the columns, so the 0,0 entry corresponds to the probability of a site in state 0 ending in state 0 after $N$ generations, whereas the 0.1 corresponds to ending in state 1 after $N$ generations. If we want the process after $2N$ generations, then we take the matrix product of the two matrices to get the corresponding probability transition matrix:"
   ]
  },
  {
   "cell_type": "code",
   "execution_count": 19,
   "id": "a078d74a",
   "metadata": {},
   "outputs": [
    {
     "data": {
      "text/plain": [
       "matrix([[0.82, 0.18],\n",
       "        [0.18, 0.82]])"
      ]
     },
     "execution_count": 19,
     "metadata": {},
     "output_type": "execute_result"
    }
   ],
   "source": [
    "a @ a"
   ]
  },
  {
   "cell_type": "markdown",
   "id": "3a949c94",
   "metadata": {},
   "source": [
    "_Exercise: justify the calculation of the 0,0 entry of this matrix in terms of the formula for the matrix product. I suggest starting with: \"There are two ways that one can start in state 0 and end in state 0 in two steps. One can either...\"_"
   ]
  },
  {
   "attachments": {},
   "cell_type": "markdown",
   "id": "80a70626",
   "metadata": {},
   "source": [
    "There are two ways that one can start in state 0 and end in state 0 in two steps. One can either start in state 0 and end in state 0 for one step, then start in state 0 and end in state 0 in another step. Or, one can start in state 0 and end in state 1 in one step, then start in state 1 and end in state 0 in one step. The probability of the first is 0.9*0.9 = 0.81. The probability of the second is 0.1 * 0.1 = 0.01. The sum of these is 0.82."
   ]
  },
  {
   "cell_type": "markdown",
   "id": "6c0b0c0e",
   "metadata": {},
   "source": [
    "_Exercise: given this, why can't we simply \"count mutations\" in a straightforward way?_"
   ]
  },
  {
   "attachments": {},
   "cell_type": "markdown",
   "id": "a0690597",
   "metadata": {},
   "source": [
    "we don't know how many generations it took to get from one state to another"
   ]
  },
  {
   "cell_type": "markdown",
   "id": "dd501eab",
   "metadata": {},
   "source": [
    "_Exercise: use `np.linalg.matrix_power` to take high powers of this matrix. \n",
    "What does that tell you about the long-run behavior of this process?_"
   ]
  },
  {
   "cell_type": "code",
   "execution_count": 20,
   "id": "73a71321",
   "metadata": {},
   "outputs": [
    {
     "data": {
      "text/plain": [
       "matrix([[0.5, 0.5],\n",
       "        [0.5, 0.5]])"
      ]
     },
     "execution_count": 20,
     "metadata": {},
     "output_type": "execute_result"
    }
   ],
   "source": [
    "np.linalg.matrix_power(a, 100)"
   ]
  },
  {
   "attachments": {},
   "cell_type": "markdown",
   "id": "30e873ef",
   "metadata": {},
   "source": [
    "the process converges to a steady state"
   ]
  },
  {
   "cell_type": "markdown",
   "id": "50007a37",
   "metadata": {},
   "source": [
    "Although this discrete perspective is useful, it's not the foundation for likelihood-based phylogenetics. \n",
    "One problem is that if we are going to have a high level of resolution for the \"number of events\" that has happened, the effect of these events has to be very small.\n",
    "Perhaps a more practical reason is that estimating a continuous quantity is just easier than estimating a discrete quantity, and is more suitable for methods using gradients.\n",
    "\n",
    "Thus, how do we work in continuous time?\n",
    "In the previous section, we saw how we can use the Poisson distribution to model the number of mutations after a certain (continuous) period. \n",
    "In this section, we will use this perspective and think of mutations accumulating in continuous time according to a certain rate.\n",
    "Specifically, the number of mutations will be Poisson distributed with mean equal to the rate $\\mu$ times time $t$.\n",
    "\n",
    "To go from a general description of \"events\" to the impact of those events on sequences, we need to define what happens when a sequence is mutated. \n",
    "Let's say that, in our binary alphabet, once a mutation happens, it's replaced with a uniformly selected base from the 0,1 alphabet.\n",
    "**This is important: not every mutation event will result in a state change.**\n",
    "This is the difference between a \"mutation\" and a \"substitution\": a substitution is a mutation that results in a state change (not all mutations do)."
   ]
  },
  {
   "cell_type": "markdown",
   "id": "0a341ee4",
   "metadata": {},
   "source": [
    "_Exercise: if $\\mu$ is the per-site mutation rate for the above-described substitution process, what is the per-site substitution rate?_"
   ]
  },
  {
   "attachments": {},
   "cell_type": "markdown",
   "id": "8e5ba62a",
   "metadata": {},
   "source": [
    "mu"
   ]
  },
  {
   "cell_type": "markdown",
   "id": "61b622b7",
   "metadata": {},
   "source": [
    "_Exercise: write a routine `number_of_ones_after_time` that simulates sequence evolution for a 0,1 alphabet for $\\mu=1$. Specifically, the routine should start with an all-0s sequence of length `sequence_length`, simulate sequence evolution for time `t` with $\\mu=1$ and return the number of 1s in the resulting sequence. (Note that your code doesn't have to explicitly represent sequences in this way as long as it returns the desired result.)_"
   ]
  },
  {
   "cell_type": "code",
   "execution_count": 21,
   "id": "ae9b32b3",
   "metadata": {},
   "outputs": [],
   "source": [
    "def number_of_ones_after_time(t, sequence_length):\n",
    "    sequence = np.zeros(sequence_length)\n",
    "    mutation_count = np.random.poisson(t, size=sequence_length)\n",
    "    for i in range(sequence_length):\n",
    "        for _ in range(mutation_count[i]):\n",
    "            position = np.random.randint(sequence_length)\n",
    "            sequence[position] = 1 - sequence[position]\n",
    "    return int(np.sum(sequence))"
   ]
  },
  {
   "cell_type": "markdown",
   "id": "6c134f0f",
   "metadata": {},
   "source": [
    "Let's plot the result of running this function:"
   ]
  },
  {
   "cell_type": "code",
   "execution_count": 22,
   "id": "644c6d10",
   "metadata": {},
   "outputs": [
    {
     "data": {
      "text/plain": [
       "<Axes: xlabel='x'>"
      ]
     },
     "execution_count": 22,
     "metadata": {},
     "output_type": "execute_result"
    },
    {
     "data": {
      "image/png": "[encoded data removed]",
      "text/plain": [
       "<Figure size 640x480 with 1 Axes>"
      ]
     },
     "metadata": {},
     "output_type": "display_data"
    }
   ],
   "source": [
    "x_values = np.linspace(0., 2.)\n",
    "ones_count = np.array([number_of_ones_after_time(x, 10000) for x in x_values])\n",
    "pd.DataFrame({\"x\": x_values, \"ones_count\": ones_count}).plot(x=\"x\", y=\"ones_count\")"
   ]
  },
  {
   "cell_type": "markdown",
   "id": "c95e9de0",
   "metadata": {},
   "source": [
    "_Exercise: if we run this evolutionary process forever, then what is the fraction of 1s that will result in the sequence? Can you connect this with your answer to the question above using `matrix_power`?_"
   ]
  },
  {
   "attachments": {},
   "cell_type": "markdown",
   "id": "bf1bbf98",
   "metadata": {},
   "source": [
    "sequence_length / 2 --> 0.5 probability for each letter for each site\n",
    "\n",
    "matrix power process converges in the same way"
   ]
  },
  {
   "cell_type": "markdown",
   "id": "e7184060",
   "metadata": {},
   "source": [
    "_Exercise: if we run this evolutionary process forever, how many mutations will happen? Contrast that with the answer to the previous question._"
   ]
  },
  {
   "attachments": {},
   "cell_type": "markdown",
   "id": "14a671e1",
   "metadata": {},
   "source": [
    " an infinite number of mutations would occur\n",
    "\n",
    " mutations would not converge, whereas the fraction of 1s would"
   ]
  },
  {
   "cell_type": "markdown",
   "id": "e271be07",
   "metadata": {},
   "source": [
    "_Exercise: given your answer to the above, do you think it's easier to estimate the duration of relatively short periods of evolution versus very long ones?_"
   ]
  },
  {
   "attachments": {},
   "cell_type": "markdown",
   "id": "e98d6671",
   "metadata": {},
   "source": [
    "it is definitely easier to estimate the duration of relatively short periods of evolution  "
   ]
  },
  {
   "cell_type": "markdown",
   "id": "240ecbeb",
   "metadata": {},
   "source": [
    "_Exercise: say we observe a $\\mu=1$ evolutionary process on a 0/1 sequence such that after some period of time `t`, 20% of the sites have changed from their original state. Using your plot above, give an \"eyeball\" estimate of `t`._"
   ]
  },
  {
   "attachments": {},
   "cell_type": "markdown",
   "id": "53639f4b",
   "metadata": {},
   "source": [
    "0.25 "
   ]
  }
 ],
 "metadata": {
  "kernelspec": {
   "display_name": "Python 3 (ipykernel)",
   "language": "python",
   "name": "python3"
  },
  "language_info": {
   "codemirror_mode": {
    "name": "ipython",
    "version": 3
   },
   "file_extension": ".py",
   "mimetype": "text/x-python",
   "name": "python",
   "nbconvert_exporter": "python",
   "pygments_lexer": "ipython3",
   "version": "3.8.16"
  }
 },
 "nbformat": 4,
 "nbformat_minor": 5
}
