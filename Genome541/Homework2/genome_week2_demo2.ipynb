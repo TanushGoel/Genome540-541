{
 "cells": [
  {
   "cell_type": "code",
   "execution_count": null,
   "metadata": {},
   "outputs": [],
   "source": [
    "# import PyRosetta library\n",
    "from pyrosetta import *\n",
    "init(\"-newdna -beta\")\n",
    "\n",
    "# download a PDB from RCSB\n",
    "from pyrosetta.toolbox import pose_from_rcsb"
   ]
  },
  {
   "cell_type": "code",
   "execution_count": null,
   "metadata": {},
   "outputs": [],
   "source": [
    "# load a DNA-containing structure\n",
    "pose = pose_from_rcsb(\"1yrn\")\n",
    "pose.dump_pdb(\"/home/dimaio/Downloads/1yrn_ros.pdb\")"
   ]
  },
  {
   "cell_type": "code",
   "execution_count": null,
   "metadata": {},
   "outputs": [],
   "source": [
    "pose.set_beta(2, 60.0)"
   ]
  },
  {
   "cell_type": "code",
   "execution_count": null,
   "metadata": {},
   "outputs": [],
   "source": [
    "# relax (the protein components) of a DNA-containing structure\n",
    "scorefxn = rosetta.core.scoring.get_score_function()\n",
    "fastrelax = rosetta.protocols.relax.FastRelax(scorefxn, 1)\n",
    "fastrelax.apply(pose)\n",
    "pose.dump_pdb(\"/home/dimaio/Downloads/1yrn_rlx.pdb\")"
   ]
  },
  {
   "cell_type": "code",
   "execution_count": null,
   "metadata": {},
   "outputs": [],
   "source": [
    "# minimize DNA with the DNA energy function\n",
    "def min_pose(pose, scorefxn, mm):\n",
    "    min_mover = rosetta.protocols.minimization_packing.MinMover()\n",
    "    min_mover.movemap(mm)\n",
    "    min_mover.score_function(scorefxn)\n",
    "    min_mover.min_type(\"lbfgs_armijo\")\n",
    "    min_mover.tolerance(1e-6)\n",
    "    min_mover.apply(pose)\n",
    "\n",
    "pose = pose_from_rcsb(\"1bna\")\n",
    "\n",
    "#scorefxn = rosetta.core.scoring.ScoreFunctionFactory.create_score_function(\"dna.wts\")\n",
    "scorefxn = rosetta.core.scoring.get_score_function()\n",
    "scorefxn.set_weight(rosetta.core.scoring.dna_dihedral_bb, 1.0)\n",
    "scorefxn.set_weight(rosetta.core.scoring.dna_dihedral_chi, 1.0)\n",
    "scorefxn.set_weight(rosetta.core.scoring.dna_dihedral_sugar, 0.1)\n",
    "\n",
    "# declare DOFs we want to allow to minimize\n",
    "mm = MoveMap()\n",
    "mm.set_bb(True)\n",
    "mm.set_chi(True)\n",
    "\n",
    "pose.dump_pdb(\"/home/dimaio/Downloads/1bna_ros.pdb\")\n",
    "min_pose(pose,scorefxn,mm)\n",
    "pose.dump_pdb(\"/home/dimaio/Downloads/1bna_ros_min.pdb\")"
   ]
  },
  {
   "cell_type": "code",
   "execution_count": null,
   "metadata": {},
   "outputs": [],
   "source": []
  }
 ],
 "metadata": {
  "kernelspec": {
   "display_name": "Python 3 (ipykernel)",
   "language": "python",
   "name": "python3"
  },
  "language_info": {
   "codemirror_mode": {
    "name": "ipython",
    "version": 3
   },
   "file_extension": ".py",
   "mimetype": "text/x-python",
   "name": "python",
   "nbconvert_exporter": "python",
   "pygments_lexer": "ipython3",
   "version": "3.10.10"
  }
 },
 "nbformat": 4,
 "nbformat_minor": 4
}
