{
 "cells": [
  {
   "cell_type": "code",
   "execution_count": 1,
   "metadata": {},
   "outputs": [
    {
     "data": {
      "application/vnd.jupyter.widget-view+json": {
       "model_id": "219e483a8d144c3ba5c967314107276e",
       "version_major": 2,
       "version_minor": 0
      },
      "text/plain": []
     },
     "metadata": {},
     "output_type": "display_data"
    },
    {
     "name": "stdout",
     "output_type": "stream",
     "text": [
      "PyRosetta-4 2023 [Rosetta PyRosetta4.conda.m1.cxx11thread.serialization.python39.Release 2023.12+release.1d8714894eec1dac6443b64d144d220c4aed4f9c 2023-03-20T20:16:16] retrieved from: http://www.pyrosetta.org\n",
      "(C) Copyright Rosetta Commons Member Institutions. Created in JHU by Sergey Lyskov and PyRosetta Team.\n"
     ]
    }
   ],
   "source": [
    "import nglview as nv\n",
    "import pyrosetta\n",
    "pyrosetta.init('-mute all')"
   ]
  },
  {
   "cell_type": "code",
   "execution_count": 2,
   "metadata": {},
   "outputs": [],
   "source": [
    "import os\n",
    "\n",
    "FILES_PATH = \"/Users/tgoel/Downloads/Classes/GENOME/GENOME541/hw2/\"\n",
    "def get_pose_from_file(file_name):\n",
    "    file_n = os.path.join(FILES_PATH, file_name)\n",
    "    return pyrosetta.pose_from_file(file_n)\n",
    "\n",
    "def get_pose_from_fasta(file_name):\n",
    "    file_n = os.path.join(FILES_PATH, file_name)\n",
    "    with open(file_n) as f:\n",
    "        sequence = f.read().split(\"\\n\")[1]\n",
    "    return pyrosetta.pose_from_sequence(sequence)"
   ]
  },
  {
   "cell_type": "code",
   "execution_count": 3,
   "metadata": {},
   "outputs": [],
   "source": [
    "import numpy as np\n",
    "\n",
    "def set_backbone_torsions(pose):\n",
    "    for i in range(pose.total_residue()):\n",
    "        pose.set_phi(i+1, np.random.randint(-180, 180))\n",
    "        pose.set_psi(i+1, np.random.randint(-180, 180))"
   ]
  },
  {
   "cell_type": "code",
   "execution_count": 4,
   "metadata": {},
   "outputs": [],
   "source": [
    "def set_constraints(pose, res1, res2): # set constraints on the target pose between the Cbeta of residue res1 and residue res2\n",
    "    id_i = pyrosetta.rosetta.core.id.AtomID(pose.residue(res1).atom_index(\"CB\"), res1)\n",
    "    id_j = pyrosetta.rosetta.core.id.AtomID(pose.residue(res2).atom_index(\"CB\"), res2)\n",
    "    ijfunc = pyrosetta.rosetta.core.scoring.constraints.BoundFunc(0.0, 6.0, 1.0, 'cst1');\n",
    "    cst_ij = pyrosetta.rosetta.core.scoring.constraints.AtomPairConstraint(id_i, id_j, ijfunc)\n",
    "    pose.add_constraint(cst_ij)\n",
    "\n",
    "def set_constraints_with_file(pose, file_name):\n",
    "    with open(FILES_PATH + file_name, \"r\") as f:\n",
    "        constraints = f.read().strip().split(\"\\n\")\n",
    "    for constraint in constraints:\n",
    "        res1, res2 = constraint.split()\n",
    "        set_constraints(pose, int(res1), int(res2))"
   ]
  },
  {
   "cell_type": "code",
   "execution_count": 5,
   "metadata": {},
   "outputs": [],
   "source": [
    "scorefxn = pyrosetta.rosetta.core.scoring.ScoreFunctionFactory.create_score_function(\"ref2015_cst.wts\")\n",
    "def relax_pose(pose, macrocycles=5):\n",
    "    fastrelax = pyrosetta.rosetta.protocols.relax.FastRelax(scorefxn, macrocycles)\n",
    "    fastrelax.apply(pose)\n",
    "    return scorefxn.score(pose)"
   ]
  },
  {
   "cell_type": "code",
   "execution_count": 6,
   "metadata": {},
   "outputs": [],
   "source": [
    "def fold_protein(protein, show=False):\n",
    "    display(nv.show_file(FILES_PATH + protein + \".pdb\")) if show else None # nv.get_pose_from_file(FILES_PATH + protein + \".pdb\")\n",
    "\n",
    "    pose = get_pose_from_fasta(FILES_PATH + protein + \".fasta\")\n",
    "    set_backbone_torsions(pose)\n",
    "    display(nv.show_rosetta(pose)) if show else None\n",
    "\n",
    "    set_constraints_with_file(pose, protein + \".contacts\")\n",
    "    score = relax_pose(pose)\n",
    "    display(nv.show_rosetta(pose)) if show else None\n",
    "\n",
    "    return (pose, score) if not show else score\n",
    "\n",
    "PROTEIN_ID = \"6qfj_A\"\n",
    "# fold_protein(PROTEIN_ID, show=False)"
   ]
  },
  {
   "cell_type": "code",
   "execution_count": 7,
   "metadata": {},
   "outputs": [],
   "source": [
    "import time\n",
    "\n",
    "OUT_PATH = \"/Users/tgoel/Downloads/\"\n",
    "def fold(prot, fold_fn, folds=10, show=False, save=False):\n",
    "\n",
    "    prot_scores = []\n",
    "    for i in range(folds):\n",
    "        start_time = time.time()\n",
    "        pose, score = fold_fn(prot)\n",
    "        prot_scores.append((pose, score))\n",
    "        end_time = time.time()\n",
    "        print(prot, \"fold\", i+1, \"completed --> score:\", f\"{score:3f}\", \"time:\", f\"{end_time-start_time:2f}\", \"seconds\")\n",
    "\n",
    "    display(nv.show_file(FILES_PATH + prot + \".pdb\")) if show else None\n",
    "\n",
    "    prot_scores.sort(key=lambda x: x[1])\n",
    "    for i, pose_score in enumerate(prot_scores[:3]):\n",
    "        pose, score = pose_score\n",
    "        if save:\n",
    "            pose.dump_pdb(OUT_PATH + prot + \"_\" + str(i) + \".pdb\")\n",
    "        if show:\n",
    "            display(nv.show_rosetta(pose))"
   ]
  },
  {
   "cell_type": "code",
   "execution_count": 8,
   "metadata": {},
   "outputs": [],
   "source": [
    "# fold(\"5gua_A\", fold_fn=fold_protein, show=True, save=False)\n",
    "# fold(\"5h9h_C\", fold_fn=fold_protein, show=True, save=False)\n",
    "# fold(\"6ipy_A\", fold_fn=fold_protein, show=True, save=False)\n",
    "# fold(\"6qfj_A\", fold_fn=fold_protein, show=True, save=False)"
   ]
  },
  {
   "cell_type": "code",
   "execution_count": 9,
   "metadata": {},
   "outputs": [],
   "source": [
    "def relax_native(protein, show=False):\n",
    "    pose = get_pose_from_file(FILES_PATH + protein + \".pdb\")\n",
    "    set_constraints_with_file(pose, protein + \".contacts\")\n",
    "    score = relax_pose(pose)\n",
    "    print(scorefxn.show(pose))\n",
    "    display(nv.show_rosetta(pose)) if show else None\n",
    "    return score"
   ]
  },
  {
   "cell_type": "code",
   "execution_count": 10,
   "metadata": {},
   "outputs": [],
   "source": [
    "# relax_native(\"5gua_A\", show=True)\n",
    "# relax_native(\"5h9h_C\", show=True)\n",
    "# relax_native(\"6ipy_A\", show=True)\n",
    "# relax_native(\"6qfj_A\", show=True)"
   ]
  },
  {
   "cell_type": "code",
   "execution_count": 11,
   "metadata": {},
   "outputs": [],
   "source": [
    "# https://pubmed.ncbi.nlm.nih.gov/11276088\n",
    "\n",
    "residues_data = {\n",
    "    'G': [(87, 7), (-66, -35), (70, -144), (105, 170), (-171, 177), (-87, 163)],\n",
    "    'D': [(-140, 165), (-78, 141), (-108, 103), (-97, 5), (-64, -39), (57, 39)],\n",
    "    'N': [(-140, 165), (-78, 141), (-108, 103), (-97, 5), (-64, -39), (57, 39)],\n",
    "    'I': [(-132, 153), (-86, 127), (-118, 125), (-91, -9), (-63, -42), (57, 39)],\n",
    "    'V': [(-132, 153), (-86, 127), (-118, 125), (-91, -9), (-63, -42), (57, 39)],\n",
    "    'P': [(-64, 145), (-60, -29), (-60, -29), (-77, 161), (-77, 161), (-84, -2)],\n",
    "    '.': [(-136, 153), (-76, 143), (-112, 119), (-91, -9), (-63, -42), (57, 39)]\n",
    "}\n",
    "\n",
    "def set_backbone_torsionsV2(pose):\n",
    "    angle = np.random.randint(6)\n",
    "    for i, residue in enumerate(list(pose.residues)):\n",
    "        amino = residue.name1()\n",
    "        amino = '.' if amino not in residues_data else amino\n",
    "        phi, psi = residues_data[amino][angle]\n",
    "        pose.set_phi(i+1, phi)\n",
    "        pose.set_psi(i+1, psi)"
   ]
  },
  {
   "cell_type": "code",
   "execution_count": 12,
   "metadata": {},
   "outputs": [],
   "source": [
    "def get_constraints_with_file(file_name):\n",
    "    with open(FILES_PATH + file_name, \"r\") as f:\n",
    "        constraints = f.read().strip().split(\"\\n\")\n",
    "        constraints = [x.split() for x in constraints]\n",
    "        constraints = [(int(x[0]), int(x[1])) for x in constraints]\n",
    "        distances = [abs(x[0] - x[1]) for x in constraints]\n",
    "        combined = list(zip(constraints, distances))\n",
    "        combined.sort(key=lambda x: x[1])\n",
    "    sorted_constraints = [x[0] for x in combined]\n",
    "    return sorted_constraints"
   ]
  },
  {
   "cell_type": "code",
   "execution_count": 13,
   "metadata": {},
   "outputs": [],
   "source": [
    "def fold_proteinV2(protein, show=False):\n",
    "    display(nv.show_file(FILES_PATH + protein + \".pdb\")) if show else None # nv.get_pose_from_file(FILES_PATH + protein + \".pdb\")\n",
    "\n",
    "    pose = get_pose_from_fasta(FILES_PATH + protein + \".fasta\")\n",
    "    set_backbone_torsionsV2(pose)\n",
    "    display(nv.show_rosetta(pose)) if show else None\n",
    "\n",
    "    constraints = get_constraints_with_file(protein + \".contacts\")\n",
    "    threshold = 5\n",
    "    for constraint in constraints:\n",
    "        if abs(constraint[1] - constraint[0]) > threshold:\n",
    "            relax_pose(pose, macrocycles=1)\n",
    "            threshold += 5\n",
    "        set_constraints(pose, constraint[0], constraint[1])\n",
    "    score = relax_pose(pose, macrocycles=1)\n",
    "    display(nv.show_rosetta(pose)) if show else None\n",
    "\n",
    "    return (pose, score) if not show else score\n",
    "\n",
    "# fold_proteinV2(PROTEIN_ID, show=False)"
   ]
  },
  {
   "cell_type": "code",
   "execution_count": 14,
   "metadata": {},
   "outputs": [],
   "source": [
    "# fold(\"5gua_A\", fold_fn=fold_proteinV2, show=True, save=False)\n",
    "# fold(\"5h9h_C\", fold_fn=fold_proteinV2, show=True, save=False)\n",
    "# fold(\"6ipy_A\", fold_fn=fold_proteinV2, show=True, save=False)\n",
    "# fold(\"6qfj_A\", fold_fn=fold_proteinV2, show=True, save=False)"
   ]
  },
  {
   "cell_type": "code",
   "execution_count": 15,
   "metadata": {},
   "outputs": [
    {
     "name": "stdout",
     "output_type": "stream",
     "text": [
      "SHMEDYIEAIANVLEKTPSISDVKDIIARELGQVLEFEIDLYVPPDITVTTGERIKKEVNQIIKEIVDRKSTVKVRLFAA\n",
      "SHMEDYIEAIANVLEKTPSISDVKDIIARELGQVLEFEIDLYVPPDITVTTGERIKKEVNQIIKEIVDRKSTVKVRLFAA\n",
      "SHMEDYIEAIANVLEKTPSISDVKDIIARELGQVLEFEIDLYVPPDITVTTGERIKKEVNQIIKEIVDRKSTVKVRLFAA\n"
     ]
    }
   ],
   "source": [
    "with open(FILES_PATH + PROTEIN_ID + \".fasta\", \"r\") as f:\n",
    "    print(f.read().strip().split(\"\\n\")[1])\n",
    "print(get_pose_from_fasta(FILES_PATH + PROTEIN_ID + \".fasta\").sequence())\n",
    "print(\"\".join([i.name1() for i in get_pose_from_fasta(FILES_PATH + PROTEIN_ID + \".fasta\").residues]))\n",
    "# http://bioinf.cs.ucl.ac.uk/psipred/&psipred_uuid=57f6d54a-d58b-11ed-b4fb-00163e100d53"
   ]
  },
  {
   "cell_type": "code",
   "execution_count": 16,
   "metadata": {},
   "outputs": [],
   "source": [
    "coil_helix_strand = {1: (-140, 130), # helix\n",
    "                     2: (-60, -50)} # strand\n",
    "\n",
    "# http://bioinf.cs.ucl.ac.uk/psipred/&uuid=3be4ad06-d58f-11ed-b4fb-00163e100d53\n",
    "psipred = [0, 0, 0, 1, 1, 1, 1, 1, 1, 1, 1, 1, 1, 1, 1, 0, 0, 0, 0, 2, \n",
    "           2, 2, 2, 2, 2, 2, 2, 2, 2, 2, 2, 0, 0, 2, 2, 2, 2, 2, 2, 2, \n",
    "           2, 2, 2, 0, 0, 0, 0, 0, 1, 1, 1, 1, 1, 1, 1, 1, 1, 1, 1, 1, \n",
    "           1, 1, 1, 1, 1, 1, 0, 0, 0, 0, 0, 2, 2, 2, 2, 2, 2, 2, 0, 0]\n",
    "\n",
    "def set_backbone_torsionsV3(pose, psipreds):\n",
    "    for i, chs in enumerate(psipreds):\n",
    "        phi, psi = coil_helix_strand[chs] if chs != 0 else (np.random.randint(-180, 180), np.random.randint(-180, 180))\n",
    "        pose.set_phi(i+1, phi)\n",
    "        pose.set_psi(i+1, psi)"
   ]
  },
  {
   "cell_type": "code",
   "execution_count": 17,
   "metadata": {},
   "outputs": [],
   "source": [
    "def fold_proteinV3(protein, show=False):\n",
    "    display(nv.show_file(FILES_PATH + protein + \".pdb\")) if show else None # nv.get_pose_from_file(FILES_PATH + protein + \".pdb\")\n",
    "\n",
    "    pose = get_pose_from_fasta(FILES_PATH + protein + \".fasta\")\n",
    "    set_backbone_torsionsV3(pose, psipred)\n",
    "    display(nv.show_rosetta(pose)) if show else None\n",
    "\n",
    "    constraints = get_constraints_with_file(protein + \".contacts\")\n",
    "    threshold = 5\n",
    "    for constraint in constraints:\n",
    "        if abs(constraint[1] - constraint[0]) > threshold:\n",
    "            relax_pose(pose, macrocycles=1)\n",
    "            threshold += 5\n",
    "        set_constraints(pose, constraint[0], constraint[1])\n",
    "    score = relax_pose(pose, macrocycles=1)\n",
    "    display(nv.show_rosetta(pose)) if show else None\n",
    "\n",
    "    return (pose, score) if not show else score\n",
    "\n",
    "# fold_proteinV3(PROTEIN_ID, show=False)"
   ]
  },
  {
   "cell_type": "code",
   "execution_count": 18,
   "metadata": {},
   "outputs": [],
   "source": [
    "# http://robetta.bakerlab.org/fragmentsubmit.jsp\n",
    "# http://old.robetta.org/downloads/fragments/79542/\n",
    "# save http://old.robetta.org/downloads/fragments/79542/aat000_09_05.200_v1_3 to fragments.txt\n",
    "\n",
    "fragset = pyrosetta.rosetta.core.fragment.ConstantLengthFragSet(3)\n",
    "fragset.read_fragment_file(OUT_PATH + \"fragments.txt\")"
   ]
  },
  {
   "cell_type": "code",
   "execution_count": 19,
   "metadata": {},
   "outputs": [],
   "source": [
    "def fold_proteinV4(protein, show=False):\n",
    "    display(nv.show_file(FILES_PATH + protein + \".pdb\")) if show else None # nv.get_pose_from_file(FILES_PATH + protein + \".pdb\")\n",
    "\n",
    "    pose = get_pose_from_fasta(FILES_PATH + protein + \".fasta\")\n",
    "    movemap = pyrosetta.MoveMap()\n",
    "    movemap.set_bb(True)\n",
    "    mover_3mer = pyrosetta.rosetta.protocols.simple_moves.ClassicFragmentMover(fragset, movemap)\n",
    "    pmm = pyrosetta.PyMOLMover()\n",
    "    pmm.send_movemap(pose, movemap)\n",
    "    for i in range(500):\n",
    "        mover_3mer.apply(pose)\n",
    "        pmm.apply(pose)\n",
    "    display(nv.show_rosetta(pose)) if show else None\n",
    "\n",
    "    constraints = get_constraints_with_file(protein + \".contacts\")\n",
    "    threshold = 5\n",
    "    for constraint in constraints:\n",
    "        if abs(constraint[1] - constraint[0]) > threshold:\n",
    "            relax_pose(pose, macrocycles=1)\n",
    "            threshold += 5\n",
    "        set_constraints(pose, constraint[0], constraint[1])\n",
    "    score = relax_pose(pose, macrocycles=1)\n",
    "    display(nv.show_rosetta(pose)) if show else None\n",
    "\n",
    "    return (pose, score) if not show else score\n",
    "\n",
    "# fold_proteinV4(PROTEIN_ID, show=True)"
   ]
  },
  {
   "cell_type": "code",
   "execution_count": null,
   "metadata": {},
   "outputs": [],
   "source": []
  }
 ],
 "metadata": {
  "kernelspec": {
   "display_name": "genome",
   "language": "python",
   "name": "python3"
  },
  "language_info": {
   "codemirror_mode": {
    "name": "ipython",
    "version": 3
   },
   "file_extension": ".py",
   "mimetype": "text/x-python",
   "name": "python",
   "nbconvert_exporter": "python",
   "pygments_lexer": "ipython3",
   "version": "3.9.16"
  },
  "orig_nbformat": 4
 },
 "nbformat": 4,
 "nbformat_minor": 2
}
