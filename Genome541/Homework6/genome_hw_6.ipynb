{
 "cells": [
  {
   "cell_type": "code",
   "execution_count": 13,
   "metadata": {},
   "outputs": [
    {
     "data": {
      "text/html": [
       "<div>\n",
       "<style scoped>\n",
       "    .dataframe tbody tr th:only-of-type {\n",
       "        vertical-align: middle;\n",
       "    }\n",
       "\n",
       "    .dataframe tbody tr th {\n",
       "        vertical-align: top;\n",
       "    }\n",
       "\n",
       "    .dataframe thead th {\n",
       "        text-align: right;\n",
       "    }\n",
       "</style>\n",
       "<table border=\"1\" class=\"dataframe\">\n",
       "  <thead>\n",
       "    <tr style=\"text-align: right;\">\n",
       "      <th></th>\n",
       "      <th>bead1</th>\n",
       "      <th>bead2</th>\n",
       "      <th>distance</th>\n",
       "    </tr>\n",
       "  </thead>\n",
       "  <tbody>\n",
       "    <tr>\n",
       "      <th>0</th>\n",
       "      <td>0</td>\n",
       "      <td>2</td>\n",
       "      <td>0.000536</td>\n",
       "    </tr>\n",
       "    <tr>\n",
       "      <th>1</th>\n",
       "      <td>0</td>\n",
       "      <td>3</td>\n",
       "      <td>0.000119</td>\n",
       "    </tr>\n",
       "    <tr>\n",
       "      <th>2</th>\n",
       "      <td>0</td>\n",
       "      <td>4</td>\n",
       "      <td>0.008523</td>\n",
       "    </tr>\n",
       "    <tr>\n",
       "      <th>3</th>\n",
       "      <td>0</td>\n",
       "      <td>5</td>\n",
       "      <td>0.000834</td>\n",
       "    </tr>\n",
       "    <tr>\n",
       "      <th>4</th>\n",
       "      <td>0</td>\n",
       "      <td>6</td>\n",
       "      <td>0.013471</td>\n",
       "    </tr>\n",
       "  </tbody>\n",
       "</table>\n",
       "</div>"
      ],
      "text/plain": [
       "   bead1  bead2  distance\n",
       "0      0      2  0.000536\n",
       "1      0      3  0.000119\n",
       "2      0      4  0.008523\n",
       "3      0      5  0.000834\n",
       "4      0      6  0.013471"
      ]
     },
     "execution_count": 13,
     "metadata": {},
     "output_type": "execute_result"
    }
   ],
   "source": [
    "import pandas as pd\n",
    "import os\n",
    "PATH = \"/Users/tgoel/Downloads/Classes/GENOME/GENOME541/hw6/\"\n",
    "# os.listdir(PATH) --> ['yeast_chrom7_counts.txt', 'spiral_counts.txt', 'spiral_true_points.txt']\n",
    "\n",
    "def read_data(filename):\n",
    "    df = pd.read_csv(os.path.join(PATH + filename), sep='\\t')\n",
    "    df[\"distance\"] = 10**3 * df[\"counts\"].astype(\"float16\")**-3 # convert the Hi-C counts to distances using the conversion relationship\n",
    "    df.drop(columns=[\"counts\"], inplace=True)\n",
    "    bead_ids = pd.concat([df[\"bead1\"], df[\"bead2\"]]).unique()\n",
    "    return df, bead_ids\n",
    "\n",
    "data, ids = read_data('yeast_chrom7_counts.txt') # includes only pairwise distances from significant Hi-C counts (FDR 1%)\n",
    "data.head()"
   ]
  },
  {
   "cell_type": "code",
   "execution_count": 14,
   "metadata": {},
   "outputs": [],
   "source": [
    "import numpy as np\n",
    "DIM3D = True\n",
    "\n",
    "class Bead():\n",
    "\n",
    "    def __init__(self, id, x, y, z):\n",
    "        self.id = id\n",
    "        self.x = x\n",
    "        self.y = y\n",
    "        self.z = z\n",
    "        self.history = [(x, y, z)]\n",
    "\n",
    "    def distance(self, bead):\n",
    "        if DIM3D:\n",
    "            return np.sqrt((self.x - bead.x)**2 + (self.y - bead.y)**2 + (self.z - bead.z)**2)\n",
    "        return np.sqrt((self.x - bead.x)**2 + (self.y - bead.y)**2)\n",
    "        \n",
    "    def update(self, x_step, y_step, z_step):\n",
    "        self.x += x_step\n",
    "        self.y += y_step\n",
    "        self.z += z_step\n",
    "        self.history.append((self.x, self.y, self.z))"
   ]
  },
  {
   "cell_type": "code",
   "execution_count": 15,
   "metadata": {},
   "outputs": [],
   "source": [
    "def place_beads(bead_ids):\n",
    "    n_beads = len(bead_ids)\n",
    "    xs = np.random.rand(n_beads)\n",
    "    ys = np.random.rand(n_beads)\n",
    "    zs = np.random.rand(n_beads)\n",
    "    beads = [Bead(id, x, y, z) for id, x, y, z in zip(bead_ids, xs, ys, zs)]\n",
    "    return dict(zip(ids, beads)) # {bead_id: Bead object}\n",
    "\n",
    "beads = place_beads(ids)"
   ]
  },
  {
   "cell_type": "code",
   "execution_count": 16,
   "metadata": {},
   "outputs": [
    {
     "data": {
      "application/vnd.plotly.v1+json": {
       "config": {
        "plotlyServerURL": "https://plot.ly"
       },
       "data": [
        {
         "hovertemplate": "x=%{x}<br>y=%{y}<br>z=%{z}<extra></extra>",
         "legendgroup": "",
         "marker": {
          "color": "#636efa",
          "opacity": 0.5,
          "symbol": "circle"
         },
         "mode": "markers",
         "name": "",
         "scene": "scene",
         "showlegend": false,
         "type": "scatter3d",
         "x": [
          0.054542160703343945,
          0.6045843569693218,
          0.9678460774190675,
          0.9605639253433084,
          0.7115495433974424,
          0.53869768796344,
          0.10830734307069156,
          0.15806097287990994,
          0.3050647905699305,
          0.997227419263758,
          0.9312136106772229,
          0.26014214026313054,
          0.3463555018560347,
          0.45545138146522923,
          0.41118581387082165,
          0.5244949109441293,
          0.27153170314674735,
          0.8620844025467077,
          0.5466686382001398,
          0.28715027462404874,
          0.5969684116724516,
          0.0009514342055746416,
          0.9678773427826397,
          0.25260581762226364,
          0.05530017036824353,
          0.6567135451412209,
          0.5060140622620137,
          0.6161924468014592,
          0.5227884692339092,
          0.5239978574098573,
          0.8334818484572282,
          0.9276104580599609,
          0.6870925425342113,
          0.005952146072830677,
          0.9037649654852972,
          0.8320030271562494,
          0.4794653336166361,
          0.0025985113895836687,
          0.7124588351107658,
          0.31260129018571026,
          0.5441417750059028,
          0.2398580231205244,
          0.9651637818207308,
          0.3342619885461776,
          0.25481593014481907,
          0.7683820354402068,
          0.6122839277050008,
          0.11466743238857202,
          0.9504330043740177,
          0.18429623927537797,
          0.8691114971369945,
          0.492045032533574,
          0.4562900669846065,
          0.5543495582346387,
          0.25886004658075723,
          0.05340007550333559,
          0.9514896283660947,
          0.02094603714571197,
          0.7968893433754668,
          0.5792019381730753,
          0.5521675097534506,
          0.002859785262435355,
          0.43925273526343933,
          0.9910994143038736,
          0.38703192792116814,
          0.8341519576286621,
          0.5305277715248639,
          0.6284769709964646,
          0.05394157620985618,
          0.6422485470421718,
          0.49080648572289876,
          0.8061380728870928,
          0.01571768637427695,
          0.9998605327878801,
          0.401594662126733,
          0.7951698432597674,
          0.7437556302647864,
          0.22848094575345523,
          0.38894989661822643,
          0.9227479546575919,
          0.7638885320699212,
          0.3087586137320699,
          0.40887790285185743,
          0.9636760767539749,
          0.7198662779025792,
          0.449877660011641,
          0.6143439618939222,
          0.8657466074936612,
          0.6661329042151155,
          0.08778297189404338,
          0.5352194225127053,
          0.14892163617617604,
          0.6994362743226068,
          0.8030984888124534,
          0.6227775602875156,
          0.9156652265414132,
          0.4079709218558206,
          0.4509983661746959,
          0.98042999454942,
          0.2913696225397667,
          0.33864598605048246,
          0.41399265479531744,
          0.3449350615786958,
          0.1886278638844192,
          0.36459397164862495,
          0.4300798938403908,
          0.46141565548393904,
          0.8246421242058538,
          0.4770335887507908
         ],
         "y": [
          0.9955328910506138,
          0.553916819442748,
          0.6222149501390467,
          0.6274777254709708,
          0.9355587325273803,
          0.4979320471312437,
          0.5490894164455333,
          0.5457886145688317,
          0.24880680145341105,
          0.7788226434492198,
          0.9438756449148047,
          0.7793789438393601,
          0.5368280932331667,
          0.6158507782435322,
          0.8767855543256521,
          0.4060783891060977,
          0.6507747888499604,
          0.4333490351569852,
          0.019881102946085583,
          0.5622319000713949,
          0.39140068115268734,
          0.8548583643125217,
          0.7454806164106136,
          0.8787261592012945,
          0.6064519178368826,
          0.2651046306182623,
          0.6776485667145453,
          0.17343325516741803,
          0.41049838264417693,
          0.8265987639626499,
          0.49627721464760444,
          0.37908155931995013,
          0.6208107195567528,
          0.687324687089985,
          0.35621531213691005,
          0.12766113548576075,
          0.46682292954210136,
          0.08646500140024016,
          0.7818708273831384,
          0.05467136473212797,
          0.34232599592735546,
          0.7259532843758707,
          0.5382932517833092,
          0.8188659627618955,
          0.6587945479648433,
          0.2943067239002083,
          0.2522109411433925,
          0.4190894260989011,
          0.2421493059155576,
          0.4424391074403117,
          0.5434427231726195,
          0.9163838483111132,
          0.7263396993926127,
          0.5033529308894749,
          0.22602165235362826,
          0.877060209208149,
          0.42026530620825553,
          0.4401266340128941,
          0.3307151706629704,
          0.8468599018729015,
          0.2905738009962301,
          0.6026098156041235,
          0.06366481825636816,
          0.24287566996563925,
          0.7974810468414536,
          0.8607962460852959,
          0.7869212145223967,
          0.25772098692516865,
          0.22777659024849506,
          0.6035236515129669,
          0.4460572890643095,
          0.37085448418635303,
          0.5788558850039323,
          0.2018006247937718,
          0.4687934086951717,
          0.8138972467201134,
          0.6766815534874377,
          0.13960863880949825,
          0.9253268541631697,
          0.27818326921800574,
          0.0956487038094952,
          0.47970067773278346,
          0.9720887062863549,
          0.15114142944016207,
          0.18695882384627593,
          0.6025994661284448,
          0.726072376697781,
          0.4601347731593102,
          0.6922297817385065,
          0.11243095124834035,
          0.8985539589141693,
          0.5794919621225161,
          0.07872220294145182,
          0.8210024579545915,
          0.889557626621032,
          0.6391141521346967,
          0.8217062860746657,
          0.7442039173868733,
          0.5513494263305433,
          0.4668436199436141,
          0.8483708092017673,
          0.04125861384388396,
          0.08243106435960201,
          0.535921921864438,
          0.3933607799572316,
          0.6663430757139479,
          0.10452953502802109,
          0.7252410316971089,
          0.2430700958719374
         ],
         "z": [
          0.32129092757003497,
          0.48185063665122707,
          0.913307397846445,
          0.9206151040997693,
          0.534083144591462,
          0.7874158206998728,
          0.6082766821420145,
          0.281017615716593,
          0.34617111706102954,
          0.7925348668123694,
          0.27478858726835786,
          0.5677727334242553,
          0.9468403468599939,
          0.5788784825886206,
          0.6303738945373791,
          0.49222458681730186,
          0.20523576573628777,
          0.36204156486420813,
          0.30270611832035077,
          0.26390224626820447,
          0.1749336620026073,
          0.043512361484133066,
          0.6278248384001139,
          0.42183847287129994,
          0.8854812433451978,
          0.3167993496619348,
          0.04742903998632331,
          0.4574268456218117,
          0.17331336412465048,
          0.9794959441896469,
          0.2724544427775105,
          0.1329133619603634,
          0.35919542686098804,
          0.7951244146603084,
          0.9553106958799173,
          0.627317444883941,
          0.33477198405965003,
          0.5845619228974648,
          0.3367987617745749,
          0.8015608424725076,
          0.787301510567957,
          0.7841605085796258,
          0.08597715364223546,
          0.5536093247700338,
          0.45065115135773437,
          0.5511157242871503,
          0.12972107866609606,
          0.9827335973085557,
          0.09750440286746598,
          0.5180585327102453,
          0.9410630255796437,
          0.9995838350715656,
          0.502813285441964,
          0.7158328839444783,
          0.43039815184157004,
          0.5394905716771214,
          0.47403109936713994,
          0.38515656551409805,
          0.8870748696457512,
          0.261930668584475,
          0.08429536809384786,
          0.2510783142082844,
          0.17438378561203072,
          0.4016393113540745,
          0.5711773877866771,
          0.8585153046142653,
          0.5785602497351828,
          0.9760938155654936,
          0.10878394412344083,
          0.5805232422984111,
          0.9955003706431403,
          0.5278826797717084,
          0.002319131926228568,
          0.721830818597267,
          0.42125738701783355,
          0.8244686418891833,
          0.24809226451159883,
          0.653141222815524,
          0.09865454363662063,
          0.5713105503074554,
          0.8224402652961653,
          0.3272948460540207,
          0.7322717807314535,
          0.47350515388030245,
          0.846701694779776,
          0.7756674521310913,
          0.42439161067918674,
          0.4175722798525118,
          0.9120381778654644,
          0.36193751883462744,
          0.6769302952587223,
          0.07270420264146815,
          0.08054849717150936,
          0.9647648572370844,
          0.3195507370919217,
          0.23140137422288498,
          0.8113990457774566,
          0.9278822278171617,
          0.017000683353478485,
          0.8052772694647555,
          0.5784880535381207,
          0.27270145603635176,
          0.1069346258823125,
          0.16607816571809408,
          0.6088171135075587,
          0.5523039116428888,
          0.2112737794700178,
          0.6351481071274117,
          0.04747591470747248
         ]
        }
       ],
       "layout": {
        "legend": {
         "tracegroupgap": 0
        },
        "margin": {
         "t": 60
        },
        "scene": {
         "domain": {
          "x": [
           0,
           1
          ],
          "y": [
           0,
           1
          ]
         },
         "xaxis": {
          "title": {
           "text": "x"
          }
         },
         "yaxis": {
          "title": {
           "text": "y"
          }
         },
         "zaxis": {
          "title": {
           "text": "z"
          }
         }
        },
        "template": {
         "data": {
          "bar": [
           {
            "error_x": {
             "color": "#2a3f5f"
            },
            "error_y": {
             "color": "#2a3f5f"
            },
            "marker": {
             "line": {
              "color": "#E5ECF6",
              "width": 0.5
             },
             "pattern": {
              "fillmode": "overlay",
              "size": 10,
              "solidity": 0.2
             }
            },
            "type": "bar"
           }
          ],
          "barpolar": [
           {
            "marker": {
             "line": {
              "color": "#E5ECF6",
              "width": 0.5
             },
             "pattern": {
              "fillmode": "overlay",
              "size": 10,
              "solidity": 0.2
             }
            },
            "type": "barpolar"
           }
          ],
          "carpet": [
           {
            "aaxis": {
             "endlinecolor": "#2a3f5f",
             "gridcolor": "white",
             "linecolor": "white",
             "minorgridcolor": "white",
             "startlinecolor": "#2a3f5f"
            },
            "baxis": {
             "endlinecolor": "#2a3f5f",
             "gridcolor": "white",
             "linecolor": "white",
             "minorgridcolor": "white",
             "startlinecolor": "#2a3f5f"
            },
            "type": "carpet"
           }
          ],
          "choropleth": [
           {
            "colorbar": {
             "outlinewidth": 0,
             "ticks": ""
            },
            "type": "choropleth"
           }
          ],
          "contour": [
           {
            "colorbar": {
             "outlinewidth": 0,
             "ticks": ""
            },
            "colorscale": [
             [
              0,
              "#0d0887"
             ],
             [
              0.1111111111111111,
              "#46039f"
             ],
             [
              0.2222222222222222,
              "#7201a8"
             ],
             [
              0.3333333333333333,
              "#9c179e"
             ],
             [
              0.4444444444444444,
              "#bd3786"
             ],
             [
              0.5555555555555556,
              "#d8576b"
             ],
             [
              0.6666666666666666,
              "#ed7953"
             ],
             [
              0.7777777777777778,
              "#fb9f3a"
             ],
             [
              0.8888888888888888,
              "#fdca26"
             ],
             [
              1,
              "#f0f921"
             ]
            ],
            "type": "contour"
           }
          ],
          "contourcarpet": [
           {
            "colorbar": {
             "outlinewidth": 0,
             "ticks": ""
            },
            "type": "contourcarpet"
           }
          ],
          "heatmap": [
           {
            "colorbar": {
             "outlinewidth": 0,
             "ticks": ""
            },
            "colorscale": [
             [
              0,
              "#0d0887"
             ],
             [
              0.1111111111111111,
              "#46039f"
             ],
             [
              0.2222222222222222,
              "#7201a8"
             ],
             [
              0.3333333333333333,
              "#9c179e"
             ],
             [
              0.4444444444444444,
              "#bd3786"
             ],
             [
              0.5555555555555556,
              "#d8576b"
             ],
             [
              0.6666666666666666,
              "#ed7953"
             ],
             [
              0.7777777777777778,
              "#fb9f3a"
             ],
             [
              0.8888888888888888,
              "#fdca26"
             ],
             [
              1,
              "#f0f921"
             ]
            ],
            "type": "heatmap"
           }
          ],
          "heatmapgl": [
           {
            "colorbar": {
             "outlinewidth": 0,
             "ticks": ""
            },
            "colorscale": [
             [
              0,
              "#0d0887"
             ],
             [
              0.1111111111111111,
              "#46039f"
             ],
             [
              0.2222222222222222,
              "#7201a8"
             ],
             [
              0.3333333333333333,
              "#9c179e"
             ],
             [
              0.4444444444444444,
              "#bd3786"
             ],
             [
              0.5555555555555556,
              "#d8576b"
             ],
             [
              0.6666666666666666,
              "#ed7953"
             ],
             [
              0.7777777777777778,
              "#fb9f3a"
             ],
             [
              0.8888888888888888,
              "#fdca26"
             ],
             [
              1,
              "#f0f921"
             ]
            ],
            "type": "heatmapgl"
           }
          ],
          "histogram": [
           {
            "marker": {
             "pattern": {
              "fillmode": "overlay",
              "size": 10,
              "solidity": 0.2
             }
            },
            "type": "histogram"
           }
          ],
          "histogram2d": [
           {
            "colorbar": {
             "outlinewidth": 0,
             "ticks": ""
            },
            "colorscale": [
             [
              0,
              "#0d0887"
             ],
             [
              0.1111111111111111,
              "#46039f"
             ],
             [
              0.2222222222222222,
              "#7201a8"
             ],
             [
              0.3333333333333333,
              "#9c179e"
             ],
             [
              0.4444444444444444,
              "#bd3786"
             ],
             [
              0.5555555555555556,
              "#d8576b"
             ],
             [
              0.6666666666666666,
              "#ed7953"
             ],
             [
              0.7777777777777778,
              "#fb9f3a"
             ],
             [
              0.8888888888888888,
              "#fdca26"
             ],
             [
              1,
              "#f0f921"
             ]
            ],
            "type": "histogram2d"
           }
          ],
          "histogram2dcontour": [
           {
            "colorbar": {
             "outlinewidth": 0,
             "ticks": ""
            },
            "colorscale": [
             [
              0,
              "#0d0887"
             ],
             [
              0.1111111111111111,
              "#46039f"
             ],
             [
              0.2222222222222222,
              "#7201a8"
             ],
             [
              0.3333333333333333,
              "#9c179e"
             ],
             [
              0.4444444444444444,
              "#bd3786"
             ],
             [
              0.5555555555555556,
              "#d8576b"
             ],
             [
              0.6666666666666666,
              "#ed7953"
             ],
             [
              0.7777777777777778,
              "#fb9f3a"
             ],
             [
              0.8888888888888888,
              "#fdca26"
             ],
             [
              1,
              "#f0f921"
             ]
            ],
            "type": "histogram2dcontour"
           }
          ],
          "mesh3d": [
           {
            "colorbar": {
             "outlinewidth": 0,
             "ticks": ""
            },
            "type": "mesh3d"
           }
          ],
          "parcoords": [
           {
            "line": {
             "colorbar": {
              "outlinewidth": 0,
              "ticks": ""
             }
            },
            "type": "parcoords"
           }
          ],
          "pie": [
           {
            "automargin": true,
            "type": "pie"
           }
          ],
          "scatter": [
           {
            "fillpattern": {
             "fillmode": "overlay",
             "size": 10,
             "solidity": 0.2
            },
            "type": "scatter"
           }
          ],
          "scatter3d": [
           {
            "line": {
             "colorbar": {
              "outlinewidth": 0,
              "ticks": ""
             }
            },
            "marker": {
             "colorbar": {
              "outlinewidth": 0,
              "ticks": ""
             }
            },
            "type": "scatter3d"
           }
          ],
          "scattercarpet": [
           {
            "marker": {
             "colorbar": {
              "outlinewidth": 0,
              "ticks": ""
             }
            },
            "type": "scattercarpet"
           }
          ],
          "scattergeo": [
           {
            "marker": {
             "colorbar": {
              "outlinewidth": 0,
              "ticks": ""
             }
            },
            "type": "scattergeo"
           }
          ],
          "scattergl": [
           {
            "marker": {
             "colorbar": {
              "outlinewidth": 0,
              "ticks": ""
             }
            },
            "type": "scattergl"
           }
          ],
          "scattermapbox": [
           {
            "marker": {
             "colorbar": {
              "outlinewidth": 0,
              "ticks": ""
             }
            },
            "type": "scattermapbox"
           }
          ],
          "scatterpolar": [
           {
            "marker": {
             "colorbar": {
              "outlinewidth": 0,
              "ticks": ""
             }
            },
            "type": "scatterpolar"
           }
          ],
          "scatterpolargl": [
           {
            "marker": {
             "colorbar": {
              "outlinewidth": 0,
              "ticks": ""
             }
            },
            "type": "scatterpolargl"
           }
          ],
          "scatterternary": [
           {
            "marker": {
             "colorbar": {
              "outlinewidth": 0,
              "ticks": ""
             }
            },
            "type": "scatterternary"
           }
          ],
          "surface": [
           {
            "colorbar": {
             "outlinewidth": 0,
             "ticks": ""
            },
            "colorscale": [
             [
              0,
              "#0d0887"
             ],
             [
              0.1111111111111111,
              "#46039f"
             ],
             [
              0.2222222222222222,
              "#7201a8"
             ],
             [
              0.3333333333333333,
              "#9c179e"
             ],
             [
              0.4444444444444444,
              "#bd3786"
             ],
             [
              0.5555555555555556,
              "#d8576b"
             ],
             [
              0.6666666666666666,
              "#ed7953"
             ],
             [
              0.7777777777777778,
              "#fb9f3a"
             ],
             [
              0.8888888888888888,
              "#fdca26"
             ],
             [
              1,
              "#f0f921"
             ]
            ],
            "type": "surface"
           }
          ],
          "table": [
           {
            "cells": {
             "fill": {
              "color": "#EBF0F8"
             },
             "line": {
              "color": "white"
             }
            },
            "header": {
             "fill": {
              "color": "#C8D4E3"
             },
             "line": {
              "color": "white"
             }
            },
            "type": "table"
           }
          ]
         },
         "layout": {
          "annotationdefaults": {
           "arrowcolor": "#2a3f5f",
           "arrowhead": 0,
           "arrowwidth": 1
          },
          "autotypenumbers": "strict",
          "coloraxis": {
           "colorbar": {
            "outlinewidth": 0,
            "ticks": ""
           }
          },
          "colorscale": {
           "diverging": [
            [
             0,
             "#8e0152"
            ],
            [
             0.1,
             "#c51b7d"
            ],
            [
             0.2,
             "#de77ae"
            ],
            [
             0.3,
             "#f1b6da"
            ],
            [
             0.4,
             "#fde0ef"
            ],
            [
             0.5,
             "#f7f7f7"
            ],
            [
             0.6,
             "#e6f5d0"
            ],
            [
             0.7,
             "#b8e186"
            ],
            [
             0.8,
             "#7fbc41"
            ],
            [
             0.9,
             "#4d9221"
            ],
            [
             1,
             "#276419"
            ]
           ],
           "sequential": [
            [
             0,
             "#0d0887"
            ],
            [
             0.1111111111111111,
             "#46039f"
            ],
            [
             0.2222222222222222,
             "#7201a8"
            ],
            [
             0.3333333333333333,
             "#9c179e"
            ],
            [
             0.4444444444444444,
             "#bd3786"
            ],
            [
             0.5555555555555556,
             "#d8576b"
            ],
            [
             0.6666666666666666,
             "#ed7953"
            ],
            [
             0.7777777777777778,
             "#fb9f3a"
            ],
            [
             0.8888888888888888,
             "#fdca26"
            ],
            [
             1,
             "#f0f921"
            ]
           ],
           "sequentialminus": [
            [
             0,
             "#0d0887"
            ],
            [
             0.1111111111111111,
             "#46039f"
            ],
            [
             0.2222222222222222,
             "#7201a8"
            ],
            [
             0.3333333333333333,
             "#9c179e"
            ],
            [
             0.4444444444444444,
             "#bd3786"
            ],
            [
             0.5555555555555556,
             "#d8576b"
            ],
            [
             0.6666666666666666,
             "#ed7953"
            ],
            [
             0.7777777777777778,
             "#fb9f3a"
            ],
            [
             0.8888888888888888,
             "#fdca26"
            ],
            [
             1,
             "#f0f921"
            ]
           ]
          },
          "colorway": [
           "#636efa",
           "#EF553B",
           "#00cc96",
           "#ab63fa",
           "#FFA15A",
           "#19d3f3",
           "#FF6692",
           "#B6E880",
           "#FF97FF",
           "#FECB52"
          ],
          "font": {
           "color": "#2a3f5f"
          },
          "geo": {
           "bgcolor": "white",
           "lakecolor": "white",
           "landcolor": "#E5ECF6",
           "showlakes": true,
           "showland": true,
           "subunitcolor": "white"
          },
          "hoverlabel": {
           "align": "left"
          },
          "hovermode": "closest",
          "mapbox": {
           "style": "light"
          },
          "paper_bgcolor": "white",
          "plot_bgcolor": "#E5ECF6",
          "polar": {
           "angularaxis": {
            "gridcolor": "white",
            "linecolor": "white",
            "ticks": ""
           },
           "bgcolor": "#E5ECF6",
           "radialaxis": {
            "gridcolor": "white",
            "linecolor": "white",
            "ticks": ""
           }
          },
          "scene": {
           "xaxis": {
            "backgroundcolor": "#E5ECF6",
            "gridcolor": "white",
            "gridwidth": 2,
            "linecolor": "white",
            "showbackground": true,
            "ticks": "",
            "zerolinecolor": "white"
           },
           "yaxis": {
            "backgroundcolor": "#E5ECF6",
            "gridcolor": "white",
            "gridwidth": 2,
            "linecolor": "white",
            "showbackground": true,
            "ticks": "",
            "zerolinecolor": "white"
           },
           "zaxis": {
            "backgroundcolor": "#E5ECF6",
            "gridcolor": "white",
            "gridwidth": 2,
            "linecolor": "white",
            "showbackground": true,
            "ticks": "",
            "zerolinecolor": "white"
           }
          },
          "shapedefaults": {
           "line": {
            "color": "#2a3f5f"
           }
          },
          "ternary": {
           "aaxis": {
            "gridcolor": "white",
            "linecolor": "white",
            "ticks": ""
           },
           "baxis": {
            "gridcolor": "white",
            "linecolor": "white",
            "ticks": ""
           },
           "bgcolor": "#E5ECF6",
           "caxis": {
            "gridcolor": "white",
            "linecolor": "white",
            "ticks": ""
           }
          },
          "title": {
           "x": 0.05
          },
          "xaxis": {
           "automargin": true,
           "gridcolor": "white",
           "linecolor": "white",
           "ticks": "",
           "title": {
            "standoff": 15
           },
           "zerolinecolor": "white",
           "zerolinewidth": 2
          },
          "yaxis": {
           "automargin": true,
           "gridcolor": "white",
           "linecolor": "white",
           "ticks": "",
           "title": {
            "standoff": 15
           },
           "zerolinecolor": "white",
           "zerolinewidth": 2
          }
         }
        }
       }
      }
     },
     "metadata": {},
     "output_type": "display_data"
    }
   ],
   "source": [
    "import matplotlib.pyplot as plt\n",
    "import plotly.express as px\n",
    "\n",
    "def plot_beads(beads):\n",
    "    x, y, z = [bead.x for bead in beads], [bead.y for bead in beads], [bead.z for bead in beads]\n",
    "    if DIM3D == True:\n",
    "        px.scatter_3d(x=x, y=y, z=z, opacity=0.5).show()\n",
    "    else:\n",
    "        plt.scatter(x, y)\n",
    "\n",
    "plot_beads(beads.values())"
   ]
  },
  {
   "attachments": {},
   "cell_type": "markdown",
   "metadata": {},
   "source": [
    "Multidimensional Scaling (MDS) Objective Function:\n",
    "\n",
    "$f(\\boldsymbol{x}) = \\sum_{i,j \\in D}(\\delta_{ij} - ||\\boldsymbol{x}_i - \\boldsymbol{x}_j||_2)^2$\n",
    "\n",
    "$||\\boldsymbol{x}_i - \\boldsymbol{x}j||_2 = \\sqrt{\\sum_{k=1}^{K} (x_{ik} - x_{jk})^2}$\n",
    "\n",
    "$\\boldsymbol{x}_{ik}$ = inferred position of bead i in the kth dimension\n",
    "\n",
    "$K$ = number of dimensions\n",
    "\n",
    "$\\delta_{ij}$ = observed distance between beads i and j\n",
    "\n",
    "$D$ = set of pairs of beads with observed distances\n",
    "\n",
    "$\\frac{\\partial f(\\boldsymbol{x})}{\\partial x_{ik}} =$ ?\n",
    "\n",
    "convex?"
   ]
  },
  {
   "attachments": {},
   "cell_type": "markdown",
   "metadata": {},
   "source": [
    "WORK:\n",
    "\n",
    "$(||\\boldsymbol{x}_i - \\boldsymbol{x}_j||_2)^2 = \\sum_{k=1}^{K}(x_{ik} - x_{jk})^2$\n",
    "\n",
    "differentiate objective function with respect to $x_{ik}$:\n",
    "\n",
    "$\\frac{\\partial f(\\boldsymbol{x})}{\\partial x_{ik}} = \\frac{\\partial}{\\partial x_{ik}}\\sum_{i,j \\in D}(\\delta_{ij} - ||\\boldsymbol{x}_i - \\boldsymbol{x}_j||_2)^2$\n",
    "\n",
    "chain rule --> differentiate squared norm term:\n",
    "\n",
    "$\\frac{\\partial}{\\partial x_{ik}} (||\\boldsymbol{x}_i - \\boldsymbol{x}_j||_2)^2 = \\frac{\\partial}{\\partial x_{ik}}\\sum_{l=1}^{K}(x_{il} - x_{jl})^2$\n",
    "\n",
    "$= 2(x_{ik} - x_{jk})$\n",
    "\n",
    "differentiate squared difference between observed and inferred distances:\n",
    "\n",
    "$\\frac{\\partial}{\\partial x_{ik}} (\\delta_{ij} - ||\\boldsymbol{x}_i - \\boldsymbol{x}_j||_2)^2 = -2(\\delta_{ij} - ||\\boldsymbol{x}_i - \\boldsymbol{x}j||_2)(x_{ik} - x_{jk})$\n",
    "\n",
    "final answer:\n",
    "\n",
    "$\\frac{\\partial f(\\boldsymbol{x})}{\\partial x_{ik}} = -2\\sum_{i, j \\in D}(\\delta_{ij} - ||\\boldsymbol{x}_i - \\boldsymbol{x}_j||_2)(x_{ik} - x_{jk})$"
   ]
  },
  {
   "cell_type": "code",
   "execution_count": 17,
   "metadata": {},
   "outputs": [],
   "source": [
    "def step(lr=0.001):\n",
    "    \n",
    "    # calculate the pairwise distances between each bead\n",
    "    data[\"obs_dist\"] = data.apply(lambda row: beads[row[\"bead1\"]].distance(beads[row[\"bead2\"]]), axis=1)\n",
    "\n",
    "    # calculate the MDS objective function\n",
    "    diff = data[\"obs_dist\"].values - data[\"distance\"].values\n",
    "    obj = np.sum(diff ** 2)\n",
    "\n",
    "    # calculate the partial derivative of the MDS objective function with respect to the coordinates of each bead\n",
    "    data[\"dLdx\"] = data.apply(lambda row: -2 * np.sum(row[\"obs_dist\"] - row[\"distance\"]) * (beads[row[\"bead1\"]].x - beads[row[\"bead2\"]].x), axis=1)\n",
    "    data[\"dLdy\"] = data.apply(lambda row: -2 * np.sum(row[\"obs_dist\"] - row[\"distance\"]) * (beads[row[\"bead1\"]].y - beads[row[\"bead2\"]].y), axis=1)\n",
    "    data[\"dLdz\"] = data.apply(lambda row: -2 * np.sum(row[\"obs_dist\"] - row[\"distance\"]) * (beads[row[\"bead1\"]].z - beads[row[\"bead2\"]].z), axis=1)\n",
    "\n",
    "    # update the coordinates of each bead using gradient descent\n",
    "    for idx in range(len(data)):\n",
    "        row = data.loc[idx]\n",
    "        beads[row[\"bead1\"]].update(lr * row[\"dLdx\"], lr * row[\"dLdy\"], lr * row[\"dLdz\"])\n",
    "        beads[row[\"bead2\"]].update(-lr * row[\"dLdx\"], -lr * row[\"dLdy\"], -lr * row[\"dLdz\"])\n",
    "\n",
    "    return obj"
   ]
  },
  {
   "cell_type": "code",
   "execution_count": 18,
   "metadata": {},
   "outputs": [
    {
     "name": "stdout",
     "output_type": "stream",
     "text": [
      "Loss: 6270.519270945546\n",
      "Loss: 6151.7466325895075\n",
      "Loss: 6039.277077007024\n",
      "Loss: 5933.832386238435\n",
      "Loss: 5835.805049650286\n",
      "Loss: 5745.275893527728\n",
      "Loss: 5662.099323339211\n",
      "Loss: 5585.967465009085\n",
      "Loss: 5516.455311487933\n",
      "Loss: 5453.08630160071\n",
      "Loss: 5395.350647765596\n",
      "Loss: 5342.678475064691\n",
      "Loss: 5294.448434851982\n",
      "Loss: 5250.009829698242\n",
      "Loss: 5208.703521479977\n",
      "Loss: 5169.883777751884\n",
      "Loss: 5132.9299501991045\n",
      "Loss: 5097.237220381728\n",
      "Loss: 5062.273202123467\n",
      "Loss: 5027.65112773976\n",
      "Loss: 4993.043444188322\n",
      "Loss: 4958.113137989444\n",
      "Loss: 4922.509799237077\n",
      "Loss: 4885.870259527578\n",
      "Loss: 4847.809621544287\n",
      "Loss: 4807.8760199287435\n",
      "Loss: 4765.534312810097\n",
      "Loss: 4720.409376447846\n",
      "Loss: 4672.096531767964\n",
      "Loss: 4620.226503363163\n",
      "Loss: 4564.502927533371\n",
      "Loss: 4504.669883921821\n",
      "Loss: 4440.475857864311\n",
      "Loss: 4371.655088144555\n",
      "Loss: 4298.20946041778\n",
      "Loss: 4220.416088934293\n",
      "Loss: 4138.738935981999\n",
      "Loss: 4053.9210528416784\n",
      "Loss: 3966.89765588481\n",
      "Loss: 3878.696923040882\n",
      "Loss: 3790.4074293378308\n",
      "Loss: 3703.1298909644916\n",
      "Loss: 3617.9007127277246\n",
      "Loss: 3535.5466704026085\n",
      "Loss: 3455.8498795150244\n",
      "Loss: 3380.112831706966\n",
      "Loss: 3309.186542860457\n",
      "Loss: 3243.413933013957\n",
      "Loss: 3182.9398400296654\n",
      "Loss: 3127.7346552372537\n",
      "Loss: 3077.627344018817\n",
      "Loss: 3032.342108333222\n",
      "Loss: 2991.5354682718917\n",
      "Loss: 2954.8336402810205\n",
      "Loss: 2921.855223732161\n",
      "Loss: 2892.219042760321\n",
      "Loss: 2865.5549811129786\n",
      "Loss: 2841.5147939257054\n",
      "Loss: 2819.784184748569\n",
      "Loss: 2800.0968027046774\n",
      "Loss: 2782.2157363081988\n",
      "Loss: 2765.9262238336823\n",
      "Loss: 2751.0366835760283\n",
      "Loss: 2737.3781516769022\n",
      "Loss: 2724.8024935480184\n",
      "Loss: 2713.1801272693947\n",
      "Loss: 2702.3977539647703\n",
      "Loss: 2692.3563507135686\n",
      "Loss: 2682.9694507952963\n",
      "Loss: 2674.1616451566088\n",
      "Loss: 2665.8672651802563\n",
      "Loss: 2658.029251346891\n",
      "Loss: 2650.5982151861326\n",
      "Loss: 2643.5316439717535\n",
      "Loss: 2636.793145892034\n",
      "Loss: 2630.3516911306187\n",
      "Loss: 2624.1809083509197\n",
      "Loss: 2618.2584923999643\n",
      "Loss: 2612.565697329608\n",
      "Loss: 2607.086862615563\n",
      "Loss: 2601.8089773527336\n",
      "Loss: 2596.721282146356\n",
      "Loss: 2591.8147643098155\n",
      "Loss: 2587.081583793268\n",
      "Loss: 2582.5147011526788\n",
      "Loss: 2578.1078974709603\n",
      "Loss: 2573.855957097173\n",
      "Loss: 2569.7543311361887\n",
      "Loss: 2565.7986217936677\n",
      "Loss: 2561.9843825684575\n",
      "Loss: 2558.307122623244\n",
      "Loss: 2554.762346239579\n",
      "Loss: 2551.3455874112524\n",
      "Loss: 2548.05244003511\n",
      "Loss: 2544.878577408861\n",
      "Loss: 2541.819751704145\n",
      "Loss: 2538.8717773009894\n",
      "Loss: 2536.03051277886\n",
      "Loss: 2533.2918519835134\n",
      "Loss: 2530.6517250102993\n",
      "Loss: 2528.106105585789\n",
      "Loss: 2525.651021423916\n",
      "Loss: 2523.2825651649055\n",
      "Loss: 2520.996904294402\n",
      "Loss: 2518.790289135907\n",
      "Loss: 2516.659058963709\n",
      "Loss: 2514.5996479072883\n",
      "Loss: 2512.6085949516128\n",
      "Loss: 2510.6825655957455\n",
      "Loss: 2508.8183942956484\n",
      "Loss: 2507.0131518174667\n",
      "Loss: 2505.2642260185075\n",
      "Loss: 2503.5693842972705\n",
      "Loss: 2501.926780852703\n",
      "Loss: 2500.3348962783207\n",
      "Loss: 2498.792434066905\n",
      "Loss: 2497.298215295405\n",
      "Loss: 2495.8511004526317\n",
      "Loss: 2494.449945233431\n",
      "Loss: 2493.0935830255175\n",
      "Loss: 2491.78082345863\n",
      "Loss: 2490.5104586260563\n",
      "Loss: 2489.281271895462\n",
      "Loss: 2488.0920467425603\n",
      "Loss: 2486.9415745365286\n",
      "Loss: 2485.828660968986\n",
      "Loss: 2484.752131158431\n",
      "Loss: 2483.710833587302\n",
      "Loss: 2482.703643055761\n",
      "Loss: 2481.7294628236223\n",
      "Loss: 2480.7872260868257\n",
      "Loss: 2479.8758969088285\n",
      "Loss: 2478.99447070443\n",
      "Loss: 2478.1419743544657\n",
      "Loss: 2477.3174660141967\n",
      "Loss: 2476.5200346650176\n",
      "Loss: 2475.748799447427\n",
      "Loss: 2475.002908802077\n",
      "Loss: 2474.281539434181\n",
      "Loss: 2473.583895103384\n",
      "Loss: 2472.9092052250735\n",
      "Loss: 2472.256723247584\n",
      "Loss: 2471.6257247397\n",
      "Loss: 2471.0155050790872\n",
      "Loss: 2470.425376567274\n",
      "Loss: 2469.8546647006033\n",
      "Loss: 2469.3027031891215\n",
      "Loss: 2468.768827139364\n",
      "Loss: 2468.2523636604683\n",
      "Loss: 2467.752619254879\n",
      "Loss: 2467.2688644411237\n",
      "Loss: 2466.8003198399474\n",
      "Loss: 2466.3461568832745\n",
      "Loss: 2465.905538389502\n",
      "Loss: 2465.4777190962077\n",
      "Loss: 2465.0621712462207\n",
      "Loss: 2464.6586343146646\n",
      "Loss: 2464.2670359287335\n",
      "Loss: 2463.887358491983\n",
      "Loss: 2463.519547024114\n",
      "Loss: 2463.163478534694\n",
      "Loss: 2462.8189669689878\n",
      "Loss: 2462.485779126842\n",
      "Loss: 2462.1636501388175\n",
      "Loss: 2461.8522953683037\n",
      "Loss: 2461.551418799064\n",
      "Loss: 2461.2607187500275\n",
      "Loss: 2460.9798917330336\n",
      "Loss: 2460.7086350641666\n",
      "Loss: 2460.4466486467654\n",
      "Loss: 2460.1936362025513\n",
      "Loss: 2459.949306131607\n",
      "Loss: 2459.7133721193304\n",
      "Loss: 2459.4855535680676\n",
      "Loss: 2459.2655759049876\n",
      "Loss: 2459.0531708007775\n",
      "Loss: 2458.8480763226357\n",
      "Loss: 2458.6500370376916\n",
      "Loss: 2458.4588040780854\n",
      "Loss: 2458.2741351756345\n",
      "Loss: 2458.0957946718013\n",
      "Loss: 2457.923553507104\n",
      "Loss: 2457.7571891931034\n",
      "Loss: 2457.596485769342\n",
      "Loss: 2457.4412337471276\n",
      "Loss: 2457.291230041711\n",
      "Loss: 2457.1462778941655\n",
      "Loss: 2457.006186784136\n",
      "Loss: 2456.8707723344987\n",
      "Loss: 2456.7398562089284\n",
      "Loss: 2456.6132660032986\n",
      "Loss: 2456.4908351318063\n",
      "Loss: 2456.3724027086832\n",
      "Loss: 2456.257813426306\n",
      "Loss: 2456.1469174304602\n",
      "Loss: 2456.0395701934917\n",
      "Loss: 2455.9356323859784\n",
      "Loss: 2455.834969747516\n",
      "Loss: 2455.73745295713\n",
      "Loss: 2455.6429575037546\n",
      "Loss: 2455.5513635571524\n",
      "Loss: 2455.4625558395846\n",
      "Loss: 2455.376423498475\n",
      "Loss: 2455.292859980271\n",
      "Loss: 2455.211762905645\n",
      "Loss: 2455.133033946162\n",
      "Loss: 2455.056578702492\n",
      "Loss: 2454.9823065842443\n",
      "Loss: 2454.9101306914677\n",
      "Loss: 2454.839967697869\n",
      "Loss: 2454.771737735784\n",
      "Loss: 2454.7053642829405\n",
      "Loss: 2454.6407740510504\n",
      "Loss: 2454.5778968762706\n",
      "Loss: 2454.5166656115744\n",
      "Loss: 2454.457016021077\n",
      "Loss: 2454.3988866763602\n",
      "Loss: 2454.3422188548393\n",
      "Loss: 2454.2869564402276\n",
      "Loss: 2454.233045825125\n",
      "Loss: 2454.1804358157933\n",
      "Loss: 2454.129077539137\n",
      "Loss: 2454.0789243519343\n",
      "Loss: 2454.0299317523395\n",
      "Loss: 2453.9820572936833\n",
      "Loss: 2453.9352605005733\n",
      "Loss: 2453.889502787317\n",
      "Loss: 2453.844747378651\n",
      "Loss: 2453.8009592327808\n",
      "Loss: 2453.7581049667106\n",
      "Loss: 2453.7161527838434\n",
      "Loss: 2453.6750724038266\n",
      "Loss: 2453.6348349946193\n",
      "Loss: 2453.5954131067365\n",
      "Loss: 2453.556780609648\n",
      "Loss: 2453.518912630287\n",
      "Loss: 2453.48178549364\n",
      "Loss: 2453.445376665375\n",
      "Loss: 2453.4096646964726\n",
      "Loss: 2453.3746291698394\n",
      "Loss: 2453.3402506488555\n",
      "Loss: 2453.3065106278323\n",
      "Loss: 2453.27339148436\n",
      "Loss: 2453.240876433503\n",
      "Loss: 2453.2089494838256\n",
      "Loss: 2453.1775953952147\n",
      "Loss: 2453.146799638481\n",
      "Loss: 2453.1165483566992\n",
      "Loss: 2453.0868283282625\n",
      "Loss: 2453.057626931617\n",
      "Loss: 2453.0289321116443\n",
      "Loss: 2453.000732347651\n",
      "Loss: 2452.9730166229306\n",
      "Loss: 2452.9457743958446\n",
      "Loss: 2452.918995572397\n",
      "Loss: 2452.892670480232\n",
      "Loss: 2452.8667898440317\n",
      "Loss: 2452.841344762236\n",
      "Loss: 2452.8163266850634\n",
      "Loss: 2452.791727393751\n",
      "Loss: 2452.767538980988\n",
      "Loss: 2452.7437538324693\n",
      "Loss: 2452.7203646095327\n",
      "Loss: 2452.697364232817\n",
      "Loss: 2452.6747458668997\n",
      "Loss: 2452.652502905856\n",
      "Loss: 2452.630628959704\n",
      "Loss: 2452.609117841672\n",
      "Loss: 2452.587963556259\n",
      "Loss: 2452.56716028804\n",
      "Loss: 2452.5467023911697\n",
      "Loss: 2452.526584379548\n",
      "Loss: 2452.5068009176184\n",
      "Loss: 2452.4873468117466\n",
      "Loss: 2452.468217002157\n",
      "Loss: 2452.449406555391\n",
      "Loss: 2452.4309106572555\n",
      "Loss: 2452.4127246062358\n",
      "Loss: 2452.394843807334\n",
      "Loss: 2452.3772637663274\n",
      "Loss: 2452.359980084394\n",
      "Loss: 2452.342988453114\n",
      "Loss: 2452.32628464979\n",
      "Loss: 2452.3098645330997\n",
      "Loss: 2452.293724039033\n",
      "Loss: 2452.277859177111\n",
      "Loss: 2452.262266026867\n",
      "Loss: 2452.2469407345657\n",
      "Loss: 2452.231879510153\n",
      "Loss: 2452.2170786244196\n",
      "Loss: 2452.202534406364\n",
      "Loss: 2452.1882432407383\n",
      "Loss: 2452.174201565772\n",
      "Loss: 2452.160405871056\n",
      "Loss: 2452.1468526955805\n",
      "Loss: 2452.1335386259107\n",
      "Loss: 2452.1204602944986\n",
      "Loss: 2452.107614378115\n",
      "Loss: 2452.0949975963977\n",
      "Loss: 2452.0826067105045\n",
      "Loss: 2452.070438521868\n",
      "Loss: 2452.0584898710385\n",
      "Loss: 2452.046757636618\n",
      "Loss: 2452.03523873427\n",
      "Loss: 2452.0239301158017\n",
      "Loss: 2452.01282876832\n",
      "Loss: 2452.0019317134465\n",
      "Loss: 2451.9912360065887\n",
      "Loss: 2451.9807387362753\n",
      "Loss: 2451.9704370235295\n",
      "Loss: 2451.960328021297\n",
      "Loss: 2451.9504089139123\n",
      "Loss: 2451.9406769166067\n",
      "Loss: 2451.931129275049\n",
      "Loss: 2451.9217632649234\n",
      "Loss: 2451.912576191535\n",
      "Loss: 2451.9035653894434\n",
      "Loss: 2451.894728222121\n",
      "Loss: 2451.8860620816395\n",
      "Loss: 2451.8775643883687\n",
      "Loss: 2451.869232590703\n",
      "Loss: 2451.8610641648\n",
      "Loss: 2451.853056614336\n",
      "Loss: 2451.8452074702777\n",
      "Loss: 2451.8375142906657\n",
      "Loss: 2451.829974660408\n",
      "Loss: 2451.822586191084\n",
      "Loss: 2451.8153465207624\n",
      "Loss: 2451.8082533138186\n",
      "Loss: 2451.8013042607677\n",
      "Loss: 2451.794497078099\n",
      "Loss: 2451.787829508118\n",
      "Loss: 2451.7812993187895\n",
      "Loss: 2451.7749043035915\n",
      "Loss: 2451.7686422813676\n",
      "Loss: 2451.7625110961803\n",
      "Loss: 2451.7565086171744\n",
      "Loss: 2451.750632738434\n",
      "Loss: 2451.744881378845\n",
      "Loss: 2451.7392524819606\n",
      "Loss: 2451.7337440158626\n",
      "Loss: 2451.728353973025\n",
      "Loss: 2451.7230803701814\n",
      "Loss: 2451.717921248184\n",
      "Loss: 2451.7128746718736\n",
      "Loss: 2451.707938729937\n",
      "Loss: 2451.703111534772\n",
      "Loss: 2451.698391222347\n",
      "Loss: 2451.693775952065\n",
      "Loss: 2451.6892639066186\n",
      "Loss: 2451.684853291849\n",
      "Loss: 2451.680542336603\n",
      "Loss: 2451.676329292589\n",
      "Loss: 2451.672212434227\n",
      "Loss: 2451.668190058504\n",
      "Loss: 2451.6642604848234\n",
      "Loss: 2451.6604220548525\n",
      "Loss: 2451.656673132372\n",
      "Loss: 2451.653012103119\n",
      "Loss: 2451.6494373746345\n",
      "Loss: 2451.645947376101\n",
      "Loss: 2451.6425405581876\n",
      "Loss: 2451.639215392888\n",
      "Loss: 2451.6359703733574\n",
      "Loss: 2451.6328040137496\n",
      "Loss: 2451.6297148490503\n",
      "Loss: 2451.626701434916\n",
      "Loss: 2451.6237623474976\n",
      "Loss: 2451.620896183279\n",
      "Loss: 2451.6181015589023\n",
      "Loss: 2451.615377110997\n",
      "Loss: 2451.6127214960084\n",
      "Loss: 2451.610133390023\n",
      "Loss: 2451.6076114885927\n",
      "Loss: 2451.6051545065607\n",
      "Loss: 2451.6027611778836\n",
      "Loss: 2451.600430255455\n",
      "Loss: 2451.5981605109255\n",
      "Loss: 2451.5959507345246\n",
      "Loss: 2451.5937997348806\n",
      "Loss: 2451.5917063388406\n",
      "Loss: 2451.5896693912905\n",
      "Loss: 2451.5876877549713\n",
      "Loss: 2451.585760310299\n",
      "Loss: 2451.5838859551823\n",
      "Loss: 2451.582063604841\n",
      "Loss: 2451.58029219162\n",
      "Loss: 2451.5785706648126\n",
      "Loss: 2451.5768979904706\n",
      "Loss: 2451.5752731512266\n",
      "Loss: 2451.5736951461085\n",
      "Loss: 2451.572162990358\n",
      "Loss: 2451.570675715245\n",
      "Loss: 2451.56923236789\n",
      "Loss: 2451.5678320110774\n",
      "Loss: 2451.566473723074\n",
      "Loss: 2451.5651565974485\n",
      "Loss: 2451.563879742889\n",
      "Loss: 2451.5626422830246\n",
      "Loss: 2451.5614433562405\n",
      "Loss: 2451.5602821155007\n",
      "Loss: 2451.5591577281684\n",
      "Loss: 2451.558069375827\n",
      "Loss: 2451.5570162541017\n",
      "Loss: 2451.555997572482\n",
      "Loss: 2451.555012554144\n"
     ]
    }
   ],
   "source": [
    "hist = []\n",
    "while True:\n",
    "    hist.append(step())\n",
    "    print(\"Loss:\", hist[-1])\n",
    "    if len(hist) > 1 and hist[-2] - hist[-1] < 0.001:\n",
    "        break"
   ]
  },
  {
   "cell_type": "code",
   "execution_count": 20,
   "metadata": {},
   "outputs": [
    {
     "data": {
      "application/vnd.plotly.v1+json": {
       "config": {
        "plotlyServerURL": "https://plot.ly"
       },
       "data": [
        {
         "hovertemplate": "x=%{x}<br>y=%{y}<br>z=%{z}<extra></extra>",
         "legendgroup": "",
         "marker": {
          "color": "#636efa",
          "opacity": 0.5,
          "symbol": "circle"
         },
         "mode": "markers",
         "name": "",
         "scene": "scene",
         "showlegend": false,
         "type": "scatter3d",
         "x": [
          0.17068360870537622,
          -0.20110337904007253,
          0.3673958455373774,
          0.04571802083284277,
          -0.004756983763795509,
          0.06724324859559218,
          -0.4634817154141893,
          -0.37461358977683734,
          -0.16462703804259604,
          0.029230955998351446,
          0.20468462823972527,
          -0.5414225894324092,
          -0.25813698482164316,
          -0.1526465648781468,
          -0.24679593578790854,
          0.037948068365819876,
          -0.45828180285785153,
          -0.34725699399125987,
          0.2633904038944253,
          -0.13820013846036508,
          -0.13779642584592275,
          -0.5952290867859784,
          -0.1696858662048759,
          -0.06034286907482937,
          -0.5261103799757968,
          -0.2129296503293425,
          -0.1682344266376265,
          -0.04370394845027281,
          -0.0474729617329321,
          -0.4323593309560021,
          -0.03116584534498865,
          -0.3759181699427905,
          -0.24252264363496584,
          -0.49434730236484364,
          -0.8022731649942889,
          -0.49216433564389533,
          -0.8766552537243121,
          0.04259367347409211,
          -0.544250273002648,
          0.029580785717259778,
          -0.34053737829080866,
          0.009916573201919188,
          -0.7394275339892434,
          -0.2618912500159332,
          0.03015702478007003,
          -0.3200628684000878,
          -0.05620859580236893,
          -0.6004171551489876,
          -0.3281814751024751,
          -0.6610656543979033,
          -0.16571821408239798,
          -0.3514970110797561,
          -0.2863053406486521,
          -0.27024645803947567,
          -0.7987486935951057,
          0.0456598614057621,
          -0.5091732844191845,
          0.025039264035981657,
          0.08020526505568436,
          0.09619409561073174,
          0.37506243762582014,
          0.29711820857317556,
          0.4963886945320768,
          0.6832106477024029,
          0.40816512662517984,
          0.6716214638893145,
          0.5609999720682788,
          0.8452652372251976,
          0.8767082738063845,
          0.9032527535743406,
          1.471117775647998,
          0.8857306085351476,
          1.8809729510011157,
          1.2757949887213698,
          1.399002639141829,
          0.8675435485171417,
          1.085165982609216,
          1.2814204284932234,
          1.3894003148864715,
          1.7186845007308367,
          1.7439885460559859,
          1.3177089855409942,
          2.1342286654181613,
          1.4202265449237088,
          1.3829146913098602,
          1.4318338986301347,
          2.0096463297841014,
          1.8379493698146736,
          1.8439531367949449,
          1.08139053841428,
          1.4479394043707858,
          1.5584996355491978,
          2.036329994783069,
          1.6832954647676255,
          1.2890586089058715,
          1.5220161034151105,
          2.116055847263564,
          2.162890276129516,
          1.7491236329005841,
          1.4451347376439447,
          1.675114117514153,
          1.9430772321427692,
          2.285503351704395,
          1.8984945777562943,
          2.086027311073782,
          2.1502788635974914,
          1.6847774953410926,
          2.2055870098189785,
          2.336488576990364
         ],
         "y": [
          2.3020887041971476,
          1.6530224385987426,
          1.7852000558337828,
          1.8855060871762694,
          2.1544125378017336,
          1.811774079031734,
          2.078397002526488,
          1.8952982191784882,
          1.6412880114906456,
          1.7651350199247027,
          1.7541590581860378,
          2.0067882185951706,
          1.8166201035585543,
          1.8251040123056328,
          1.840555144474803,
          1.44239668058563,
          1.632254280854926,
          1.5519699375719964,
          1.2594452497031758,
          1.505096397924823,
          1.83449319720294,
          1.5454751880405395,
          1.8351736843758655,
          1.245237715352963,
          1.5388366215644784,
          1.288206946487452,
          1.1685971608268015,
          0.9892091215475534,
          1.3297261053364196,
          1.1796308313350883,
          0.9539011551821547,
          0.7987785752494114,
          0.8985697826214554,
          0.8580767105269844,
          0.8568493513256752,
          0.7282950904247237,
          0.7112153746858753,
          0.6173641571880741,
          0.3920610205397832,
          0.48550588696014424,
          0.2809865291334614,
          0.4297339813375266,
          0.24133911794745058,
          0.1296706542770191,
          0.3726555745147817,
          0.3613849729219101,
          0.21597550589231457,
          -0.10825128817826382,
          0.15713413793383788,
          0.15518297376914936,
          0.07114422579985252,
          -0.5716704362057018,
          -0.2965575022296707,
          -0.0657174303898994,
          -0.5013774064043487,
          -0.1589871639763268,
          -0.72897548321664,
          -0.16262447146502917,
          -0.46056315388007346,
          -0.34279527282405775,
          -0.5786626130892074,
          -0.2772226130802198,
          0.04966428675162173,
          -0.2904226100333399,
          -0.035005861390436516,
          -0.13010241921609436,
          -0.11604713164108003,
          -0.24801231123855158,
          0.010123750712170853,
          -0.5176296278872188,
          -1.1017427538101776,
          0.02159875527254106,
          -0.885893510074448,
          -0.17661283953783066,
          -0.39489697870497137,
          0.07356992649282752,
          0.05516701769470924,
          -0.1370006821948401,
          -0.14717474408145076,
          0.03385919005738863,
          -0.15966085405210476,
          -0.024145454846881773,
          -0.5141003964330007,
          -0.13786646464050437,
          0.2033672172148264,
          -0.17133986205239332,
          -0.21757555721973693,
          0.3108062325716382,
          0.3024024062707089,
          0.3728207560916434,
          0.4996728283062018,
          0.4372110481245153,
          0.20432657618007255,
          0.6380950544022715,
          0.4469790646320238,
          0.43390092207380465,
          -0.3744593886510251,
          0.0164999305883848,
          0.25015881520251065,
          0.28770236172069463,
          0.17785788624759782,
          0.5917203523973328,
          0.43851308761918145,
          0.6837721590843449,
          0.37813222965739585,
          0.492995742008066,
          0.6132796765885583,
          -0.3071806892781127,
          -0.0841899836341545
         ],
         "z": [
          1.071453636830094,
          0.06112738444968759,
          1.3163511007837747,
          1.0949433960573054,
          0.814977295212178,
          1.073917298986752,
          1.0185005143666102,
          0.608557502831245,
          0.6539785508172837,
          0.9785525795771678,
          0.625843517156985,
          0.754301667858684,
          0.7024520838791162,
          0.7830416964874697,
          0.7083901376302819,
          0.856013089789108,
          0.7580557588498618,
          0.7903849465340408,
          0.6014525563726099,
          0.6558165453530703,
          0.5195055457004001,
          0.40694601159400984,
          0.18217561724186052,
          0.6121498962312308,
          0.7092725364314961,
          0.5190699895031143,
          0.6131958925121432,
          0.7193342008265314,
          0.3941098972264702,
          0.6061909787932166,
          0.6178269064143839,
          0.7465374061403132,
          0.39345430798163866,
          0.5520640243580031,
          0.5586088683692267,
          0.5691799943714237,
          0.5920491028874031,
          0.514364562939271,
          0.34843923908647595,
          0.6653678823216159,
          0.3819402146337532,
          0.5178559213350672,
          0.6765653834210671,
          0.5591260803762796,
          0.5802187006904048,
          0.6910935825005505,
          0.47779802856332904,
          0.6879815317375982,
          0.7311157436280249,
          0.6388555332726136,
          0.6157560166159445,
          0.40858328452212417,
          0.6536145407737971,
          0.5620790810582498,
          0.5384944044971193,
          0.5811341045059754,
          0.753975822940586,
          0.4471770239445369,
          0.46992345273786523,
          0.6437725353294937,
          0.45654514108695116,
          0.4440012646677617,
          0.512125600574645,
          0.6158095396184923,
          0.6047251677836404,
          0.5765877104526543,
          0.5881800485998886,
          0.8539697669646906,
          0.5789743175002829,
          0.42077602643303813,
          0.9981966189929521,
          0.7021704963890982,
          0.5827764900866915,
          0.4506739387098214,
          0.9450121026569442,
          0.4129031237971692,
          0.44828641611760184,
          0.6141078805308154,
          0.40092720752716493,
          0.7240330952066293,
          0.3052672643566464,
          0.5364416066553049,
          0.371016696160273,
          0.3051516173945348,
          0.3144447407342047,
          0.13352987489238435,
          0.11575179670747338,
          0.3139578899989217,
          0.3028120080855178,
          0.333478876620223,
          0.061133356058486105,
          0.3825304184407608,
          0.2600830131680689,
          0.17962965408927112,
          0.33406036720768484,
          -0.08279989537952329,
          -0.17545343289244558,
          0.4732776679765149,
          0.5096971061116725,
          -0.2676367018926487,
          -0.18289468347427085,
          0.5260286175448374,
          0.26538187697423987,
          -0.006992121749658616,
          -0.22314396171639228,
          0.22965719412531252,
          -0.214374661362194,
          -0.014959141726594622,
          -0.5532646711482481
         ]
        }
       ],
       "layout": {
        "legend": {
         "tracegroupgap": 0
        },
        "margin": {
         "t": 60
        },
        "scene": {
         "domain": {
          "x": [
           0,
           1
          ],
          "y": [
           0,
           1
          ]
         },
         "xaxis": {
          "title": {
           "text": "x"
          }
         },
         "yaxis": {
          "title": {
           "text": "y"
          }
         },
         "zaxis": {
          "title": {
           "text": "z"
          }
         }
        },
        "template": {
         "data": {
          "bar": [
           {
            "error_x": {
             "color": "#2a3f5f"
            },
            "error_y": {
             "color": "#2a3f5f"
            },
            "marker": {
             "line": {
              "color": "#E5ECF6",
              "width": 0.5
             },
             "pattern": {
              "fillmode": "overlay",
              "size": 10,
              "solidity": 0.2
             }
            },
            "type": "bar"
           }
          ],
          "barpolar": [
           {
            "marker": {
             "line": {
              "color": "#E5ECF6",
              "width": 0.5
             },
             "pattern": {
              "fillmode": "overlay",
              "size": 10,
              "solidity": 0.2
             }
            },
            "type": "barpolar"
           }
          ],
          "carpet": [
           {
            "aaxis": {
             "endlinecolor": "#2a3f5f",
             "gridcolor": "white",
             "linecolor": "white",
             "minorgridcolor": "white",
             "startlinecolor": "#2a3f5f"
            },
            "baxis": {
             "endlinecolor": "#2a3f5f",
             "gridcolor": "white",
             "linecolor": "white",
             "minorgridcolor": "white",
             "startlinecolor": "#2a3f5f"
            },
            "type": "carpet"
           }
          ],
          "choropleth": [
           {
            "colorbar": {
             "outlinewidth": 0,
             "ticks": ""
            },
            "type": "choropleth"
           }
          ],
          "contour": [
           {
            "colorbar": {
             "outlinewidth": 0,
             "ticks": ""
            },
            "colorscale": [
             [
              0,
              "#0d0887"
             ],
             [
              0.1111111111111111,
              "#46039f"
             ],
             [
              0.2222222222222222,
              "#7201a8"
             ],
             [
              0.3333333333333333,
              "#9c179e"
             ],
             [
              0.4444444444444444,
              "#bd3786"
             ],
             [
              0.5555555555555556,
              "#d8576b"
             ],
             [
              0.6666666666666666,
              "#ed7953"
             ],
             [
              0.7777777777777778,
              "#fb9f3a"
             ],
             [
              0.8888888888888888,
              "#fdca26"
             ],
             [
              1,
              "#f0f921"
             ]
            ],
            "type": "contour"
           }
          ],
          "contourcarpet": [
           {
            "colorbar": {
             "outlinewidth": 0,
             "ticks": ""
            },
            "type": "contourcarpet"
           }
          ],
          "heatmap": [
           {
            "colorbar": {
             "outlinewidth": 0,
             "ticks": ""
            },
            "colorscale": [
             [
              0,
              "#0d0887"
             ],
             [
              0.1111111111111111,
              "#46039f"
             ],
             [
              0.2222222222222222,
              "#7201a8"
             ],
             [
              0.3333333333333333,
              "#9c179e"
             ],
             [
              0.4444444444444444,
              "#bd3786"
             ],
             [
              0.5555555555555556,
              "#d8576b"
             ],
             [
              0.6666666666666666,
              "#ed7953"
             ],
             [
              0.7777777777777778,
              "#fb9f3a"
             ],
             [
              0.8888888888888888,
              "#fdca26"
             ],
             [
              1,
              "#f0f921"
             ]
            ],
            "type": "heatmap"
           }
          ],
          "heatmapgl": [
           {
            "colorbar": {
             "outlinewidth": 0,
             "ticks": ""
            },
            "colorscale": [
             [
              0,
              "#0d0887"
             ],
             [
              0.1111111111111111,
              "#46039f"
             ],
             [
              0.2222222222222222,
              "#7201a8"
             ],
             [
              0.3333333333333333,
              "#9c179e"
             ],
             [
              0.4444444444444444,
              "#bd3786"
             ],
             [
              0.5555555555555556,
              "#d8576b"
             ],
             [
              0.6666666666666666,
              "#ed7953"
             ],
             [
              0.7777777777777778,
              "#fb9f3a"
             ],
             [
              0.8888888888888888,
              "#fdca26"
             ],
             [
              1,
              "#f0f921"
             ]
            ],
            "type": "heatmapgl"
           }
          ],
          "histogram": [
           {
            "marker": {
             "pattern": {
              "fillmode": "overlay",
              "size": 10,
              "solidity": 0.2
             }
            },
            "type": "histogram"
           }
          ],
          "histogram2d": [
           {
            "colorbar": {
             "outlinewidth": 0,
             "ticks": ""
            },
            "colorscale": [
             [
              0,
              "#0d0887"
             ],
             [
              0.1111111111111111,
              "#46039f"
             ],
             [
              0.2222222222222222,
              "#7201a8"
             ],
             [
              0.3333333333333333,
              "#9c179e"
             ],
             [
              0.4444444444444444,
              "#bd3786"
             ],
             [
              0.5555555555555556,
              "#d8576b"
             ],
             [
              0.6666666666666666,
              "#ed7953"
             ],
             [
              0.7777777777777778,
              "#fb9f3a"
             ],
             [
              0.8888888888888888,
              "#fdca26"
             ],
             [
              1,
              "#f0f921"
             ]
            ],
            "type": "histogram2d"
           }
          ],
          "histogram2dcontour": [
           {
            "colorbar": {
             "outlinewidth": 0,
             "ticks": ""
            },
            "colorscale": [
             [
              0,
              "#0d0887"
             ],
             [
              0.1111111111111111,
              "#46039f"
             ],
             [
              0.2222222222222222,
              "#7201a8"
             ],
             [
              0.3333333333333333,
              "#9c179e"
             ],
             [
              0.4444444444444444,
              "#bd3786"
             ],
             [
              0.5555555555555556,
              "#d8576b"
             ],
             [
              0.6666666666666666,
              "#ed7953"
             ],
             [
              0.7777777777777778,
              "#fb9f3a"
             ],
             [
              0.8888888888888888,
              "#fdca26"
             ],
             [
              1,
              "#f0f921"
             ]
            ],
            "type": "histogram2dcontour"
           }
          ],
          "mesh3d": [
           {
            "colorbar": {
             "outlinewidth": 0,
             "ticks": ""
            },
            "type": "mesh3d"
           }
          ],
          "parcoords": [
           {
            "line": {
             "colorbar": {
              "outlinewidth": 0,
              "ticks": ""
             }
            },
            "type": "parcoords"
           }
          ],
          "pie": [
           {
            "automargin": true,
            "type": "pie"
           }
          ],
          "scatter": [
           {
            "fillpattern": {
             "fillmode": "overlay",
             "size": 10,
             "solidity": 0.2
            },
            "type": "scatter"
           }
          ],
          "scatter3d": [
           {
            "line": {
             "colorbar": {
              "outlinewidth": 0,
              "ticks": ""
             }
            },
            "marker": {
             "colorbar": {
              "outlinewidth": 0,
              "ticks": ""
             }
            },
            "type": "scatter3d"
           }
          ],
          "scattercarpet": [
           {
            "marker": {
             "colorbar": {
              "outlinewidth": 0,
              "ticks": ""
             }
            },
            "type": "scattercarpet"
           }
          ],
          "scattergeo": [
           {
            "marker": {
             "colorbar": {
              "outlinewidth": 0,
              "ticks": ""
             }
            },
            "type": "scattergeo"
           }
          ],
          "scattergl": [
           {
            "marker": {
             "colorbar": {
              "outlinewidth": 0,
              "ticks": ""
             }
            },
            "type": "scattergl"
           }
          ],
          "scattermapbox": [
           {
            "marker": {
             "colorbar": {
              "outlinewidth": 0,
              "ticks": ""
             }
            },
            "type": "scattermapbox"
           }
          ],
          "scatterpolar": [
           {
            "marker": {
             "colorbar": {
              "outlinewidth": 0,
              "ticks": ""
             }
            },
            "type": "scatterpolar"
           }
          ],
          "scatterpolargl": [
           {
            "marker": {
             "colorbar": {
              "outlinewidth": 0,
              "ticks": ""
             }
            },
            "type": "scatterpolargl"
           }
          ],
          "scatterternary": [
           {
            "marker": {
             "colorbar": {
              "outlinewidth": 0,
              "ticks": ""
             }
            },
            "type": "scatterternary"
           }
          ],
          "surface": [
           {
            "colorbar": {
             "outlinewidth": 0,
             "ticks": ""
            },
            "colorscale": [
             [
              0,
              "#0d0887"
             ],
             [
              0.1111111111111111,
              "#46039f"
             ],
             [
              0.2222222222222222,
              "#7201a8"
             ],
             [
              0.3333333333333333,
              "#9c179e"
             ],
             [
              0.4444444444444444,
              "#bd3786"
             ],
             [
              0.5555555555555556,
              "#d8576b"
             ],
             [
              0.6666666666666666,
              "#ed7953"
             ],
             [
              0.7777777777777778,
              "#fb9f3a"
             ],
             [
              0.8888888888888888,
              "#fdca26"
             ],
             [
              1,
              "#f0f921"
             ]
            ],
            "type": "surface"
           }
          ],
          "table": [
           {
            "cells": {
             "fill": {
              "color": "#EBF0F8"
             },
             "line": {
              "color": "white"
             }
            },
            "header": {
             "fill": {
              "color": "#C8D4E3"
             },
             "line": {
              "color": "white"
             }
            },
            "type": "table"
           }
          ]
         },
         "layout": {
          "annotationdefaults": {
           "arrowcolor": "#2a3f5f",
           "arrowhead": 0,
           "arrowwidth": 1
          },
          "autotypenumbers": "strict",
          "coloraxis": {
           "colorbar": {
            "outlinewidth": 0,
            "ticks": ""
           }
          },
          "colorscale": {
           "diverging": [
            [
             0,
             "#8e0152"
            ],
            [
             0.1,
             "#c51b7d"
            ],
            [
             0.2,
             "#de77ae"
            ],
            [
             0.3,
             "#f1b6da"
            ],
            [
             0.4,
             "#fde0ef"
            ],
            [
             0.5,
             "#f7f7f7"
            ],
            [
             0.6,
             "#e6f5d0"
            ],
            [
             0.7,
             "#b8e186"
            ],
            [
             0.8,
             "#7fbc41"
            ],
            [
             0.9,
             "#4d9221"
            ],
            [
             1,
             "#276419"
            ]
           ],
           "sequential": [
            [
             0,
             "#0d0887"
            ],
            [
             0.1111111111111111,
             "#46039f"
            ],
            [
             0.2222222222222222,
             "#7201a8"
            ],
            [
             0.3333333333333333,
             "#9c179e"
            ],
            [
             0.4444444444444444,
             "#bd3786"
            ],
            [
             0.5555555555555556,
             "#d8576b"
            ],
            [
             0.6666666666666666,
             "#ed7953"
            ],
            [
             0.7777777777777778,
             "#fb9f3a"
            ],
            [
             0.8888888888888888,
             "#fdca26"
            ],
            [
             1,
             "#f0f921"
            ]
           ],
           "sequentialminus": [
            [
             0,
             "#0d0887"
            ],
            [
             0.1111111111111111,
             "#46039f"
            ],
            [
             0.2222222222222222,
             "#7201a8"
            ],
            [
             0.3333333333333333,
             "#9c179e"
            ],
            [
             0.4444444444444444,
             "#bd3786"
            ],
            [
             0.5555555555555556,
             "#d8576b"
            ],
            [
             0.6666666666666666,
             "#ed7953"
            ],
            [
             0.7777777777777778,
             "#fb9f3a"
            ],
            [
             0.8888888888888888,
             "#fdca26"
            ],
            [
             1,
             "#f0f921"
            ]
           ]
          },
          "colorway": [
           "#636efa",
           "#EF553B",
           "#00cc96",
           "#ab63fa",
           "#FFA15A",
           "#19d3f3",
           "#FF6692",
           "#B6E880",
           "#FF97FF",
           "#FECB52"
          ],
          "font": {
           "color": "#2a3f5f"
          },
          "geo": {
           "bgcolor": "white",
           "lakecolor": "white",
           "landcolor": "#E5ECF6",
           "showlakes": true,
           "showland": true,
           "subunitcolor": "white"
          },
          "hoverlabel": {
           "align": "left"
          },
          "hovermode": "closest",
          "mapbox": {
           "style": "light"
          },
          "paper_bgcolor": "white",
          "plot_bgcolor": "#E5ECF6",
          "polar": {
           "angularaxis": {
            "gridcolor": "white",
            "linecolor": "white",
            "ticks": ""
           },
           "bgcolor": "#E5ECF6",
           "radialaxis": {
            "gridcolor": "white",
            "linecolor": "white",
            "ticks": ""
           }
          },
          "scene": {
           "xaxis": {
            "backgroundcolor": "#E5ECF6",
            "gridcolor": "white",
            "gridwidth": 2,
            "linecolor": "white",
            "showbackground": true,
            "ticks": "",
            "zerolinecolor": "white"
           },
           "yaxis": {
            "backgroundcolor": "#E5ECF6",
            "gridcolor": "white",
            "gridwidth": 2,
            "linecolor": "white",
            "showbackground": true,
            "ticks": "",
            "zerolinecolor": "white"
           },
           "zaxis": {
            "backgroundcolor": "#E5ECF6",
            "gridcolor": "white",
            "gridwidth": 2,
            "linecolor": "white",
            "showbackground": true,
            "ticks": "",
            "zerolinecolor": "white"
           }
          },
          "shapedefaults": {
           "line": {
            "color": "#2a3f5f"
           }
          },
          "ternary": {
           "aaxis": {
            "gridcolor": "white",
            "linecolor": "white",
            "ticks": ""
           },
           "baxis": {
            "gridcolor": "white",
            "linecolor": "white",
            "ticks": ""
           },
           "bgcolor": "#E5ECF6",
           "caxis": {
            "gridcolor": "white",
            "linecolor": "white",
            "ticks": ""
           }
          },
          "title": {
           "x": 0.05
          },
          "xaxis": {
           "automargin": true,
           "gridcolor": "white",
           "linecolor": "white",
           "ticks": "",
           "title": {
            "standoff": 15
           },
           "zerolinecolor": "white",
           "zerolinewidth": 2
          },
          "yaxis": {
           "automargin": true,
           "gridcolor": "white",
           "linecolor": "white",
           "ticks": "",
           "title": {
            "standoff": 15
           },
           "zerolinecolor": "white",
           "zerolinewidth": 2
          }
         }
        }
       }
      }
     },
     "metadata": {},
     "output_type": "display_data"
    }
   ],
   "source": [
    "plot_beads(beads.values())"
   ]
  },
  {
   "cell_type": "code",
   "execution_count": null,
   "metadata": {},
   "outputs": [],
   "source": []
  }
 ],
 "metadata": {
  "kernelspec": {
   "display_name": "genome1",
   "language": "python",
   "name": "python3"
  },
  "language_info": {
   "codemirror_mode": {
    "name": "ipython",
    "version": 3
   },
   "file_extension": ".py",
   "mimetype": "text/x-python",
   "name": "python",
   "nbconvert_exporter": "python",
   "pygments_lexer": "ipython3",
   "version": "3.8.16"
  },
  "orig_nbformat": 4
 },
 "nbformat": 4,
 "nbformat_minor": 2
}
