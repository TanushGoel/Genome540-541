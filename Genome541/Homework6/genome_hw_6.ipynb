{
 "cells": [
  {
   "cell_type": "code",
   "execution_count": null,
   "metadata": {},
   "outputs": [],
   "source": [
    "import os\n",
    "PATH = \"/Users/tgoel/Downloads/Classes/GENOME/GENOME541/hw6/\"\n",
    "\n",
    "# os.listdir(PATH) --> ['yeast_chrom7_counts.txt', 'spiral_counts.txt', 'spiral_true_points.txt']"
   ]
  },
  {
   "cell_type": "code",
   "execution_count": null,
   "metadata": {},
   "outputs": [],
   "source": [
    "import pandas as pd\n",
    "\n",
    "def read_data(filename):\n",
    "    df = pd.read_csv(os.path.join(PATH + filename), sep='\\t')\n",
    "    df.columns = [\"bead1\", \"bead2\", \"counts\"]\n",
    "    df[\"distance\"] = 10**3 * df[\"counts\"].astype(\"float16\")**-3 # convert the Hi-C counts to distances using the conversion relationship\n",
    "    df.drop(columns=[\"counts\"], inplace=True)\n",
    "    bead_ids = pd.concat([df[\"bead1\"], df[\"bead2\"]]).unique()\n",
    "    return df, bead_ids\n",
    "\n",
    "data, ids = read_data(os.listdir(PATH)[0]) # includes only pairwise distances from significant Hi-C counts (FDR 1%)\n",
    "data"
   ]
  },
  {
   "cell_type": "code",
   "execution_count": null,
   "metadata": {},
   "outputs": [],
   "source": [
    "import numpy as np\n",
    "DIM3D = True # False for 2D, True for 3D\n",
    "\n",
    "class Bead():\n",
    "\n",
    "    def __init__(self, id, x, y, z):\n",
    "        self.id = id\n",
    "        self.x = x\n",
    "        self.y = y\n",
    "        self.z = z\n",
    "        self.history = [(x, y, z)]\n",
    "\n",
    "    def distance(self, bead):\n",
    "        if DIM3D:\n",
    "            return np.sqrt((self.x - bead.x)**2 + (self.y - bead.y)**2 + (self.z - bead.z)**2)\n",
    "        return np.sqrt((self.x - bead.x)**2 + (self.y - bead.y)**2)\n",
    "        \n",
    "    def update(self, x_step, y_step, z_step):\n",
    "        self.x += x_step\n",
    "        self.y += y_step\n",
    "        self.z += z_step\n",
    "        self.history.append((self.x, self.y, self.z))"
   ]
  },
  {
   "cell_type": "code",
   "execution_count": null,
   "metadata": {},
   "outputs": [],
   "source": [
    "# place beads randomly in 3D space\n",
    "def place_beads(bead_ids):\n",
    "    n_beads = len(bead_ids)\n",
    "    xs = np.random.rand(n_beads)\n",
    "    ys = np.random.rand(n_beads)\n",
    "    zs = np.random.rand(n_beads)\n",
    "    beads = [Bead(id, x, y, z) for id, x, y, z in zip(bead_ids, xs, ys, zs)]\n",
    "    return dict(zip(ids, beads)) # {bead_id: Bead object}\n",
    "\n",
    "beads = place_beads(ids)"
   ]
  },
  {
   "cell_type": "code",
   "execution_count": null,
   "metadata": {},
   "outputs": [],
   "source": [
    "import matplotlib.pyplot as plt\n",
    "import plotly.express as px\n",
    "\n",
    "def plot_beads(beads):\n",
    "    x, y, z = [bead.x for bead in beads], [bead.y for bead in beads], [bead.z for bead in beads]\n",
    "    if DIM3D == True:\n",
    "        px.scatter_3d(x=x, y=y, z=z, opacity=0.5).show()\n",
    "    else:\n",
    "        plt.scatter(x, y)\n",
    "\n",
    "plot_beads(beads.values())"
   ]
  },
  {
   "attachments": {},
   "cell_type": "markdown",
   "metadata": {},
   "source": [
    "Multidimensional Scaling (MDS) Objective Function:\n",
    "\n",
    "$f(\\boldsymbol{x}) = \\sum_{i,j \\in D}(\\delta_{ij} - ||\\boldsymbol{x}_i - \\boldsymbol{x}_j||_2)^2$\n",
    "\n",
    "$||\\boldsymbol{x}_i - \\boldsymbol{x}j||_2 = \\sqrt{\\sum_{k=1}^{K} (x_{ik} - x_{jk})^2}$\n",
    "\n",
    "$\\boldsymbol{x}_{ik}$ = inferred position of bead i in the kth dimension\n",
    "\n",
    "$K$ = number of dimensions\n",
    "\n",
    "$\\delta_{ij}$ = observed distance between beads i and j\n",
    "\n",
    "$D$ = set of pairs of beads with observed distances\n",
    "\n",
    "$\\frac{\\partial f(\\boldsymbol{x})}{\\partial x_{ik}} =$ ?"
   ]
  },
  {
   "attachments": {},
   "cell_type": "markdown",
   "metadata": {},
   "source": [
    "WORK:\n",
    "\n",
    "differentiate objective function with respect to $x_{ik}$:\n",
    "\n",
    "$\\frac{\\partial f(\\boldsymbol{x})}{\\partial x_{ik}} = \\frac{\\partial}{\\partial x_{ik}}\\sum_{i,j \\in D}(\\delta_{ij} - ||\\boldsymbol{x}_i - \\boldsymbol{x}_j||_2)^2$\n",
    "\n",
    "chain rule --> differentiate squared norm term:\n",
    "\n",
    "$(||\\boldsymbol{x}_i - \\boldsymbol{x}_j||_2)^2 = \\sum_{k=1}^{K}(x_{ik} - x_{jk})^2$\n",
    "\n",
    "$\\frac{\\partial}{\\partial x_{ik}} (||\\boldsymbol{x}_i - \\boldsymbol{x}_j||_2)^2 = \\frac{\\partial}{\\partial x_{ik}}\\sum_{l=1}^{K}(x_{il} - x_{jl})^2$\n",
    "\n",
    "$= 2(x_{ik} - x_{jk})$\n",
    "\n",
    "differentiate squared difference between observed and inferred distances:\n",
    "\n",
    "$\\frac{\\partial}{\\partial x_{ik}} (\\delta_{ij} - ||\\boldsymbol{x}_i - \\boldsymbol{x}_j||_2)^2 = -2(\\delta_{ij} - ||\\boldsymbol{x}_i - \\boldsymbol{x}j||_2)(x_{ik} - x_{jk})$\n",
    "\n",
    "final answer:\n",
    "\n",
    "$\\frac{\\partial f(\\boldsymbol{x})}{\\partial x_{ik}} = -2\\sum_{i, j \\in D}(\\delta_{ij} - ||\\boldsymbol{x}_i - \\boldsymbol{x}_j||_2)(x_{ik} - x_{jk})$"
   ]
  },
  {
   "cell_type": "code",
   "execution_count": null,
   "metadata": {},
   "outputs": [],
   "source": [
    "# optimize the multidimensional scaling objective function using gradient descent\n",
    "def step(lr=0.001):\n",
    "    \n",
    "    # calculate the pairwise distances between each bead\n",
    "    data[\"obs_dist\"] = data.apply(lambda row: beads[row[\"bead1\"]].distance(beads[row[\"bead2\"]]), axis=1)\n",
    "\n",
    "    # calculate the MDS objective function\n",
    "    diff = data[\"obs_dist\"].values - data[\"distance\"].values\n",
    "    obj = np.sum(diff ** 2)\n",
    "\n",
    "    # calculate the partial derivative of the MDS objective function with respect to the coordinates of each bead\n",
    "    data[\"dLdx\"] = data.apply(lambda row: -2 * np.sum(row[\"obs_dist\"] - row[\"distance\"]) * (beads[row[\"bead1\"]].x - beads[row[\"bead2\"]].x), axis=1)\n",
    "    data[\"dLdy\"] = data.apply(lambda row: -2 * np.sum(row[\"obs_dist\"] - row[\"distance\"]) * (beads[row[\"bead1\"]].y - beads[row[\"bead2\"]].y), axis=1)\n",
    "    data[\"dLdz\"] = data.apply(lambda row: -2 * np.sum(row[\"obs_dist\"] - row[\"distance\"]) * (beads[row[\"bead1\"]].z - beads[row[\"bead2\"]].z), axis=1)\n",
    "\n",
    "    # update the coordinates of each bead using gradient descent\n",
    "    for idx in range(len(data)):\n",
    "        row = data.loc[idx]\n",
    "        beads[row[\"bead1\"]].update(lr * row[\"dLdx\"], lr * row[\"dLdy\"], lr * row[\"dLdz\"])\n",
    "        beads[row[\"bead2\"]].update(-lr * row[\"dLdx\"], -lr * row[\"dLdy\"], -lr * row[\"dLdz\"])\n",
    "\n",
    "    return obj"
   ]
  },
  {
   "cell_type": "code",
   "execution_count": null,
   "metadata": {},
   "outputs": [],
   "source": [
    "# run gradient descent until convergence\n",
    "hist = []\n",
    "while True:\n",
    "    hist.append(step())\n",
    "    print(\"Loss:\", hist[-1])\n",
    "    if len(hist) > 1 and hist[-2] - hist[-1] < 0.001:\n",
    "        break"
   ]
  },
  {
   "cell_type": "code",
   "execution_count": null,
   "metadata": {},
   "outputs": [],
   "source": [
    "plot_beads(beads.values())"
   ]
  },
  {
   "cell_type": "code",
   "execution_count": null,
   "metadata": {},
   "outputs": [],
   "source": [
    "# track a random point\n",
    "point_hist = beads[np.random.choice(list(beads.keys()))].history\n",
    "px.scatter_3d(x=[h[0] for h in point_hist], y=[h[1] for h in point_hist], z=[h[2] for h in point_hist], opacity=0.5).show()"
   ]
  },
  {
   "cell_type": "code",
   "execution_count": null,
   "metadata": {},
   "outputs": [],
   "source": []
  }
 ],
 "metadata": {
  "kernelspec": {
   "display_name": "genome1",
   "language": "python",
   "name": "python3"
  },
  "language_info": {
   "codemirror_mode": {
    "name": "ipython",
    "version": 3
   },
   "file_extension": ".py",
   "mimetype": "text/x-python",
   "name": "python",
   "nbconvert_exporter": "python",
   "pygments_lexer": "ipython3",
   "version": "3.10.10"
  },
  "orig_nbformat": 4
 },
 "nbformat": 4,
 "nbformat_minor": 2
}
