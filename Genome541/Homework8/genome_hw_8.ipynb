{
 "cells": [
  {
   "cell_type": "code",
   "execution_count": 1,
   "metadata": {},
   "outputs": [],
   "source": [
    "# implement a copy number alteration (CNA) caller"
   ]
  },
  {
   "cell_type": "code",
   "execution_count": 2,
   "metadata": {},
   "outputs": [],
   "source": [
    "# 0. Setup the libraries and input data\n",
    "\n",
    "# 0.2 Load libraries\n",
    "import pandas as pd\n",
    "import numpy as np\n",
    "from matplotlib import pyplot as plt\n",
    "import statistics"
   ]
  },
  {
   "cell_type": "code",
   "execution_count": 3,
   "metadata": {},
   "outputs": [],
   "source": [
    "# 0.3 Load the input data\n",
    "LogRatios = pd.read_csv('/Users/tgoel/Downloads/Classes/GENOME/GENOME541/hw8/log2ratios_chr1.txt', sep='\\t')\n",
    "x = LogRatios['log2Ratio'].values\n",
    "copyNumberStates = np.array([1,2,3,4,5])\n",
    "K = len(copyNumberStates)"
   ]
  },
  {
   "cell_type": "code",
   "execution_count": 4,
   "metadata": {},
   "outputs": [],
   "source": [
    "# 0.4. Initialize model parameters and hyperparameters\n",
    "pi_init = np.array([0.1,0.6,0.1,0.1,0.1]) \n",
    "mu_init = np.log2(copyNumberStates/2) \n",
    "var_init = np.array([statistics.variance(x) for m in range(K)]) \n",
    "\n",
    "A_init = np.zeros([K,K]) \n",
    "for i in range(K):\n",
    "    A_init[i,] = (1-0.99999)/(K-1)\n",
    "    A_init[i,i] = 0.99999\n",
    "    \n",
    "deltaPi_hyper = [2,6,2,2,2]\n",
    "\n",
    "betaVar_hyper = np.array([1,1,1,1,1])\n",
    "alphaVar_hyper = betaVar_hyper/(statistics.variance(x)/np.sqrt(K))\n",
    "\n",
    "dirCounts = 100000\n",
    "deltaA_hyper = A_init * dirCounts"
   ]
  },
  {
   "cell_type": "code",
   "execution_count": 5,
   "metadata": {},
   "outputs": [],
   "source": [
    "# 1. Compute the Gaussian Emission Probabilities\n",
    "from scipy.stats import norm\n",
    "# 1.1. Define a function to compute the likelihood probabilities:\n",
    "def compute_gauss_lik(x, mu, var):\n",
    "    return np.array([norm.pdf(x, loc=m, scale=np.sqrt(v)) for m, v in zip(mu, var)])"
   ]
  },
  {
   "cell_type": "code",
   "execution_count": 6,
   "metadata": {},
   "outputs": [
    {
     "data": {
      "text/plain": [
       "(5, 411)"
      ]
     },
     "execution_count": 6,
     "metadata": {},
     "output_type": "execute_result"
    }
   ],
   "source": [
    "# 1.2. Compute the Gaussian likelihood\n",
    "gauss_lik = compute_gauss_lik(x, mu_init, var_init)\n",
    "gauss_lik.shape"
   ]
  },
  {
   "cell_type": "code",
   "execution_count": 7,
   "metadata": {},
   "outputs": [],
   "source": [
    "def forward_backward(pi, A, obs_lik):\n",
    "    \n",
    "    # initialize\n",
    "    Q,T = obs_lik.shape \n",
    "    scale = np.ones(T)\n",
    "    alpha = np.zeros([Q,T])\n",
    "\n",
    "    alpha[:,0] = obs_lik[:,0]*pi \n",
    "\n",
    "    scale[0] = sum(alpha[:,0])\n",
    "    alpha[:,0]=alpha[:,0]/scale[0]\n",
    "\n",
    "    # forward\n",
    "    for t in range(1,len(obs_lik.T)):\n",
    "        m = np.matmul(A.T,alpha[:,t-1])\n",
    "\n",
    "        alpha[:,t] = m * obs_lik[:,t]\n",
    "\n",
    "        scale[t] = sum(alpha[:,t]) \n",
    "        alpha[:,t]=alpha[:,t]/scale[t]\n",
    "\n",
    "    loglik = sum(np.log(scale))\n",
    "\n",
    "    # backward\n",
    "    beta = np.zeros([Q,T])\n",
    "    beta[:,T-1] = np.ones(Q)\n",
    "\n",
    "    rho = np.zeros([Q,T])\n",
    "    rho[:,T-1] = alpha[:,T-1]\n",
    "\n",
    "    xi   = np.zeros([Q,Q,T])\n",
    "\n",
    "    for t in reversed(range(0,T-1)):\n",
    "        b = beta[:,t+1] * obs_lik[:,t+1]\n",
    "\n",
    "        beta[:,t]=np.matmul(A,b)\n",
    "        beta[:,t]=beta[:,t]/sum(beta[:,t])\n",
    "\n",
    "        rho[:,t] = alpha[:,t] * beta[:,t]\n",
    "        rho[:,t]=rho[:,t]/sum(rho[:,t])\n",
    "\n",
    "        xi[:,:,t]= A * np.matmul(alpha[:,t].reshape(-1,1), b.reshape(-1,1).T) \n",
    "\n",
    "        xi[:,:,t] = xi[:,:,t]/sum(sum(xi[:,:,t]))\n",
    "\n",
    "    return (rho,xi,loglik)"
   ]
  },
  {
   "cell_type": "code",
   "execution_count": 8,
   "metadata": {},
   "outputs": [],
   "source": [
    "# 2.1. Compute the responsibilities in the E-Step\n",
    "rho, xi, loglik = forward_backward(pi_init, A_init, gauss_lik)"
   ]
  },
  {
   "cell_type": "code",
   "execution_count": 9,
   "metadata": {},
   "outputs": [],
   "source": [
    "# 2.2. Updating the initial state distribution parameter pi1:K in the M-Step \n",
    "    \n",
    "# 2.2.1. Write a function to update the initial state distribution parameter\n",
    "def update_pi(r, dp):\n",
    "    pi_hat = np.zeros(K)\n",
    "    for k in range(K):\n",
    "        pi_hat[k] = (r[k, 0] + dp[k] - 1) / np.sum(r[:, 0] + dp - 1)\n",
    "    return pi_hat"
   ]
  },
  {
   "cell_type": "code",
   "execution_count": 10,
   "metadata": {},
   "outputs": [
    {
     "data": {
      "text/plain": [
       "array([0.1       , 0.59999995, 0.10000004, 0.10000001, 0.1       ])"
      ]
     },
     "execution_count": 10,
     "metadata": {},
     "output_type": "execute_result"
    }
   ],
   "source": [
    "# 2.2.2. Compute pi_hat for the first iteration of EM\n",
    "pi_hat = update_pi(rho, deltaPi_hyper)\n",
    "pi_hat"
   ]
  },
  {
   "cell_type": "code",
   "execution_count": 11,
   "metadata": {},
   "outputs": [],
   "source": [
    "# 2.3. Updating the Gaussian mean parameter mu_1:K in the M-Step \n",
    "\n",
    "# 2.3.1. Write a function to update Gaussian mean parameter\n",
    "def update_mu(r, m, s):\n",
    "    numerator = s * np.array([np.sum(np.matmul(r[k], x)) + m[k]*s[k] for k in range(K)])\n",
    "    denominator = s * np.array([sum(r[k]) + s[k] for k in range(K)])\n",
    "    return  numerator/denominator"
   ]
  },
  {
   "cell_type": "code",
   "execution_count": 12,
   "metadata": {},
   "outputs": [
    {
     "data": {
      "text/plain": [
       "array([-0.73897431, -0.06455449,  0.41025507,  0.99997391,  1.32192462])"
      ]
     },
     "execution_count": 12,
     "metadata": {},
     "output_type": "execute_result"
    }
   ],
   "source": [
    "# 2.3.2. Compute mu_hat for the first iteration of EM\n",
    "mu_hat = update_mu(rho, mu_init, var_init)\n",
    "mu_hat"
   ]
  },
  {
   "cell_type": "code",
   "execution_count": 13,
   "metadata": {},
   "outputs": [],
   "source": [
    "# 2.4. Updating the Gaussian variance parameter in the M-Step\n",
    "\n",
    "# 2.4.1. Write a function to update Gaussian variance parameter\n",
    "def update_var(r, av, bv):\n",
    "    var_hat = np.zeros(K)\n",
    "    for k in range(K):\n",
    "        x_mean = np.sum(r[k] * x) / np.sum(r[k])\n",
    "        numerator = np.sum(r[k] * (x - x_mean)**2) + 2 * bv[k]\n",
    "        denominator = np.sum(r[k]) + 2 * (av[k] + 1)\n",
    "        var_hat[k] = numerator / denominator\n",
    "    return var_hat"
   ]
  },
  {
   "cell_type": "code",
   "execution_count": 14,
   "metadata": {},
   "outputs": [
    {
     "data": {
      "text/plain": [
       "array([0.065423  , 0.02591266, 0.04337017, 0.09182823, 0.09182825])"
      ]
     },
     "execution_count": 14,
     "metadata": {},
     "output_type": "execute_result"
    }
   ],
   "source": [
    "# 2.4.2. Compute the updated variance (var_hat) for the first iteration of EM\n",
    "var_hat = update_var(rho, alphaVar_hyper, betaVar_hyper)\n",
    "var_hat"
   ]
  },
  {
   "cell_type": "code",
   "execution_count": 15,
   "metadata": {},
   "outputs": [],
   "source": [
    "# 2.5. Updating the transition probabilities A in the M-Step \n",
    "\n",
    "# 2.5.1. Write a function to update the transition probabilities\n",
    "def update_A(xi, da):\n",
    "    A_hat = np.zeros((xi.shape[0], xi.shape[0]))\n",
    "    for t in range(xi.shape[-1]-1):\n",
    "        A_hat += xi[:, :, t]\n",
    "    A_hat += da\n",
    "    A_hat /= np.sum(A_hat, axis=1, keepdims=True)\n",
    "    return A_hat"
   ]
  },
  {
   "cell_type": "code",
   "execution_count": 16,
   "metadata": {},
   "outputs": [
    {
     "data": {
      "text/plain": [
       "array([[9.99980017e-01, 3.79099447e-06, 1.11962291e-05, 2.49788535e-06,\n",
       "        2.49787298e-06],\n",
       "       [1.24825165e-05, 9.99978736e-01, 3.78888223e-06, 2.49648798e-06,\n",
       "        2.49648435e-06],\n",
       "       [1.24769357e-05, 2.49552280e-06, 9.99980037e-01, 2.49543219e-06,\n",
       "        2.49541377e-06],\n",
       "       [2.50002212e-06, 2.50000109e-06, 2.50001795e-06, 9.99990000e-01,\n",
       "        2.50000000e-06],\n",
       "       [2.50000292e-06, 2.50000020e-06, 2.50000294e-06, 2.50000000e-06,\n",
       "        9.99990000e-01]])"
      ]
     },
     "execution_count": 16,
     "metadata": {},
     "output_type": "execute_result"
    }
   ],
   "source": [
    "# 2.5.2. Compute A_hat for the first iteration of EM\n",
    "A_hat = update_A(xi, deltaA_hyper)\n",
    "A_hat"
   ]
  },
  {
   "cell_type": "code",
   "execution_count": 17,
   "metadata": {},
   "outputs": [],
   "source": [
    "# 2.6. Compute the log posterior\n",
    "# 2.6.1. Write a function, compute_log_posterior, to compute the log posterior distribution\n",
    "from scipy.stats import dirichlet, norm, invgamma\n",
    "def compute_log_posterior(loglik, pi_hat, mu_hat, var_hat, A_hat):\n",
    "\n",
    "    # log prior for pi\n",
    "    dirichlet_prior = dirichlet.logpdf(pi_hat, deltaPi_hyper)\n",
    "\n",
    "    # log prior for mu\n",
    "    mu_prior = np.sum(norm.logpdf(mu_hat, loc=mu_init, scale=var_init))\n",
    "\n",
    "    # log prior for variance sigma\n",
    "    var_prior = np.sum(invgamma.logpdf(var_hat**2, a=alphaVar_hyper, scale=betaVar_hyper))\n",
    "\n",
    "    # log prior for transition probabilities A\n",
    "    dirichlet_prior_A = np.sum([dirichlet.logpdf(A_hat[k], deltaA_hyper[k]) for k in range(K)])\n",
    "\n",
    "    # log posterior\n",
    "    log_posterior = loglik + dirichlet_prior + mu_prior + var_prior + dirichlet_prior_A\n",
    "\n",
    "    return log_posterior"
   ]
  },
  {
   "cell_type": "code",
   "execution_count": 18,
   "metadata": {},
   "outputs": [
    {
     "data": {
      "text/plain": [
       "-2190.681466379619"
      ]
     },
     "execution_count": 18,
     "metadata": {},
     "output_type": "execute_result"
    }
   ],
   "source": [
    "# 2.6.2. Compute the log posterior for the input data\n",
    "log_posterior = compute_log_posterior(loglik, pi_hat, mu_hat, var_hat, A_hat)\n",
    "log_posterior"
   ]
  },
  {
   "cell_type": "code",
   "execution_count": 19,
   "metadata": {},
   "outputs": [
    {
     "name": "stdout",
     "output_type": "stream",
     "text": [
      "-2190.681466379619\n",
      "-2607.4383601003888\n",
      "-2639.939551931819\n",
      "-2664.1606563970795\n",
      "-2743.62071066921\n",
      "-2846.4154281382566\n",
      "-3004.319612749681\n",
      "-3041.745212812041\n",
      "-3046.999283635826\n",
      "-3048.373501270937\n",
      "-3048.725995989308\n",
      "-3048.8181709569863\n",
      "-3048.842754752952\n",
      "-3048.849446589224\n",
      "-3048.8513225023594\n",
      "-3048.8518851806584\n",
      "-3048.8520873773523\n",
      "-3048.8521915849265\n",
      "-3048.8522709134004\n"
     ]
    }
   ],
   "source": [
    "# 3. Learn the HMM Parameters and Predict the Copy Number Segments\n",
    "def iterate(mu, var, pi, A):\n",
    "\n",
    "    # E-step\n",
    "    gauss_lik = compute_gauss_lik(x, mu, var)\n",
    "    rho, xi, loglik = forward_backward(pi, A, gauss_lik)\n",
    "    \n",
    "    # M-step\n",
    "    pi_hat = update_pi(rho, deltaPi_hyper)\n",
    "    mu_hat = update_mu(rho, mu, var)\n",
    "    var_hat = update_var(rho, alphaVar_hyper, betaVar_hyper)\n",
    "    A_hat = update_A(xi, deltaA_hyper)\n",
    "    \n",
    "    # log posterior\n",
    "    log_posterior = compute_log_posterior(loglik, pi_hat, mu_hat, var_hat, A_hat)\n",
    "    \n",
    "    return (mu_hat, var_hat, pi_hat, A_hat, gauss_lik, log_posterior)\n",
    "\n",
    "mu, var, pi, A = mu_init, var_init, pi_init, A_init\n",
    "last_log_posterior, log_posterior = np.inf, -np.inf\n",
    "while abs(last_log_posterior - log_posterior) > 0.0001:\n",
    "    last_log_posterior = log_posterior\n",
    "    mu, var, pi, A, obs_lik, log_posterior = iterate(mu, var, pi, A)\n",
    "    print(log_posterior)"
   ]
  },
  {
   "cell_type": "code",
   "execution_count": 20,
   "metadata": {},
   "outputs": [
    {
     "name": "stdout",
     "output_type": "stream",
     "text": [
      "mu_hat:  [-1.          0.          0.5849625   1.          1.32192809]\n",
      "var_hat:  [0.22609624 0.22609624 0.22609624 0.22609624 0.22609624]\n",
      "pi_hat:  [0.1 0.6 0.1 0.1 0.1]\n",
      "A_hat:  [[9.9999e-01 2.5000e-06 2.5000e-06 2.5000e-06 2.5000e-06]\n",
      " [2.5000e-06 9.9999e-01 2.5000e-06 2.5000e-06 2.5000e-06]\n",
      " [2.5000e-06 2.5000e-06 9.9999e-01 2.5000e-06 2.5000e-06]\n",
      " [2.5000e-06 2.5000e-06 2.5000e-06 9.9999e-01 2.5000e-06]\n",
      " [2.5000e-06 2.5000e-06 2.5000e-06 2.5000e-06 9.9999e-01]]\n"
     ]
    }
   ],
   "source": [
    "print(\"mu_hat: \", mu_init)\n",
    "print(\"var_hat: \", var_init)\n",
    "print(\"pi_hat: \", pi_init)\n",
    "print(\"A_hat: \", A_init)"
   ]
  },
  {
   "cell_type": "code",
   "execution_count": 21,
   "metadata": {},
   "outputs": [
    {
     "name": "stdout",
     "output_type": "stream",
     "text": [
      "(5, 411)\n"
     ]
    }
   ],
   "source": [
    "print(obs_lik.shape)"
   ]
  },
  {
   "cell_type": "code",
   "execution_count": 22,
   "metadata": {},
   "outputs": [],
   "source": [
    "def viterbi(log_pi, log_A, log_obs_lik):\n",
    "    Q,T = log_obs_lik.shape\n",
    "    \n",
    "    delta = np.zeros([Q,T])\n",
    "    psi = np.zeros([Q,T])\n",
    "    path = np.zeros(T)\n",
    "\n",
    "    delta[:,0] = log_pi + log_obs_lik[:,0] \n",
    "    \n",
    "    psi[:,0] = 0\n",
    "    \n",
    "    # forward\n",
    "    for t in range(1,T): \n",
    "        for j in range(0,Q):\n",
    "            \n",
    "            delta[j,t] = np.max(delta[:,t-1] + log_A[:,j])\n",
    "            \n",
    "            psi[j,t] = np.argmax(delta[:,t-1] + log_A[:,j])\n",
    "            \n",
    "            delta[j,t] = delta[j,t] + log_obs_lik[j,t]\n",
    "\n",
    "    path = delta.argmax(axis=0)\n",
    "\n",
    "    # backwards\n",
    "    for t in reversed(range(0,T-1)): \n",
    "        path[t] = psi[path[t+1],t+1]         \n",
    "\n",
    "    return(path)"
   ]
  },
  {
   "cell_type": "code",
   "execution_count": 23,
   "metadata": {},
   "outputs": [
    {
     "name": "stdout",
     "output_type": "stream",
     "text": [
      "[1 1 1 1 1 1 1 1 1 1 1 1 1 1 1 1 1 1 1 1 1 1 1 1 1 1 1 1 1 1 1 1 1 1 1 1 1\n",
      " 1 1 1 1 1 1 1 1 1 1 1 1 1 1 1 1 1 1 1 1 1 1 1 1 1 1 1 1 1 1 1 1 1 1 1 1 1\n",
      " 1 1 1 1 1 1 1 1 1 1 1 1 1 1 1 1 1 1 1 1 1 1 1 1 1 1 1 1 1 1 1 1 1 1 1 1 1\n",
      " 1 1 1 1 1 1 1 1 1 1 1 1 1 1 1 1 1 1 1 1 1 1 1 1 1 1 1 0 0 0 0 0 0 0 0 0 0\n",
      " 0 0 0 0 0 0 0 0 0 0 0 0 0 0 0 0 0 0 0 0 0 0 0 0 0 0 0 0 0 0 0 0 0 0 0 0 0\n",
      " 0 0 0 0 0 0 0 0 0 0 0 0 0 0 0 1 1 1 1 1 1 0 0 0 0 0 2 2 2 2 2 1 1 1 1 1 1\n",
      " 1 1 2 2 2 2 2 2 2 2 2 2 2 2 2 2 2 2 2 2 2 2 2 2 2 2 2 2 2 2 2 2 2 2 2 2 2\n",
      " 2 2 2 2 2 2 2 2 2 2 2 2 2 2 2 2 2 2 2 2 2 2 2 2 2 2 2 2 2 2 2 2 2 2 2 2 2\n",
      " 2 2 2 2 2 2 2 2 2 2 2 2 2 2 2 2 2 2 2 2 2 2 2 2 2 2 2 2 2 2 2 2 2 2 2 2 2\n",
      " 2 2 2 2 2 2 2 2 2 2 2 2 2 2 2 2 2 2 2 2 2 2 2 2 2 2 2 2 2 2 2 2 2 2 2 2 2\n",
      " 2 2 2 2 2 2 2 2 2 2 2 2 2 2 2 2 2 2 2 2 2 2 2 2 2 2 2 0 0 0 0 0 0 0 0 0 0\n",
      " 0 0 0 0]\n"
     ]
    }
   ],
   "source": [
    "# 3.2. Determine the copy number segments using the Viterbi algorithm\n",
    "path = viterbi(np.log(pi_init), np.log(A_init), np.log(obs_lik))\n",
    "print(path)"
   ]
  },
  {
   "cell_type": "code",
   "execution_count": 24,
   "metadata": {},
   "outputs": [],
   "source": [
    "# 4.1. Implement the function to calculate power\n",
    "import scipy\n",
    "def computePower(depth, alpha, M=1, c=2): # multiplicity = 1, copy number = 2\n",
    "    mu = (alpha * M) / (alpha * c + 2 * (1 - alpha))\n",
    "    return scipy.stats.binomtest(3, n=depth, p=mu, alternative='greater').pvalue # power to detect >=3 variant reads"
   ]
  },
  {
   "cell_type": "code",
   "execution_count": 25,
   "metadata": {},
   "outputs": [
    {
     "data": {
      "text/plain": [
       "0.7771918756605969"
      ]
     },
     "execution_count": 25,
     "metadata": {},
     "output_type": "execute_result"
    }
   ],
   "source": [
    "# 4.2. What is the power for depth N=40 and tumor fraction alpha=0.2\n",
    "computePower(depth=40, alpha=0.2)"
   ]
  },
  {
   "cell_type": "code",
   "execution_count": 26,
   "metadata": {},
   "outputs": [
    {
     "data": {
      "image/png": "[encoded data removed]",
      "text/plain": [
       "<Figure size 640x480 with 1 Axes>"
      ]
     },
     "metadata": {},
     "output_type": "display_data"
    }
   ],
   "source": [
    "# 4.3. Plot a graph of the power estimates (y-axis) for a range of tumor fractions (x-axis)\n",
    "plt.plot(np.arange(0.01, 1, 0.01), [computePower(depth=40, alpha=a) for a in np.arange(0.01, 1, 0.01)])\n",
    "plt.xlabel(\"Tumor Fraction\")\n",
    "plt.ylabel(\"Power\")\n",
    "plt.show()"
   ]
  },
  {
   "cell_type": "code",
   "execution_count": 27,
   "metadata": {},
   "outputs": [
    {
     "data": {
      "image/png": "[encoded data removed]",
      "text/plain": [
       "<Figure size 640x480 with 1 Axes>"
      ]
     },
     "metadata": {},
     "output_type": "display_data"
    }
   ],
   "source": [
    "# 4.4. Plot a graph of the power (y-axis) required for a range of read depths (x-axis)\n",
    "plt.plot(np.arange(3, 100, 1), [computePower(depth=d, alpha=0.2) for d in np.arange(3, 100, 1)])\n",
    "plt.xlabel(\"Read Depth\")\n",
    "plt.ylabel(\"Power\")\n",
    "plt.show()"
   ]
  },
  {
   "cell_type": "code",
   "execution_count": 28,
   "metadata": {},
   "outputs": [
    {
     "name": "stdout",
     "output_type": "stream",
     "text": [
      "Minimum Depth: 85\n"
     ]
    }
   ],
   "source": [
    "# 4.5. What is the minimum depth required for tumor fraction alpha=0.1 and desired power>=0.8?\n",
    "print(\"Minimum Depth:\", np.arange(3, 100, 1)[np.array([computePower(depth=d, alpha=0.1) for d in np.arange(3, 100, 1)]) >= 0.8][0])"
   ]
  },
  {
   "cell_type": "code",
   "execution_count": null,
   "metadata": {},
   "outputs": [],
   "source": []
  }
 ],
 "metadata": {
  "kernelspec": {
   "display_name": "Python 3",
   "language": "python",
   "name": "python3"
  },
  "language_info": {
   "codemirror_mode": {
    "name": "ipython",
    "version": 3
   },
   "file_extension": ".py",
   "mimetype": "text/x-python",
   "name": "python",
   "nbconvert_exporter": "python",
   "pygments_lexer": "ipython3",
   "version": "3.8.16"
  }
 },
 "nbformat": 4,
 "nbformat_minor": 4
}
